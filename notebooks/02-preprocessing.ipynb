{
 "cells": [
  {
   "cell_type": "markdown",
   "id": "d8670d24",
   "metadata": {},
   "source": [
    "# 02 - Data Preprocessing and Feature Engineering\n",
    "\n",
    "This notebook performs comprehensive data preprocessing and feature engineering for the financial news sentiment analysis project.\n",
    "\n",
    "## Objectives:\n",
    "1. Clean and preprocess raw stock and news data\n",
    "2. Implement sentiment analysis on news articles\n",
    "3. Engineer technical indicators and market features\n",
    "4. Create time-based and lag features\n",
    "5. Prepare datasets for machine learning models\n",
    "6. Save processed data for model training"
   ]
  },
  {
   "cell_type": "code",
   "execution_count": 4,
   "id": "091b3ec9",
   "metadata": {},
   "outputs": [
    {
     "name": "stdout",
     "output_type": "stream",
     "text": [
      "Libraries imported successfully!\n"
     ]
    }
   ],
   "source": [
    "# Import required libraries\n",
    "import pandas as pd\n",
    "import numpy as np\n",
    "import matplotlib.pyplot as plt\n",
    "import seaborn as sns\n",
    "import warnings\n",
    "import os\n",
    "import sys\n",
    "from datetime import datetime, timedelta\n",
    "from sklearn.preprocessing import StandardScaler, LabelEncoder\n",
    "from sklearn.model_selection import train_test_split\n",
    "\n",
    "# Add src to path for imports\n",
    "sys.path.append('../src')\n",
    "\n",
    "# Configure plotting and warnings\n",
    "plt.style.use('seaborn-v0_8')\n",
    "warnings.filterwarnings('ignore')\n",
    "pd.set_option('display.max_columns', None)\n",
    "\n",
    "print(\"Libraries imported successfully!\")"
   ]
  },
  {
   "cell_type": "code",
   "execution_count": 5,
   "id": "c6941f8f",
   "metadata": {},
   "outputs": [
    {
     "name": "stdout",
     "output_type": "stream",
     "text": [
      "Requirement already satisfied: vaderSentiment in c:\\users\\tifek\\appdata\\local\\programs\\python\\python311\\lib\\site-packages (3.3.2)\n",
      "Requirement already satisfied: textblob in c:\\users\\tifek\\appdata\\local\\programs\\python\\python311\\lib\\site-packages (0.19.0)\n",
      "Requirement already satisfied: transformers in c:\\users\\tifek\\appdata\\local\\programs\\python\\python311\\lib\\site-packages (4.56.0)\n",
      "Requirement already satisfied: torch in c:\\users\\tifek\\appdata\\local\\programs\\python\\python311\\lib\\site-packages (2.8.0)\n",
      "Requirement already satisfied: requests in c:\\users\\tifek\\appdata\\local\\programs\\python\\python311\\lib\\site-packages (from vaderSentiment) (2.32.4)\n",
      "Requirement already satisfied: nltk>=3.9 in c:\\users\\tifek\\appdata\\local\\programs\\python\\python311\\lib\\site-packages (from textblob) (3.9.1)\n",
      "Requirement already satisfied: filelock in c:\\users\\tifek\\appdata\\local\\programs\\python\\python311\\lib\\site-packages (from transformers) (3.18.0)\n",
      "Requirement already satisfied: huggingface-hub<1.0,>=0.34.0 in c:\\users\\tifek\\appdata\\local\\programs\\python\\python311\\lib\\site-packages (from transformers) (0.34.4)\n",
      "Requirement already satisfied: numpy>=1.17 in c:\\users\\tifek\\appdata\\local\\programs\\python\\python311\\lib\\site-packages (from transformers) (2.2.6)\n",
      "Requirement already satisfied: packaging>=20.0 in c:\\users\\tifek\\appdata\\local\\programs\\python\\python311\\lib\\site-packages (from transformers) (25.0)\n",
      "Requirement already satisfied: pyyaml>=5.1 in c:\\users\\tifek\\appdata\\local\\programs\\python\\python311\\lib\\site-packages (from transformers) (6.0.2)\n",
      "Requirement already satisfied: regex!=2019.12.17 in c:\\users\\tifek\\appdata\\local\\programs\\python\\python311\\lib\\site-packages (from transformers) (2025.8.29)\n",
      "Requirement already satisfied: tokenizers<=0.23.0,>=0.22.0 in c:\\users\\tifek\\appdata\\local\\programs\\python\\python311\\lib\\site-packages (from transformers) (0.22.0)\n",
      "Requirement already satisfied: safetensors>=0.4.3 in c:\\users\\tifek\\appdata\\local\\programs\\python\\python311\\lib\\site-packages (from transformers) (0.6.2)\n",
      "Requirement already satisfied: tqdm>=4.27 in c:\\users\\tifek\\appdata\\local\\programs\\python\\python311\\lib\\site-packages (from transformers) (4.67.1)\n",
      "Requirement already satisfied: fsspec>=2023.5.0 in c:\\users\\tifek\\appdata\\local\\programs\\python\\python311\\lib\\site-packages (from huggingface-hub<1.0,>=0.34.0->transformers) (2025.7.0)\n",
      "Requirement already satisfied: typing-extensions>=3.7.4.3 in c:\\users\\tifek\\appdata\\local\\programs\\python\\python311\\lib\\site-packages (from huggingface-hub<1.0,>=0.34.0->transformers) (4.14.1)\n",
      "Requirement already satisfied: sympy>=1.13.3 in c:\\users\\tifek\\appdata\\local\\programs\\python\\python311\\lib\\site-packages (from torch) (1.14.0)\n",
      "Requirement already satisfied: networkx in c:\\users\\tifek\\appdata\\local\\programs\\python\\python311\\lib\\site-packages (from torch) (3.5)\n",
      "Requirement already satisfied: jinja2 in c:\\users\\tifek\\appdata\\local\\programs\\python\\python311\\lib\\site-packages (from torch) (3.1.6)\n",
      "Requirement already satisfied: click in c:\\users\\tifek\\appdata\\local\\programs\\python\\python311\\lib\\site-packages (from nltk>=3.9->textblob) (8.2.1)\n",
      "Requirement already satisfied: joblib in c:\\users\\tifek\\appdata\\local\\programs\\python\\python311\\lib\\site-packages (from nltk>=3.9->textblob) (1.5.1)\n",
      "Requirement already satisfied: mpmath<1.4,>=1.1.0 in c:\\users\\tifek\\appdata\\local\\programs\\python\\python311\\lib\\site-packages (from sympy>=1.13.3->torch) (1.3.0)\n",
      "Requirement already satisfied: colorama in c:\\users\\tifek\\appdata\\local\\programs\\python\\python311\\lib\\site-packages (from tqdm>=4.27->transformers) (0.4.6)\n",
      "Requirement already satisfied: MarkupSafe>=2.0 in c:\\users\\tifek\\appdata\\local\\programs\\python\\python311\\lib\\site-packages (from jinja2->torch) (3.0.2)\n",
      "Requirement already satisfied: charset_normalizer<4,>=2 in c:\\users\\tifek\\appdata\\local\\programs\\python\\python311\\lib\\site-packages (from requests->vaderSentiment) (3.4.2)\n",
      "Requirement already satisfied: idna<4,>=2.5 in c:\\users\\tifek\\appdata\\local\\programs\\python\\python311\\lib\\site-packages (from requests->vaderSentiment) (3.10)\n",
      "Requirement already satisfied: urllib3<3,>=1.21.1 in c:\\users\\tifek\\appdata\\local\\programs\\python\\python311\\lib\\site-packages (from requests->vaderSentiment) (2.5.0)\n",
      "Requirement already satisfied: certifi>=2017.4.17 in c:\\users\\tifek\\appdata\\local\\programs\\python\\python311\\lib\\site-packages (from requests->vaderSentiment) (2025.8.3)\n",
      "Note: you may need to restart the kernel to use updated packages.\n"
     ]
    }
   ],
   "source": [
    "# Install required packages for sentiment analysis\n",
    "%pip install vaderSentiment textblob transformers torch"
   ]
  },
  {
   "cell_type": "markdown",
   "id": "8d6f67fe",
   "metadata": {},
   "source": [
    "## 1. Load Raw Data"
   ]
  },
  {
   "cell_type": "code",
   "execution_count": 6,
   "id": "f5391157",
   "metadata": {},
   "outputs": [
    {
     "name": "stdout",
     "output_type": "stream",
     "text": [
      "âœ… Data loaded successfully!\n",
      "Stock data shape: (1536, 10)\n",
      "News data shape: (485, 9)\n"
     ]
    }
   ],
   "source": [
    "# Load the data from previous notebook\n",
    "DATA_PATH = '../data/raw/'\n",
    "PROCESSED_PATH = '../data/processed/'\n",
    "\n",
    "# Create processed directory if it doesn't exist\n",
    "os.makedirs(PROCESSED_PATH, exist_ok=True)\n",
    "\n",
    "# Load raw data\n",
    "try:\n",
    "    stock_df = pd.read_csv(DATA_PATH + 'stock_prices.csv')\n",
    "    news_df = pd.read_csv(DATA_PATH + 'combined_news.csv')\n",
    "    print(f\"âœ… Data loaded successfully!\")\n",
    "    print(f\"Stock data shape: {stock_df.shape}\")\n",
    "    print(f\"News data shape: {news_df.shape}\")\n",
    "except FileNotFoundError:\n",
    "    print(\"âŒ Raw data not found. Please run notebook 01-data-exploration.ipynb first.\")\n",
    "    raise"
   ]
  },
  {
   "cell_type": "markdown",
   "id": "2eb54034",
   "metadata": {},
   "source": [
    "## 2. Data Cleaning and Preprocessing"
   ]
  },
  {
   "cell_type": "code",
   "execution_count": 7,
   "id": "0d1f21e6",
   "metadata": {},
   "outputs": [
    {
     "name": "stdout",
     "output_type": "stream",
     "text": [
      "=== CLEANING STOCK DATA ===\n",
      "Removed 0 duplicate stock entries\n",
      "âœ… Stock data cleaned: 1536 rows remaining\n"
     ]
    }
   ],
   "source": [
    "# Clean stock data\n",
    "print(\"=== CLEANING STOCK DATA ===\")\n",
    "\n",
    "# Convert date column\n",
    "stock_df['date'] = pd.to_datetime(stock_df['date'])\n",
    "\n",
    "# Remove any duplicate entries\n",
    "initial_count = len(stock_df)\n",
    "stock_df = stock_df.drop_duplicates(subset=['ticker', 'date'])\n",
    "print(f\"Removed {initial_count - len(stock_df)} duplicate stock entries\")\n",
    "\n",
    "# Remove any invalid price data\n",
    "invalid_mask = (stock_df[['open', 'high', 'low', 'close']] <= 0).any(axis=1)\n",
    "if invalid_mask.sum() > 0:\n",
    "    print(f\"Removing {invalid_mask.sum()} rows with invalid prices\")\n",
    "    stock_df = stock_df[~invalid_mask]\n",
    "\n",
    "# Sort by ticker and date\n",
    "stock_df = stock_df.sort_values(['ticker', 'date']).reset_index(drop=True)\n",
    "\n",
    "print(f\"âœ… Stock data cleaned: {len(stock_df)} rows remaining\")"
   ]
  },
  {
   "cell_type": "code",
   "execution_count": 8,
   "id": "0febf699",
   "metadata": {},
   "outputs": [
    {
     "name": "stdout",
     "output_type": "stream",
     "text": [
      "=== CLEANING NEWS DATA ===\n",
      "Removed 0 duplicate news entries\n",
      "âœ… News data cleaned: 485 articles remaining\n"
     ]
    }
   ],
   "source": [
    "# Clean news data\n",
    "print(\"=== CLEANING NEWS DATA ===\")\n",
    "\n",
    "# Convert timestamp column\n",
    "news_df['timestamp'] = pd.to_datetime(news_df['timestamp'])\n",
    "\n",
    "# Remove any duplicate articles\n",
    "initial_count = len(news_df)\n",
    "news_df = news_df.drop_duplicates(subset=['ticker', 'headline', 'timestamp'])\n",
    "print(f\"Removed {initial_count - len(news_df)} duplicate news entries\")\n",
    "\n",
    "# Remove articles with missing headlines or content\n",
    "missing_mask = news_df[['headline', 'content']].isnull().any(axis=1)\n",
    "if missing_mask.sum() > 0:\n",
    "    print(f\"Removing {missing_mask.sum()} articles with missing headline/content\")\n",
    "    news_df = news_df[~missing_mask]\n",
    "\n",
    "# Clean text data\n",
    "news_df['headline'] = news_df['headline'].str.strip()\n",
    "news_df['content'] = news_df['content'].str.strip()\n",
    "\n",
    "# Add date column for easier merging\n",
    "news_df['date'] = news_df['timestamp'].dt.date\n",
    "\n",
    "print(f\"âœ… News data cleaned: {len(news_df)} articles remaining\")"
   ]
  },
  {
   "cell_type": "markdown",
   "id": "5cdcbd52",
   "metadata": {},
   "source": [
    "## 3. Sentiment Analysis Implementation"
   ]
  },
  {
   "cell_type": "code",
   "execution_count": 9,
   "id": "9166cbcc",
   "metadata": {},
   "outputs": [
    {
     "name": "stdout",
     "output_type": "stream",
     "text": [
      "=== PERFORMING SENTIMENT ANALYSIS ===\n",
      "Analyzing headline sentiment...\n",
      "Analyzing headline sentiment...\n",
      "âœ… Headline sentiment analysis completed\n",
      "âœ… Headline sentiment analysis completed\n"
     ]
    }
   ],
   "source": [
    "# Import sentiment analysis tools\n",
    "from features.sentiment_analysis import FinancialSentimentAnalyzer\n",
    "\n",
    "print(\"=== PERFORMING SENTIMENT ANALYSIS ===\")\n",
    "\n",
    "# Initialize sentiment analyzer\n",
    "analyzer = FinancialSentimentAnalyzer()\n",
    "\n",
    "# Analyze headlines\n",
    "print(\"Analyzing headline sentiment...\")\n",
    "headline_sentiment = news_df['headline'].apply(analyzer.analyze_text)\n",
    "\n",
    "# Extract individual sentiment scores based on actual structure\n",
    "news_df['headline_vader_pos'] = headline_sentiment.apply(lambda x: x['vader_positive'])\n",
    "news_df['headline_vader_neu'] = headline_sentiment.apply(lambda x: x['vader_neutral'])\n",
    "news_df['headline_vader_neg'] = headline_sentiment.apply(lambda x: x['vader_negative'])\n",
    "news_df['headline_vader_compound'] = headline_sentiment.apply(lambda x: x['vader_compound'])\n",
    "\n",
    "news_df['headline_textblob_polarity'] = headline_sentiment.apply(lambda x: x['textblob_polarity'])\n",
    "news_df['headline_textblob_subjectivity'] = headline_sentiment.apply(lambda x: x['textblob_subjectivity'])\n",
    "\n",
    "news_df['headline_finbert_positive'] = headline_sentiment.apply(lambda x: x['finbert_positive'])\n",
    "news_df['headline_finbert_negative'] = headline_sentiment.apply(lambda x: x['finbert_negative'])\n",
    "news_df['headline_finbert_neutral'] = headline_sentiment.apply(lambda x: x['finbert_neutral'])\n",
    "\n",
    "# Extract additional features\n",
    "news_df['headline_finance_positive_count'] = headline_sentiment.apply(lambda x: x['finance_positive_count'])\n",
    "news_df['headline_finance_negative_count'] = headline_sentiment.apply(lambda x: x['finance_negative_count'])\n",
    "news_df['headline_finance_sentiment_ratio'] = headline_sentiment.apply(lambda x: x['finance_sentiment_ratio'])\n",
    "news_df['headline_composite_sentiment'] = headline_sentiment.apply(lambda x: x['composite_sentiment'])\n",
    "\n",
    "print(\"âœ… Headline sentiment analysis completed\")"
   ]
  },
  {
   "cell_type": "code",
   "execution_count": 10,
   "id": "ce124c71",
   "metadata": {},
   "outputs": [
    {
     "name": "stdout",
     "output_type": "stream",
     "text": [
      "Analyzing content sentiment (sample)...\n",
      "âœ… Content sentiment analysis completed (sampled 100 articles)\n",
      "âœ… Content sentiment analysis completed (sampled 100 articles)\n"
     ]
    }
   ],
   "source": [
    "# Analyze content sentiment (sample only for performance)\n",
    "print(\"Analyzing content sentiment (sample)...\")\n",
    "\n",
    "# Take a sample for content analysis to manage computational load\n",
    "sample_size = min(len(news_df), 100)\n",
    "sample_indices = np.random.choice(len(news_df), sample_size, replace=False)\n",
    "content_sample = news_df.iloc[sample_indices].copy()\n",
    "\n",
    "content_sentiment = content_sample['content'].apply(analyzer.analyze_text)\n",
    "\n",
    "# Create content sentiment columns with default values (use headline sentiment as proxy for non-sampled)\n",
    "news_df['content_vader_compound'] = news_df['headline_vader_compound']  \n",
    "news_df['content_textblob_polarity'] = news_df['headline_textblob_polarity']  \n",
    "news_df['content_finbert_positive'] = news_df['headline_finbert_positive']  \n",
    "news_df['content_composite_sentiment'] = news_df['headline_composite_sentiment']\n",
    "\n",
    "# Update with actual content sentiment for sampled articles using correct structure\n",
    "for idx, sentiment in zip(sample_indices, content_sentiment):\n",
    "    news_df.at[idx, 'content_vader_compound'] = sentiment['vader_compound']\n",
    "    news_df.at[idx, 'content_textblob_polarity'] = sentiment['textblob_polarity']\n",
    "    news_df.at[idx, 'content_finbert_positive'] = sentiment['finbert_positive']\n",
    "    news_df.at[idx, 'content_composite_sentiment'] = sentiment['composite_sentiment']\n",
    "\n",
    "print(f\"âœ… Content sentiment analysis completed (sampled {sample_size} articles)\")"
   ]
  },
  {
   "cell_type": "code",
   "execution_count": 11,
   "id": "429c38af",
   "metadata": {},
   "outputs": [
    {
     "name": "stdout",
     "output_type": "stream",
     "text": [
      "=== SENTIMENT ANALYSIS SUMMARY ===\n",
      "\n",
      "Sentiment Score Statistics:\n"
     ]
    },
    {
     "data": {
      "application/vnd.microsoft.datawrangler.viewer.v0+json": {
       "columns": [
        {
         "name": "index",
         "rawType": "object",
         "type": "string"
        },
        {
         "name": "headline_vader_compound",
         "rawType": "float64",
         "type": "float"
        },
        {
         "name": "headline_textblob_polarity",
         "rawType": "float64",
         "type": "float"
        },
        {
         "name": "headline_finbert_positive",
         "rawType": "float64",
         "type": "float"
        }
       ],
       "ref": "13087174-9e79-4483-9404-6f913951c612",
       "rows": [
        [
         "count",
         "485.0",
         "485.0",
         "485.0"
        ],
        [
         "mean",
         "0.30128721649484536",
         "0.035402218056857226",
         "0.1708201494413553"
        ],
        [
         "std",
         "0.21397373188178506",
         "0.15076279890985125",
         "0.17823323083706946"
        ],
        [
         "min",
         "0.0",
         "-0.13181818181818183",
         "0.023640625178813934"
        ],
        [
         "25%",
         "0.0",
         "0.0",
         "0.04565610736608505"
        ],
        [
         "50%",
         "0.4019",
         "0.0",
         "0.13428890705108643"
        ],
        [
         "75%",
         "0.4019",
         "0.0",
         "0.22649259865283966"
        ],
        [
         "max",
         "0.6369",
         "0.4333333333333333",
         "0.8325835466384888"
        ]
       ],
       "shape": {
        "columns": 3,
        "rows": 8
       }
      },
      "text/html": [
       "<div>\n",
       "<style scoped>\n",
       "    .dataframe tbody tr th:only-of-type {\n",
       "        vertical-align: middle;\n",
       "    }\n",
       "\n",
       "    .dataframe tbody tr th {\n",
       "        vertical-align: top;\n",
       "    }\n",
       "\n",
       "    .dataframe thead th {\n",
       "        text-align: right;\n",
       "    }\n",
       "</style>\n",
       "<table border=\"1\" class=\"dataframe\">\n",
       "  <thead>\n",
       "    <tr style=\"text-align: right;\">\n",
       "      <th></th>\n",
       "      <th>headline_vader_compound</th>\n",
       "      <th>headline_textblob_polarity</th>\n",
       "      <th>headline_finbert_positive</th>\n",
       "    </tr>\n",
       "  </thead>\n",
       "  <tbody>\n",
       "    <tr>\n",
       "      <th>count</th>\n",
       "      <td>485.000000</td>\n",
       "      <td>485.000000</td>\n",
       "      <td>485.000000</td>\n",
       "    </tr>\n",
       "    <tr>\n",
       "      <th>mean</th>\n",
       "      <td>0.301287</td>\n",
       "      <td>0.035402</td>\n",
       "      <td>0.170820</td>\n",
       "    </tr>\n",
       "    <tr>\n",
       "      <th>std</th>\n",
       "      <td>0.213974</td>\n",
       "      <td>0.150763</td>\n",
       "      <td>0.178233</td>\n",
       "    </tr>\n",
       "    <tr>\n",
       "      <th>min</th>\n",
       "      <td>0.000000</td>\n",
       "      <td>-0.131818</td>\n",
       "      <td>0.023641</td>\n",
       "    </tr>\n",
       "    <tr>\n",
       "      <th>25%</th>\n",
       "      <td>0.000000</td>\n",
       "      <td>0.000000</td>\n",
       "      <td>0.045656</td>\n",
       "    </tr>\n",
       "    <tr>\n",
       "      <th>50%</th>\n",
       "      <td>0.401900</td>\n",
       "      <td>0.000000</td>\n",
       "      <td>0.134289</td>\n",
       "    </tr>\n",
       "    <tr>\n",
       "      <th>75%</th>\n",
       "      <td>0.401900</td>\n",
       "      <td>0.000000</td>\n",
       "      <td>0.226493</td>\n",
       "    </tr>\n",
       "    <tr>\n",
       "      <th>max</th>\n",
       "      <td>0.636900</td>\n",
       "      <td>0.433333</td>\n",
       "      <td>0.832584</td>\n",
       "    </tr>\n",
       "  </tbody>\n",
       "</table>\n",
       "</div>"
      ],
      "text/plain": [
       "       headline_vader_compound  headline_textblob_polarity  \\\n",
       "count               485.000000                  485.000000   \n",
       "mean                  0.301287                    0.035402   \n",
       "std                   0.213974                    0.150763   \n",
       "min                   0.000000                   -0.131818   \n",
       "25%                   0.000000                    0.000000   \n",
       "50%                   0.401900                    0.000000   \n",
       "75%                   0.401900                    0.000000   \n",
       "max                   0.636900                    0.433333   \n",
       "\n",
       "       headline_finbert_positive  \n",
       "count                 485.000000  \n",
       "mean                    0.170820  \n",
       "std                     0.178233  \n",
       "min                     0.023641  \n",
       "25%                     0.045656  \n",
       "50%                     0.134289  \n",
       "75%                     0.226493  \n",
       "max                     0.832584  "
      ]
     },
     "metadata": {},
     "output_type": "display_data"
    },
    {
     "data": {
      "image/png": "[encoded data removed]",
      "text/plain": [
       "<Figure size 1500x400 with 3 Axes>"
      ]
     },
     "metadata": {},
     "output_type": "display_data"
    }
   ],
   "source": [
    "# Display sentiment analysis results\n",
    "print(\"=== SENTIMENT ANALYSIS SUMMARY ===\")\n",
    "\n",
    "sentiment_cols = ['headline_vader_compound', 'headline_textblob_polarity', 'headline_finbert_positive']\n",
    "print(\"\\nSentiment Score Statistics:\")\n",
    "display(news_df[sentiment_cols].describe())\n",
    "\n",
    "# Plot sentiment distributions\n",
    "fig, axes = plt.subplots(1, 3, figsize=(15, 4))\n",
    "\n",
    "axes[0].hist(news_df['headline_vader_compound'], bins=30, alpha=0.7, color='blue')\n",
    "axes[0].set_title('VADER Compound Sentiment')\n",
    "axes[0].set_xlabel('Sentiment Score')\n",
    "axes[0].set_ylabel('Frequency')\n",
    "\n",
    "axes[1].hist(news_df['headline_textblob_polarity'], bins=30, alpha=0.7, color='green')\n",
    "axes[1].set_title('TextBlob Polarity')\n",
    "axes[1].set_xlabel('Polarity Score')\n",
    "axes[1].set_ylabel('Frequency')\n",
    "\n",
    "axes[2].hist(news_df['headline_finbert_positive'], bins=30, alpha=0.7, color='red')\n",
    "axes[2].set_title('FinBERT Positive Score')\n",
    "axes[2].set_xlabel('Positive Score')\n",
    "axes[2].set_ylabel('Frequency')\n",
    "\n",
    "plt.tight_layout()\n",
    "plt.show()"
   ]
  },
  {
   "cell_type": "markdown",
   "id": "830741f2",
   "metadata": {},
   "source": [
    "## 4. Technical Indicators and Market Features"
   ]
  },
  {
   "cell_type": "code",
   "execution_count": 12,
   "id": "9995b03c",
   "metadata": {},
   "outputs": [
    {
     "name": "stderr",
     "output_type": "stream",
     "text": [
      "WARNING:root:TA-Lib not available. Install with: pip install ta\n"
     ]
    },
    {
     "name": "stdout",
     "output_type": "stream",
     "text": [
      "=== CREATING TECHNICAL INDICATORS ===\n",
      "âœ… Created technical features for RR: 48 total columns\n",
      "âœ… Created technical features for TTWO: 48 total columns\n",
      "âœ… Created technical features for VWRL.L: 48 total columns\n",
      "\n",
      "âœ… Technical indicators created: (1536, 48)\n"
     ]
    }
   ],
   "source": [
    "# Calculate technical indicators\n",
    "from features.build_features import FeatureEngineering\n",
    "\n",
    "print(\"=== CREATING TECHNICAL INDICATORS ===\")\n",
    "\n",
    "# Configure feature engineering\n",
    "config = {\n",
    "    'technical_indicators': ['sma_5', 'sma_10', 'sma_20', 'ema_12', 'ema_26', 'rsi_14', 'bb_upper', 'bb_lower', 'macd'],\n",
    "    'sentiment_lags': [1, 2, 3, 5],\n",
    "    'return_horizons': [1, 2, 5],\n",
    "    'volatility_windows': [5, 10, 20]\n",
    "}\n",
    "\n",
    "fe = FeatureEngineering(config)\n",
    "\n",
    "# Calculate basic returns and volatility first\n",
    "stock_df = stock_df.sort_values(['ticker', 'date'])\n",
    "stock_df['daily_return'] = stock_df.groupby('ticker')['close'].pct_change()\n",
    "stock_df['log_return'] = np.log(stock_df['close']).diff()\n",
    "\n",
    "# Create technical features for each ticker\n",
    "enhanced_stock_dfs = []\n",
    "\n",
    "for ticker in stock_df['ticker'].unique():\n",
    "    ticker_data = stock_df[stock_df['ticker'] == ticker].copy()\n",
    "    \n",
    "    # Add placeholder sentiment columns\n",
    "    ticker_data['vader_compound'] = 0.0\n",
    "    ticker_data['textblob_polarity'] = 0.0\n",
    "    \n",
    "    # Create technical features\n",
    "    enhanced_data = fe.create_technical_features(ticker_data)\n",
    "    enhanced_stock_dfs.append(enhanced_data)\n",
    "    \n",
    "    print(f\"âœ… Created technical features for {ticker}: {enhanced_data.shape[1]} total columns\")\n",
    "\n",
    "# Combine all enhanced stock data\n",
    "enhanced_stock_df = pd.concat(enhanced_stock_dfs, ignore_index=True)\n",
    "print(f\"\\nâœ… Technical indicators created: {enhanced_stock_df.shape}\")"
   ]
  },
  {
   "cell_type": "code",
   "execution_count": 13,
   "id": "c0323318",
   "metadata": {},
   "outputs": [
    {
     "name": "stdout",
     "output_type": "stream",
     "text": [
      "=== CREATING TIME-BASED FEATURES ===\n",
      "âœ… Time-based features created: 57 total columns\n"
     ]
    }
   ],
   "source": [
    "# Add time-based features\n",
    "print(\"=== CREATING TIME-BASED FEATURES ===\")\n",
    "\n",
    "enhanced_stock_df['year'] = enhanced_stock_df['date'].dt.year\n",
    "enhanced_stock_df['month'] = enhanced_stock_df['date'].dt.month\n",
    "enhanced_stock_df['day_of_week'] = enhanced_stock_df['date'].dt.dayofweek\n",
    "enhanced_stock_df['day_of_month'] = enhanced_stock_df['date'].dt.day\n",
    "enhanced_stock_df['quarter'] = enhanced_stock_df['date'].dt.quarter\n",
    "enhanced_stock_df['is_month_end'] = enhanced_stock_df['date'].dt.is_month_end.astype(int)\n",
    "enhanced_stock_df['is_quarter_end'] = enhanced_stock_df['date'].dt.is_quarter_end.astype(int)\n",
    "\n",
    "# Market session indicators (assuming US market)\n",
    "enhanced_stock_df['is_monday'] = (enhanced_stock_df['day_of_week'] == 0).astype(int)\n",
    "enhanced_stock_df['is_friday'] = (enhanced_stock_df['day_of_week'] == 4).astype(int)\n",
    "\n",
    "print(f\"âœ… Time-based features created: {enhanced_stock_df.shape[1]} total columns\")"
   ]
  },
  {
   "cell_type": "markdown",
   "id": "ef519bac",
   "metadata": {},
   "source": [
    "## 5. News Aggregation and Feature Creation"
   ]
  },
  {
   "cell_type": "code",
   "execution_count": 14,
   "id": "09ea390a",
   "metadata": {},
   "outputs": [
    {
     "name": "stdout",
     "output_type": "stream",
     "text": [
      "=== AGGREGATING NEWS DATA ===\n",
      "âœ… News aggregated: (485, 18)\n",
      "News features: ['ticker', 'date', 'article_count', 'headline_vader_compound_mean', 'headline_vader_compound_std', 'headline_vader_compound_min', 'headline_vader_compound_max', 'headline_textblob_polarity_mean', 'headline_textblob_polarity_std', 'headline_textblob_polarity_min', 'headline_textblob_polarity_max', 'headline_finbert_positive_mean', 'headline_finbert_positive_std', 'headline_finbert_positive_min', 'headline_finbert_positive_max', 'content_vader_compound_mean', 'content_textblob_polarity_mean', 'content_finbert_positive_mean']\n"
     ]
    }
   ],
   "source": [
    "# Aggregate news data by ticker and date\n",
    "print(\"=== AGGREGATING NEWS DATA ===\")\n",
    "\n",
    "# Group news by ticker and date\n",
    "news_agg = news_df.groupby(['ticker', 'date']).agg({\n",
    "    'headline': 'count',  # Number of articles\n",
    "    'headline_vader_compound': ['mean', 'std', 'min', 'max'],\n",
    "    'headline_textblob_polarity': ['mean', 'std', 'min', 'max'],\n",
    "    'headline_finbert_positive': ['mean', 'std', 'min', 'max'],\n",
    "    'content_vader_compound': 'mean',\n",
    "    'content_textblob_polarity': 'mean',\n",
    "    'content_finbert_positive': 'mean'\n",
    "}).reset_index()\n",
    "\n",
    "# Flatten column names\n",
    "news_agg.columns = ['_'.join(col).strip() if col[1] else col[0] for col in news_agg.columns.values]\n",
    "news_agg = news_agg.rename(columns={\n",
    "    'ticker_': 'ticker',\n",
    "    'date_': 'date',\n",
    "    'headline_count': 'article_count'\n",
    "})\n",
    "\n",
    "# Fill NaN values in std columns with 0 (when only one article per day)\n",
    "std_cols = [col for col in news_agg.columns if 'std' in col]\n",
    "news_agg[std_cols] = news_agg[std_cols].fillna(0)\n",
    "\n",
    "print(f\"âœ… News aggregated: {news_agg.shape}\")\n",
    "print(f\"News features: {list(news_agg.columns)}\")"
   ]
  },
  {
   "cell_type": "code",
   "execution_count": 15,
   "id": "a9b450ae",
   "metadata": {},
   "outputs": [
    {
     "name": "stdout",
     "output_type": "stream",
     "text": [
      "=== MERGING STOCK AND NEWS DATA ===\n",
      "âœ… Data merged: (1536, 73)\n",
      "Days with news coverage: 485\n",
      "Days without news: 1051\n"
     ]
    }
   ],
   "source": [
    "# Merge stock and news data\n",
    "print(\"=== MERGING STOCK AND NEWS DATA ===\")\n",
    "\n",
    "# Convert stock date to date type for merging\n",
    "enhanced_stock_df['date_only'] = enhanced_stock_df['date'].dt.date\n",
    "\n",
    "# Merge datasets\n",
    "merged_df = enhanced_stock_df.merge(\n",
    "    news_agg, \n",
    "    left_on=['ticker', 'date_only'], \n",
    "    right_on=['ticker', 'date'], \n",
    "    how='left'\n",
    ")\n",
    "\n",
    "# Fill missing news data with zeros\n",
    "news_cols = [col for col in news_agg.columns if col not in ['ticker', 'date']]\n",
    "merged_df[news_cols] = merged_df[news_cols].fillna(0)\n",
    "\n",
    "# Drop duplicate date columns\n",
    "merged_df = merged_df.drop(['date_only', 'date_y'], axis=1)\n",
    "merged_df = merged_df.rename(columns={'date_x': 'date'})\n",
    "\n",
    "print(f\"âœ… Data merged: {merged_df.shape}\")\n",
    "print(f\"Days with news coverage: {(merged_df['article_count'] > 0).sum()}\")\n",
    "print(f\"Days without news: {(merged_df['article_count'] == 0).sum()}\")"
   ]
  },
  {
   "cell_type": "markdown",
   "id": "0744cc40",
   "metadata": {},
   "source": [
    "## 6. Feature Engineering and Lag Features"
   ]
  },
  {
   "cell_type": "code",
   "execution_count": 16,
   "id": "ff825cf1",
   "metadata": {},
   "outputs": [
    {
     "name": "stdout",
     "output_type": "stream",
     "text": [
      "=== CREATING LAG FEATURES ===\n",
      "âœ… Lag features created: 101 total columns\n"
     ]
    }
   ],
   "source": [
    "# Create lag features for sentiment\n",
    "print(\"=== CREATING LAG FEATURES ===\")\n",
    "\n",
    "# Sort data for lag creation\n",
    "merged_df = merged_df.sort_values(['ticker', 'date'])\n",
    "\n",
    "# Create lag features for key sentiment variables\n",
    "sentiment_vars = ['article_count', 'headline_vader_compound_mean', 'headline_textblob_polarity_mean', 'headline_finbert_positive_mean']\n",
    "lag_periods = [1, 2, 3, 5]\n",
    "\n",
    "for var in sentiment_vars:\n",
    "    for lag in lag_periods:\n",
    "        merged_df[f'{var}_lag_{lag}'] = merged_df.groupby('ticker')[var].shift(lag)\n",
    "\n",
    "# Create rolling averages of sentiment\n",
    "windows = [3, 5, 10]\n",
    "for var in sentiment_vars:\n",
    "    for window in windows:\n",
    "        merged_df[f'{var}_ma_{window}'] = merged_df.groupby('ticker')[var].transform(\n",
    "            lambda x: x.rolling(window=window, min_periods=1).mean()\n",
    "        )\n",
    "\n",
    "print(f\"âœ… Lag features created: {merged_df.shape[1]} total columns\")"
   ]
  },
  {
   "cell_type": "code",
   "execution_count": 17,
   "id": "ec2de868",
   "metadata": {},
   "outputs": [
    {
     "name": "stdout",
     "output_type": "stream",
     "text": [
      "=== CREATING INTERACTION FEATURES ===\n",
      "Available columns: ['date', 'ticker', 'company_name', 'exchange', 'currency', 'open', 'high', 'low', 'close', 'volume', 'daily_return', 'log_return', 'vader_compound', 'textblob_polarity', 'sma_5', 'ema_5', 'price_vs_sma_5', 'sma_10', 'ema_10', 'price_vs_sma_10', 'sma_20', 'ema_20', 'price_vs_sma_20', 'sma_50', 'ema_50', 'price_vs_sma_50', 'volatility_5d', 'high_low_ratio_5d', 'volatility_10d', 'high_low_ratio_10d', 'volatility_20d', 'high_low_ratio_20d', 'rsi_14', 'macd', 'macd_signal', 'macd_histogram', 'bb_upper', 'bb_lower', 'bb_width', 'bb_position', 'volume_sma_10', 'volume_ratio', 'price_volume', 'price_change_1d', 'price_change_3d', 'price_change_5d', 'is_new_high_20d', 'is_new_low_20d', 'year', 'month', 'day_of_week', 'day_of_month', 'quarter', 'is_month_end', 'is_quarter_end', 'is_monday', 'is_friday', 'article_count', 'headline_vader_compound_mean', 'headline_vader_compound_std', 'headline_vader_compound_min', 'headline_vader_compound_max', 'headline_textblob_polarity_mean', 'headline_textblob_polarity_std', 'headline_textblob_polarity_min', 'headline_textblob_polarity_max', 'headline_finbert_positive_mean', 'headline_finbert_positive_std', 'headline_finbert_positive_min', 'headline_finbert_positive_max', 'content_vader_compound_mean', 'content_textblob_polarity_mean', 'content_finbert_positive_mean', 'article_count_lag_1', 'article_count_lag_2', 'article_count_lag_3', 'article_count_lag_5', 'headline_vader_compound_mean_lag_1', 'headline_vader_compound_mean_lag_2', 'headline_vader_compound_mean_lag_3', 'headline_vader_compound_mean_lag_5', 'headline_textblob_polarity_mean_lag_1', 'headline_textblob_polarity_mean_lag_2', 'headline_textblob_polarity_mean_lag_3', 'headline_textblob_polarity_mean_lag_5', 'headline_finbert_positive_mean_lag_1', 'headline_finbert_positive_mean_lag_2', 'headline_finbert_positive_mean_lag_3', 'headline_finbert_positive_mean_lag_5', 'article_count_ma_3', 'article_count_ma_5', 'article_count_ma_10', 'headline_vader_compound_mean_ma_3', 'headline_vader_compound_mean_ma_5', 'headline_vader_compound_mean_ma_10', 'headline_textblob_polarity_mean_ma_3', 'headline_textblob_polarity_mean_ma_5', 'headline_textblob_polarity_mean_ma_10', 'headline_finbert_positive_mean_ma_3', 'headline_finbert_positive_mean_ma_5', 'headline_finbert_positive_mean_ma_10']\n",
      "Available volatility columns: ['volatility_5d', 'volatility_10d', 'volatility_20d']\n",
      "âœ… Interaction features created: 106 total columns\n"
     ]
    }
   ],
   "source": [
    "# Create interaction features\n",
    "print(\"=== CREATING INTERACTION FEATURES ===\")\n",
    "\n",
    "# Check available columns first\n",
    "print(f\"Available columns: {list(merged_df.columns)}\")\n",
    "\n",
    "# Sentiment-Volume interactions\n",
    "merged_df['sentiment_volume_interaction'] = (\n",
    "    merged_df['headline_vader_compound_mean'] * np.log1p(merged_df['volume'])\n",
    ")\n",
    "\n",
    "# News count and price volatility (use available volatility column)\n",
    "volatility_cols = [col for col in merged_df.columns if 'volatility' in col.lower()]\n",
    "print(f\"Available volatility columns: {volatility_cols}\")\n",
    "\n",
    "if volatility_cols:\n",
    "    volatility_col = volatility_cols[0]  # Use first available volatility column\n",
    "    merged_df['news_volatility_interaction'] = (\n",
    "        merged_df['article_count'] * merged_df[volatility_col]\n",
    "    )\n",
    "else:\n",
    "    # Create volatility if not available\n",
    "    merged_df['volatility_5'] = merged_df.groupby('ticker')['daily_return'].transform(\n",
    "        lambda x: x.rolling(window=5, min_periods=1).std()\n",
    "    )\n",
    "    merged_df['news_volatility_interaction'] = (\n",
    "        merged_df['article_count'] * merged_df['volatility_5']\n",
    "    )\n",
    "\n",
    "# Sentiment consistency (difference between headline and content)\n",
    "merged_df['sentiment_consistency'] = abs(\n",
    "    merged_df['headline_vader_compound_mean'] - merged_df['content_vader_compound_mean']\n",
    ")\n",
    "\n",
    "# Market momentum features\n",
    "merged_df['price_momentum_3d'] = merged_df.groupby('ticker')['close'].transform(\n",
    "    lambda x: x.pct_change(3)\n",
    ")\n",
    "merged_df['price_momentum_5d'] = merged_df.groupby('ticker')['close'].transform(\n",
    "    lambda x: x.pct_change(5)\n",
    ")\n",
    "\n",
    "print(f\"âœ… Interaction features created: {merged_df.shape[1]} total columns\")"
   ]
  },
  {
   "cell_type": "markdown",
   "id": "9f06fced",
   "metadata": {},
   "source": [
    "## 7. Target Variable Creation"
   ]
  },
  {
   "cell_type": "code",
   "execution_count": 18,
   "id": "3f42ee0f",
   "metadata": {},
   "outputs": [
    {
     "name": "stdout",
     "output_type": "stream",
     "text": [
      "=== CREATING TARGET VARIABLES ===\n",
      "âœ… Target variables created: 117 total columns\n",
      "\n",
      "Target Variable Statistics:\n"
     ]
    },
    {
     "data": {
      "application/vnd.microsoft.datawrangler.viewer.v0+json": {
       "columns": [
        {
         "name": "index",
         "rawType": "object",
         "type": "string"
        },
        {
         "name": "future_return_1d",
         "rawType": "float64",
         "type": "float"
        },
        {
         "name": "future_return_1d_positive",
         "rawType": "float64",
         "type": "float"
        },
        {
         "name": "future_return_2d",
         "rawType": "float64",
         "type": "float"
        },
        {
         "name": "future_return_2d_positive",
         "rawType": "float64",
         "type": "float"
        },
        {
         "name": "future_return_5d",
         "rawType": "float64",
         "type": "float"
        },
        {
         "name": "future_return_5d_positive",
         "rawType": "float64",
         "type": "float"
        }
       ],
       "ref": "876d2e12-e15e-492f-a5ab-9c919c41cf81",
       "rows": [
        [
         "count",
         "1533.0",
         "1536.0",
         "1530.0",
         "1536.0",
         "1521.0",
         "1536.0"
        ],
        [
         "mean",
         "0.00044376353223249924",
         "0.5071614583333334",
         "0.00038311695467134927",
         "0.505859375",
         "0.0005976705113833879",
         "0.505859375"
        ],
        [
         "std",
         "0.0462368679173109",
         "0.5001115341127957",
         "0.046237200101794766",
         "0.5001284952967763",
         "0.04621409022028278",
         "0.5001284952967763"
        ],
        [
         "min",
         "-0.7394366084855357",
         "0.0",
         "-0.7394366084855357",
         "0.0",
         "-0.7394366084855357",
         "0.0"
        ],
        [
         "25%",
         "-0.008558819974323062",
         "0.0",
         "-0.008596170659384311",
         "0.0",
         "-0.008332094684747493",
         "0.0"
        ],
        [
         "50%",
         "0.00025798744076199753",
         "1.0",
         "0.00025630927958564254",
         "1.0",
         "0.000305327529202426",
         "1.0"
        ],
        [
         "75%",
         "0.007462679264300887",
         "1.0",
         "0.007428800536995295",
         "1.0",
         "0.007474245549645708",
         "1.0"
        ],
        [
         "max",
         "0.6702701701309852",
         "1.0",
         "0.6702701701309852",
         "1.0",
         "0.6702701701309852",
         "1.0"
        ]
       ],
       "shape": {
        "columns": 6,
        "rows": 8
       }
      },
      "text/html": [
       "<div>\n",
       "<style scoped>\n",
       "    .dataframe tbody tr th:only-of-type {\n",
       "        vertical-align: middle;\n",
       "    }\n",
       "\n",
       "    .dataframe tbody tr th {\n",
       "        vertical-align: top;\n",
       "    }\n",
       "\n",
       "    .dataframe thead th {\n",
       "        text-align: right;\n",
       "    }\n",
       "</style>\n",
       "<table border=\"1\" class=\"dataframe\">\n",
       "  <thead>\n",
       "    <tr style=\"text-align: right;\">\n",
       "      <th></th>\n",
       "      <th>future_return_1d</th>\n",
       "      <th>future_return_1d_positive</th>\n",
       "      <th>future_return_2d</th>\n",
       "      <th>future_return_2d_positive</th>\n",
       "      <th>future_return_5d</th>\n",
       "      <th>future_return_5d_positive</th>\n",
       "    </tr>\n",
       "  </thead>\n",
       "  <tbody>\n",
       "    <tr>\n",
       "      <th>count</th>\n",
       "      <td>1533.000000</td>\n",
       "      <td>1536.000000</td>\n",
       "      <td>1530.000000</td>\n",
       "      <td>1536.000000</td>\n",
       "      <td>1521.000000</td>\n",
       "      <td>1536.000000</td>\n",
       "    </tr>\n",
       "    <tr>\n",
       "      <th>mean</th>\n",
       "      <td>0.000444</td>\n",
       "      <td>0.507161</td>\n",
       "      <td>0.000383</td>\n",
       "      <td>0.505859</td>\n",
       "      <td>0.000598</td>\n",
       "      <td>0.505859</td>\n",
       "    </tr>\n",
       "    <tr>\n",
       "      <th>std</th>\n",
       "      <td>0.046237</td>\n",
       "      <td>0.500112</td>\n",
       "      <td>0.046237</td>\n",
       "      <td>0.500128</td>\n",
       "      <td>0.046214</td>\n",
       "      <td>0.500128</td>\n",
       "    </tr>\n",
       "    <tr>\n",
       "      <th>min</th>\n",
       "      <td>-0.739437</td>\n",
       "      <td>0.000000</td>\n",
       "      <td>-0.739437</td>\n",
       "      <td>0.000000</td>\n",
       "      <td>-0.739437</td>\n",
       "      <td>0.000000</td>\n",
       "    </tr>\n",
       "    <tr>\n",
       "      <th>25%</th>\n",
       "      <td>-0.008559</td>\n",
       "      <td>0.000000</td>\n",
       "      <td>-0.008596</td>\n",
       "      <td>0.000000</td>\n",
       "      <td>-0.008332</td>\n",
       "      <td>0.000000</td>\n",
       "    </tr>\n",
       "    <tr>\n",
       "      <th>50%</th>\n",
       "      <td>0.000258</td>\n",
       "      <td>1.000000</td>\n",
       "      <td>0.000256</td>\n",
       "      <td>1.000000</td>\n",
       "      <td>0.000305</td>\n",
       "      <td>1.000000</td>\n",
       "    </tr>\n",
       "    <tr>\n",
       "      <th>75%</th>\n",
       "      <td>0.007463</td>\n",
       "      <td>1.000000</td>\n",
       "      <td>0.007429</td>\n",
       "      <td>1.000000</td>\n",
       "      <td>0.007474</td>\n",
       "      <td>1.000000</td>\n",
       "    </tr>\n",
       "    <tr>\n",
       "      <th>max</th>\n",
       "      <td>0.670270</td>\n",
       "      <td>1.000000</td>\n",
       "      <td>0.670270</td>\n",
       "      <td>1.000000</td>\n",
       "      <td>0.670270</td>\n",
       "      <td>1.000000</td>\n",
       "    </tr>\n",
       "  </tbody>\n",
       "</table>\n",
       "</div>"
      ],
      "text/plain": [
       "       future_return_1d  future_return_1d_positive  future_return_2d  \\\n",
       "count       1533.000000                1536.000000       1530.000000   \n",
       "mean           0.000444                   0.507161          0.000383   \n",
       "std            0.046237                   0.500112          0.046237   \n",
       "min           -0.739437                   0.000000         -0.739437   \n",
       "25%           -0.008559                   0.000000         -0.008596   \n",
       "50%            0.000258                   1.000000          0.000256   \n",
       "75%            0.007463                   1.000000          0.007429   \n",
       "max            0.670270                   1.000000          0.670270   \n",
       "\n",
       "       future_return_2d_positive  future_return_5d  future_return_5d_positive  \n",
       "count                1536.000000       1521.000000                1536.000000  \n",
       "mean                    0.505859          0.000598                   0.505859  \n",
       "std                     0.500128          0.046214                   0.500128  \n",
       "min                     0.000000         -0.739437                   0.000000  \n",
       "25%                     0.000000         -0.008332                   0.000000  \n",
       "50%                     1.000000          0.000305                   1.000000  \n",
       "75%                     1.000000          0.007474                   1.000000  \n",
       "max                     1.000000          0.670270                   1.000000  "
      ]
     },
     "metadata": {},
     "output_type": "display_data"
    }
   ],
   "source": [
    "# Create target variables for different prediction horizons\n",
    "print(\"=== CREATING TARGET VARIABLES ===\")\n",
    "\n",
    "# Future return targets\n",
    "for horizon in [1, 2, 5]:\n",
    "    merged_df[f'future_return_{horizon}d'] = merged_df.groupby('ticker')['daily_return'].shift(-horizon)\n",
    "    \n",
    "    # Binary classification targets (positive/negative returns)\n",
    "    merged_df[f'future_return_{horizon}d_positive'] = (\n",
    "        merged_df[f'future_return_{horizon}d'] > 0\n",
    "    ).astype(int)\n",
    "    \n",
    "    # Categorical targets (strong negative, negative, neutral, positive, strong positive)\n",
    "    returns = merged_df[f'future_return_{horizon}d']\n",
    "    merged_df[f'future_return_{horizon}d_categorical'] = pd.cut(\n",
    "        returns,\n",
    "        bins=[-np.inf, -0.02, -0.005, 0.005, 0.02, np.inf],\n",
    "        labels=['strong_negative', 'negative', 'neutral', 'positive', 'strong_positive']\n",
    "    )\n",
    "\n",
    "# Volatility targets\n",
    "for horizon in [1, 5]:\n",
    "    merged_df[f'future_volatility_{horizon}d'] = merged_df.groupby('ticker')['daily_return'].transform(\n",
    "        lambda x: x.shift(-horizon).rolling(window=horizon).std()\n",
    "    )\n",
    "\n",
    "print(f\"âœ… Target variables created: {merged_df.shape[1]} total columns\")\n",
    "\n",
    "# Display target variable statistics\n",
    "target_cols = [col for col in merged_df.columns if 'future_return' in col and 'categorical' not in col]\n",
    "print(\"\\nTarget Variable Statistics:\")\n",
    "display(merged_df[target_cols].describe())"
   ]
  },
  {
   "cell_type": "markdown",
   "id": "94d9a175",
   "metadata": {},
   "source": [
    "## 8. Data Quality and Feature Selection"
   ]
  },
  {
   "cell_type": "code",
   "execution_count": 19,
   "id": "00c87290",
   "metadata": {},
   "outputs": [
    {
     "name": "stdout",
     "output_type": "stream",
     "text": [
      "=== FEATURE QUALITY ANALYSIS ===\n",
      "Features with >50% missing values: 1\n",
      "Features with >20% missing values: 1\n",
      "Features with >10% missing values: 1\n",
      "\n",
      "Features with >10% missing values:\n"
     ]
    },
    {
     "data": {
      "application/vnd.microsoft.datawrangler.viewer.v0+json": {
       "columns": [
        {
         "name": "index",
         "rawType": "object",
         "type": "string"
        },
        {
         "name": "missing_count",
         "rawType": "int64",
         "type": "integer"
        },
        {
         "name": "missing_percentage",
         "rawType": "float64",
         "type": "float"
        }
       ],
       "ref": "8055386a-dc95-4fb5-bf2b-b80739498e38",
       "rows": [
        [
         "future_volatility_1d",
         "1536",
         "100.0"
        ]
       ],
       "shape": {
        "columns": 2,
        "rows": 1
       }
      },
      "text/html": [
       "<div>\n",
       "<style scoped>\n",
       "    .dataframe tbody tr th:only-of-type {\n",
       "        vertical-align: middle;\n",
       "    }\n",
       "\n",
       "    .dataframe tbody tr th {\n",
       "        vertical-align: top;\n",
       "    }\n",
       "\n",
       "    .dataframe thead th {\n",
       "        text-align: right;\n",
       "    }\n",
       "</style>\n",
       "<table border=\"1\" class=\"dataframe\">\n",
       "  <thead>\n",
       "    <tr style=\"text-align: right;\">\n",
       "      <th></th>\n",
       "      <th>missing_count</th>\n",
       "      <th>missing_percentage</th>\n",
       "    </tr>\n",
       "  </thead>\n",
       "  <tbody>\n",
       "    <tr>\n",
       "      <th>future_volatility_1d</th>\n",
       "      <td>1536</td>\n",
       "      <td>100.0</td>\n",
       "    </tr>\n",
       "  </tbody>\n",
       "</table>\n",
       "</div>"
      ],
      "text/plain": [
       "                      missing_count  missing_percentage\n",
       "future_volatility_1d           1536               100.0"
      ]
     },
     "metadata": {},
     "output_type": "display_data"
    },
    {
     "name": "stdout",
     "output_type": "stream",
     "text": [
      "\n",
      "âœ… No infinite values detected\n"
     ]
    }
   ],
   "source": [
    "# Analyze feature completeness and quality\n",
    "print(\"=== FEATURE QUALITY ANALYSIS ===\")\n",
    "\n",
    "# Check missing values\n",
    "missing_summary = merged_df.isnull().sum()\n",
    "missing_pct = (missing_summary / len(merged_df)) * 100\n",
    "missing_df = pd.DataFrame({\n",
    "    'missing_count': missing_summary,\n",
    "    'missing_percentage': missing_pct\n",
    "}).sort_values('missing_percentage', ascending=False)\n",
    "\n",
    "print(f\"Features with >50% missing values: {(missing_df['missing_percentage'] > 50).sum()}\")\n",
    "print(f\"Features with >20% missing values: {(missing_df['missing_percentage'] > 20).sum()}\")\n",
    "print(f\"Features with >10% missing values: {(missing_df['missing_percentage'] > 10).sum()}\")\n",
    "\n",
    "# Display top missing features\n",
    "if (missing_df['missing_percentage'] > 10).any():\n",
    "    print(\"\\nFeatures with >10% missing values:\")\n",
    "    display(missing_df[missing_df['missing_percentage'] > 10].head(10))\n",
    "\n",
    "# Check for infinite values\n",
    "numeric_cols = merged_df.select_dtypes(include=[np.number]).columns\n",
    "inf_counts = pd.Series({col: np.isinf(merged_df[col]).sum() for col in numeric_cols})\n",
    "inf_features = inf_counts[inf_counts > 0]\n",
    "if len(inf_features) > 0:\n",
    "    print(f\"\\nFeatures with infinite values: {len(inf_features)}\")\n",
    "    print(inf_features.head())\n",
    "else:\n",
    "    print(\"\\nâœ… No infinite values detected\")"
   ]
  },
  {
   "cell_type": "code",
   "execution_count": 20,
   "id": "3a6b7132",
   "metadata": {},
   "outputs": [
    {
     "name": "stdout",
     "output_type": "stream",
     "text": [
      "=== FEATURE CORRELATION ANALYSIS ===\n",
      "Highly correlated feature pairs (>0.95): 114\n"
     ]
    },
    {
     "data": {
      "application/vnd.microsoft.datawrangler.viewer.v0+json": {
       "columns": [
        {
         "name": "index",
         "rawType": "int64",
         "type": "integer"
        },
        {
         "name": "Feature1",
         "rawType": "object",
         "type": "string"
        },
        {
         "name": "Feature2",
         "rawType": "object",
         "type": "string"
        },
        {
         "name": "Correlation",
         "rawType": "float64",
         "type": "float"
        }
       ],
       "ref": "20d99081-1ea9-4a38-9886-330239b8dfa4",
       "rows": [
        [
         "0",
         "open",
         "high",
         "0.9996466440584617"
        ],
        [
         "1",
         "open",
         "low",
         "0.9996763928485579"
        ],
        [
         "2",
         "open",
         "close",
         "0.9993845256238515"
        ],
        [
         "3",
         "open",
         "sma_5",
         "0.9991781417821901"
        ],
        [
         "4",
         "open",
         "ema_5",
         "0.9994389534015008"
        ],
        [
         "5",
         "open",
         "sma_10",
         "0.9980730316889189"
        ],
        [
         "6",
         "open",
         "ema_10",
         "0.9986436984250682"
        ],
        [
         "7",
         "open",
         "sma_20",
         "0.9957200713034642"
        ],
        [
         "8",
         "open",
         "ema_20",
         "0.9971076740825691"
        ],
        [
         "9",
         "open",
         "sma_50",
         "0.9888370444882485"
        ]
       ],
       "shape": {
        "columns": 3,
        "rows": 10
       }
      },
      "text/html": [
       "<div>\n",
       "<style scoped>\n",
       "    .dataframe tbody tr th:only-of-type {\n",
       "        vertical-align: middle;\n",
       "    }\n",
       "\n",
       "    .dataframe tbody tr th {\n",
       "        vertical-align: top;\n",
       "    }\n",
       "\n",
       "    .dataframe thead th {\n",
       "        text-align: right;\n",
       "    }\n",
       "</style>\n",
       "<table border=\"1\" class=\"dataframe\">\n",
       "  <thead>\n",
       "    <tr style=\"text-align: right;\">\n",
       "      <th></th>\n",
       "      <th>Feature1</th>\n",
       "      <th>Feature2</th>\n",
       "      <th>Correlation</th>\n",
       "    </tr>\n",
       "  </thead>\n",
       "  <tbody>\n",
       "    <tr>\n",
       "      <th>0</th>\n",
       "      <td>open</td>\n",
       "      <td>high</td>\n",
       "      <td>0.999647</td>\n",
       "    </tr>\n",
       "    <tr>\n",
       "      <th>1</th>\n",
       "      <td>open</td>\n",
       "      <td>low</td>\n",
       "      <td>0.999676</td>\n",
       "    </tr>\n",
       "    <tr>\n",
       "      <th>2</th>\n",
       "      <td>open</td>\n",
       "      <td>close</td>\n",
       "      <td>0.999385</td>\n",
       "    </tr>\n",
       "    <tr>\n",
       "      <th>3</th>\n",
       "      <td>open</td>\n",
       "      <td>sma_5</td>\n",
       "      <td>0.999178</td>\n",
       "    </tr>\n",
       "    <tr>\n",
       "      <th>4</th>\n",
       "      <td>open</td>\n",
       "      <td>ema_5</td>\n",
       "      <td>0.999439</td>\n",
       "    </tr>\n",
       "    <tr>\n",
       "      <th>5</th>\n",
       "      <td>open</td>\n",
       "      <td>sma_10</td>\n",
       "      <td>0.998073</td>\n",
       "    </tr>\n",
       "    <tr>\n",
       "      <th>6</th>\n",
       "      <td>open</td>\n",
       "      <td>ema_10</td>\n",
       "      <td>0.998644</td>\n",
       "    </tr>\n",
       "    <tr>\n",
       "      <th>7</th>\n",
       "      <td>open</td>\n",
       "      <td>sma_20</td>\n",
       "      <td>0.995720</td>\n",
       "    </tr>\n",
       "    <tr>\n",
       "      <th>8</th>\n",
       "      <td>open</td>\n",
       "      <td>ema_20</td>\n",
       "      <td>0.997108</td>\n",
       "    </tr>\n",
       "    <tr>\n",
       "      <th>9</th>\n",
       "      <td>open</td>\n",
       "      <td>sma_50</td>\n",
       "      <td>0.988837</td>\n",
       "    </tr>\n",
       "  </tbody>\n",
       "</table>\n",
       "</div>"
      ],
      "text/plain": [
       "  Feature1 Feature2  Correlation\n",
       "0     open     high     0.999647\n",
       "1     open      low     0.999676\n",
       "2     open    close     0.999385\n",
       "3     open    sma_5     0.999178\n",
       "4     open    ema_5     0.999439\n",
       "5     open   sma_10     0.998073\n",
       "6     open   ema_10     0.998644\n",
       "7     open   sma_20     0.995720\n",
       "8     open   ema_20     0.997108\n",
       "9     open   sma_50     0.988837"
      ]
     },
     "metadata": {},
     "output_type": "display_data"
    },
    {
     "name": "stdout",
     "output_type": "stream",
     "text": [
      "\n",
      "âœ… Total features available: 101\n"
     ]
    }
   ],
   "source": [
    "# Feature correlation analysis\n",
    "print(\"=== FEATURE CORRELATION ANALYSIS ===\")\n",
    "\n",
    "# Select numeric features for correlation analysis\n",
    "numeric_features = merged_df.select_dtypes(include=[np.number]).columns.tolist()\n",
    "\n",
    "# Remove target variables from feature correlation\n",
    "feature_cols = [col for col in numeric_features if not col.startswith('future_')]\n",
    "\n",
    "# Calculate correlation matrix\n",
    "corr_matrix = merged_df[feature_cols].corr()\n",
    "\n",
    "# Find highly correlated feature pairs\n",
    "high_corr_pairs = []\n",
    "for i in range(len(corr_matrix.columns)):\n",
    "    for j in range(i+1, len(corr_matrix.columns)):\n",
    "        corr_val = abs(corr_matrix.iloc[i, j])\n",
    "        if corr_val > 0.95:  # Threshold for high correlation\n",
    "            high_corr_pairs.append((\n",
    "                corr_matrix.columns[i], \n",
    "                corr_matrix.columns[j], \n",
    "                corr_val\n",
    "            ))\n",
    "\n",
    "print(f\"Highly correlated feature pairs (>0.95): {len(high_corr_pairs)}\")\n",
    "if high_corr_pairs:\n",
    "    high_corr_df = pd.DataFrame(high_corr_pairs, columns=['Feature1', 'Feature2', 'Correlation'])\n",
    "    display(high_corr_df.head(10))\n",
    "\n",
    "print(f\"\\nâœ… Total features available: {len(feature_cols)}\")"
   ]
  },
  {
   "cell_type": "markdown",
   "id": "48122ffe",
   "metadata": {},
   "source": [
    "## 9. Data Splitting and Scaling"
   ]
  },
  {
   "cell_type": "code",
   "execution_count": 21,
   "id": "fd1a8b4a",
   "metadata": {},
   "outputs": [
    {
     "name": "stdout",
     "output_type": "stream",
     "text": [
      "=== PREPARING FINAL DATASET ===\n",
      "Numeric columns: 109\n",
      "Categorical columns: 8 - ['date', 'ticker', 'company_name', 'exchange', 'currency', 'future_return_1d_categorical', 'future_return_2d_categorical', 'future_return_5d_categorical']\n",
      "âœ… Final dataset prepared: (1533, 117)\n",
      "Date range: 2022-01-03 00:00:00 to 2024-08-29 00:00:00\n",
      "Tickers: ['RR', 'TTWO', 'VWRL.L']\n"
     ]
    }
   ],
   "source": [
    "# Prepare final dataset\n",
    "print(\"=== PREPARING FINAL DATASET ===\")\n",
    "\n",
    "# Remove rows with missing target variables\n",
    "final_df = merged_df.dropna(subset=['future_return_1d']).copy()\n",
    "\n",
    "# Identify numeric and categorical columns\n",
    "numeric_cols = final_df.select_dtypes(include=[np.number]).columns.tolist()\n",
    "categorical_cols = final_df.select_dtypes(exclude=[np.number]).columns.tolist()\n",
    "\n",
    "print(f\"Numeric columns: {len(numeric_cols)}\")\n",
    "print(f\"Categorical columns: {len(categorical_cols)} - {categorical_cols}\")\n",
    "\n",
    "# Handle missing values in numeric features only\n",
    "for col in numeric_cols:\n",
    "    if col in final_df.columns:\n",
    "        final_df[col] = final_df.groupby('ticker')[col].fillna(method='ffill').fillna(method='bfill')\n",
    "\n",
    "# Fill remaining NaN in numeric columns only\n",
    "final_df[numeric_cols] = final_df[numeric_cols].fillna(0)\n",
    "\n",
    "# Replace infinite values with NaN then fill (numeric columns only)\n",
    "final_df[numeric_cols] = final_df[numeric_cols].replace([np.inf, -np.inf], np.nan)\n",
    "final_df[numeric_cols] = final_df[numeric_cols].fillna(0)\n",
    "\n",
    "# Handle categorical columns separately - fill missing values with 'unknown' or mode\n",
    "for col in categorical_cols:\n",
    "    if col not in ['ticker', 'date']:  # Skip these specific columns\n",
    "        if final_df[col].dtype.name == 'category':\n",
    "            # For categorical dtype, handle missing values\n",
    "            mode_val = final_df[col].mode()[0] if len(final_df[col].mode()) > 0 else 'unknown'\n",
    "            final_df[col] = final_df[col].cat.add_categories(['unknown']).fillna('unknown')\n",
    "        else:\n",
    "            # For other categorical-like columns\n",
    "            final_df[col] = final_df[col].fillna('unknown')\n",
    "\n",
    "print(f\"âœ… Final dataset prepared: {final_df.shape}\")\n",
    "print(f\"Date range: {final_df['date'].min()} to {final_df['date'].max()}\")\n",
    "print(f\"Tickers: {sorted(final_df['ticker'].unique())}\")"
   ]
  },
  {
   "cell_type": "code",
   "execution_count": 22,
   "id": "302f28ba",
   "metadata": {},
   "outputs": [
    {
     "name": "stdout",
     "output_type": "stream",
     "text": [
      "=== TIME-BASED DATA SPLITTING ===\n",
      "Training set: 1073 samples (2022-01-03 00:00:00 to 2024-01-22 00:00:00)\n",
      "Validation set: 230 samples (2024-01-22 00:00:00 to 2024-05-10 00:00:00)\n",
      "Test set: 230 samples (2024-05-10 00:00:00 to 2024-08-29 00:00:00)\n"
     ]
    }
   ],
   "source": [
    "# Time-based train/validation/test split\n",
    "print(\"=== TIME-BASED DATA SPLITTING ===\")\n",
    "\n",
    "# Sort by date\n",
    "final_df = final_df.sort_values('date')\n",
    "\n",
    "# Calculate split points (70% train, 15% validation, 15% test)\n",
    "n_total = len(final_df)\n",
    "train_end = int(0.7 * n_total)\n",
    "val_end = int(0.85 * n_total)\n",
    "\n",
    "train_df = final_df.iloc[:train_end].copy()\n",
    "val_df = final_df.iloc[train_end:val_end].copy()\n",
    "test_df = final_df.iloc[val_end:].copy()\n",
    "\n",
    "print(f\"Training set: {len(train_df)} samples ({train_df['date'].min()} to {train_df['date'].max()})\")\n",
    "print(f\"Validation set: {len(val_df)} samples ({val_df['date'].min()} to {val_df['date'].max()})\")\n",
    "print(f\"Test set: {len(test_df)} samples ({test_df['date'].min()} to {test_df['date'].max()})\")"
   ]
  },
  {
   "cell_type": "code",
   "execution_count": 26,
   "id": "98700d10",
   "metadata": {},
   "outputs": [
    {
     "name": "stdout",
     "output_type": "stream",
     "text": [
      "=== FEATURE SCALING ===\n",
      "Total numeric columns: 109\n",
      "Feature columns for scaling: 101\n",
      "✅ Features scaled: 101 features\n",
      "Feature scaling statistics (train set):\n",
      "  Mean: 0.000000\n",
      "  Std: 0.941033\n"
     ]
    }
   ],
   "source": [
    "# Feature scaling\n",
    "print(\"=== FEATURE SCALING ===\")\n",
    "\n",
    "# Identify numeric columns only\n",
    "numeric_cols = final_df.select_dtypes(include=[np.number]).columns.tolist()\n",
    "\n",
    "# Exclude target and identifier columns\n",
    "exclude_cols = ['date', 'ticker', 'company_name', 'exchange', 'currency'] + \\\n",
    "               [col for col in numeric_cols if col.startswith('future_')]\n",
    "               \n",
    "feature_cols = [col for col in numeric_cols if col not in exclude_cols]\n",
    "\n",
    "print(f\"Total numeric columns: {len(numeric_cols)}\")\n",
    "print(f\"Feature columns for scaling: {len(feature_cols)}\")\n",
    "\n",
    "# Initialize scalers\n",
    "scaler = StandardScaler()\n",
    "\n",
    "# Fit scaler on training data only\n",
    "train_features = train_df[feature_cols]\n",
    "scaler.fit(train_features)\n",
    "\n",
    "# Transform all splits\n",
    "train_df_scaled = train_df.copy()\n",
    "val_df_scaled = val_df.copy()\n",
    "test_df_scaled = test_df.copy()\n",
    "\n",
    "train_df_scaled[feature_cols] = scaler.transform(train_df[feature_cols])\n",
    "val_df_scaled[feature_cols] = scaler.transform(val_df[feature_cols])\n",
    "test_df_scaled[feature_cols] = scaler.transform(test_df[feature_cols])\n",
    "\n",
    "print(f\"✅ Features scaled: {len(feature_cols)} features\")\n",
    "print(f\"Feature scaling statistics (train set):\")\n",
    "print(f\"  Mean: {train_df_scaled[feature_cols].mean().mean():.6f}\")\n",
    "print(f\"  Std: {train_df_scaled[feature_cols].std().mean():.6f}\")"
   ]
  },
  {
   "cell_type": "markdown",
   "id": "036eb5a5",
   "metadata": {},
   "source": [
    "## 10. Save Processed Data"
   ]
  },
  {
   "cell_type": "code",
   "execution_count": 27,
   "id": "0f848fe9",
   "metadata": {},
   "outputs": [
    {
     "name": "stdout",
     "output_type": "stream",
     "text": [
      "=== SAVING PROCESSED DATA ===\n",
      "âœ… All processed data saved to ../data/processed/\n",
      "Files created:\n",
      "  - data_summary.txt\n",
      "  - data_with_sentiment.csv\n",
      "  - features.csv\n",
      "  - feature_metadata.csv\n",
      "  - feature_scaler.pkl\n",
      "  - feature_summary.txt\n",
      "  - merged_data.csv\n",
      "  - metadata.json\n",
      "  - test_data_raw.csv\n",
      "  - test_data_scaled.csv\n",
      "  - train_data_raw.csv\n",
      "  - train_data_scaled.csv\n",
      "  - val_data_raw.csv\n",
      "  - val_data_scaled.csv\n"
     ]
    }
   ],
   "source": [
    "# Save processed datasets\n",
    "print(\"=== SAVING PROCESSED DATA ===\")\n",
    "\n",
    "# Save unscaled data\n",
    "train_df.to_csv(PROCESSED_PATH + 'train_data_raw.csv', index=False)\n",
    "val_df.to_csv(PROCESSED_PATH + 'val_data_raw.csv', index=False)\n",
    "test_df.to_csv(PROCESSED_PATH + 'test_data_raw.csv', index=False)\n",
    "\n",
    "# Save scaled data\n",
    "train_df_scaled.to_csv(PROCESSED_PATH + 'train_data_scaled.csv', index=False)\n",
    "val_df_scaled.to_csv(PROCESSED_PATH + 'val_data_scaled.csv', index=False)\n",
    "test_df_scaled.to_csv(PROCESSED_PATH + 'test_data_scaled.csv', index=False)\n",
    "\n",
    "# Save feature names and metadata\n",
    "metadata = {\n",
    "    'feature_columns': feature_cols,\n",
    "    'target_columns': [col for col in final_df.columns if col.startswith('future_')],\n",
    "    'categorical_columns': ['ticker', 'future_return_1d_categorical', 'future_return_2d_categorical', 'future_return_5d_categorical'],\n",
    "    'date_column': 'date',\n",
    "    'total_features': len(feature_cols),\n",
    "    'train_samples': len(train_df),\n",
    "    'val_samples': len(val_df),\n",
    "    'test_samples': len(test_df)\n",
    "}\n",
    "\n",
    "import json\n",
    "with open(PROCESSED_PATH + 'metadata.json', 'w') as f:\n",
    "    json.dump(metadata, f, indent=2)\n",
    "\n",
    "# Save scaler\n",
    "import joblib\n",
    "joblib.dump(scaler, PROCESSED_PATH + 'feature_scaler.pkl')\n",
    "\n",
    "print(f\"âœ… All processed data saved to {PROCESSED_PATH}\")\n",
    "print(f\"Files created:\")\n",
    "for file in os.listdir(PROCESSED_PATH):\n",
    "    print(f\"  - {file}\")"
   ]
  },
  {
   "cell_type": "markdown",
   "id": "35813412",
   "metadata": {},
   "source": [
    "## 11. Summary and Next Steps"
   ]
  },
  {
   "cell_type": "code",
   "execution_count": 28,
   "id": "3ee3890e",
   "metadata": {},
   "outputs": [
    {
     "name": "stdout",
     "output_type": "stream",
     "text": [
      "=== PREPROCESSING SUMMARY ===\n",
      "\n",
      "1. DATA PROCESSING:\n",
      "   â€¢ Raw stock data: 1536 observations\n",
      "   â€¢ Raw news data: 485 articles\n",
      "   â€¢ Final merged dataset: 1533 observations\n",
      "   â€¢ Data coverage: 31.5% days with news\n",
      "\n",
      "2. FEATURE ENGINEERING:\n",
      "   â€¢ Total features created: 101\n",
      "   â€¢ Technical indicators: 21\n",
      "   â€¢ Sentiment features: 40\n",
      "   â€¢ Lag features: 16\n",
      "   â€¢ Moving average features: 12\n",
      "\n",
      "3. SENTIMENT ANALYSIS:\n",
      "   â€¢ VADER compound range: 0.000 to 0.637\n",
      "   â€¢ TextBlob polarity range: -0.132 to 0.433\n",
      "   â€¢ FinBERT positive range: 0.000 to 0.833\n",
      "\n",
      "4. TARGET VARIABLES:\n",
      "   â€¢ 1-day return prediction: 1533 samples\n",
      "   â€¢ Positive return rate (1d): 50.8%\n",
      "   â€¢ Average 1-day return: 0.044%\n",
      "   â€¢ Return volatility (1d): 4.624%\n",
      "\n",
      "5. DATA SPLITS:\n",
      "   â€¢ Training: 1073 samples (70.0%)\n",
      "   â€¢ Validation: 230 samples (15.0%)\n",
      "   â€¢ Test: 230 samples (15.0%)\n",
      "\n",
      "6. DATA QUALITY:\n",
      "   â€¢ Missing values in final dataset: 0\n",
      "   â€¢ Infinite values handled: âœ…\n",
      "   â€¢ Features scaled: âœ…\n",
      "   â€¢ Highly correlated features (>0.95): 114\n",
      "\n",
      "==================================================\n",
      "Preprocessing completed successfully!\n",
      "Next step: Run notebook 03-model-training.ipynb\n",
      "==================================================\n"
     ]
    }
   ],
   "source": [
    "# Generate preprocessing summary\n",
    "print(\"=== PREPROCESSING SUMMARY ===\")\n",
    "\n",
    "print(\"\\n1. DATA PROCESSING:\")\n",
    "print(f\"   â€¢ Raw stock data: {len(stock_df)} observations\")\n",
    "print(f\"   â€¢ Raw news data: {len(news_df)} articles\")\n",
    "print(f\"   â€¢ Final merged dataset: {len(final_df)} observations\")\n",
    "print(f\"   â€¢ Data coverage: {(final_df['article_count'] > 0).mean()*100:.1f}% days with news\")\n",
    "\n",
    "print(\"\\n2. FEATURE ENGINEERING:\")\n",
    "print(f\"   â€¢ Total features created: {len(feature_cols)}\")\n",
    "print(f\"   â€¢ Technical indicators: {len([c for c in feature_cols if any(x in c for x in ['sma', 'ema', 'rsi', 'bb', 'macd'])])}\")\n",
    "print(f\"   â€¢ Sentiment features: {len([c for c in feature_cols if 'sentiment' in c or 'vader' in c or 'textblob' in c or 'finbert' in c])}\")\n",
    "print(f\"   â€¢ Lag features: {len([c for c in feature_cols if 'lag' in c])}\")\n",
    "print(f\"   â€¢ Moving average features: {len([c for c in feature_cols if '_ma_' in c])}\")\n",
    "\n",
    "print(\"\\n3. SENTIMENT ANALYSIS:\")\n",
    "sentiment_stats = final_df[['headline_vader_compound_mean', 'headline_textblob_polarity_mean', 'headline_finbert_positive_mean']].describe()\n",
    "print(f\"   â€¢ VADER compound range: {sentiment_stats.loc['min', 'headline_vader_compound_mean']:.3f} to {sentiment_stats.loc['max', 'headline_vader_compound_mean']:.3f}\")\n",
    "print(f\"   â€¢ TextBlob polarity range: {sentiment_stats.loc['min', 'headline_textblob_polarity_mean']:.3f} to {sentiment_stats.loc['max', 'headline_textblob_polarity_mean']:.3f}\")\n",
    "print(f\"   â€¢ FinBERT positive range: {sentiment_stats.loc['min', 'headline_finbert_positive_mean']:.3f} to {sentiment_stats.loc['max', 'headline_finbert_positive_mean']:.3f}\")\n",
    "\n",
    "print(\"\\n4. TARGET VARIABLES:\")\n",
    "print(f\"   â€¢ 1-day return prediction: {(~final_df['future_return_1d'].isna()).sum()} samples\")\n",
    "print(f\"   â€¢ Positive return rate (1d): {final_df['future_return_1d_positive'].mean()*100:.1f}%\")\n",
    "print(f\"   â€¢ Average 1-day return: {final_df['future_return_1d'].mean()*100:.3f}%\")\n",
    "print(f\"   â€¢ Return volatility (1d): {final_df['future_return_1d'].std()*100:.3f}%\")\n",
    "\n",
    "print(\"\\n5. DATA SPLITS:\")\n",
    "print(f\"   â€¢ Training: {len(train_df)} samples ({len(train_df)/len(final_df)*100:.1f}%)\")\n",
    "print(f\"   â€¢ Validation: {len(val_df)} samples ({len(val_df)/len(final_df)*100:.1f}%)\")\n",
    "print(f\"   â€¢ Test: {len(test_df)} samples ({len(test_df)/len(final_df)*100:.1f}%)\")\n",
    "\n",
    "print(\"\\n6. DATA QUALITY:\")\n",
    "print(f\"   â€¢ Missing values in final dataset: {final_df.isnull().sum().sum()}\")\n",
    "print(f\"   â€¢ Infinite values handled: âœ…\")\n",
    "print(f\"   â€¢ Features scaled: âœ…\")\n",
    "print(f\"   â€¢ Highly correlated features (>0.95): {len(high_corr_pairs)}\")\n",
    "\n",
    "print(\"\\n\" + \"=\"*50)\n",
    "print(\"Preprocessing completed successfully!\")\n",
    "print(\"Next step: Run notebook 03-model-training.ipynb\")\n",
    "print(\"=\"*50)"
   ]
  }
 ],
 "metadata": {
  "kernelspec": {
   "display_name": "Python 3",
   "language": "python",
   "name": "python3"
  },
  "language_info": {
   "codemirror_mode": {
    "name": "ipython",
    "version": 3
   },
   "file_extension": ".py",
   "mimetype": "text/x-python",
   "name": "python",
   "nbconvert_exporter": "python",
   "pygments_lexer": "ipython3",
   "version": "3.11.0"
  }
 },
 "nbformat": 4,
 "nbformat_minor": 5
}
