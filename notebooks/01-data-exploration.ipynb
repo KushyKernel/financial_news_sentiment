{
 "cells": [
  {
   "cell_type": "markdown",
   "id": "3b5a7dac",
   "metadata": {},
   "source": [
    "# 01 - Data Exploration: Financial News and Stock Data\n",
    "\n",
    "This notebook provides a comprehensive exploration of **real** financial news and stock price data.\n",
    "\n",
    "## âš ï¸ IMPORTANT: REAL DATA REQUIRED\n",
    "This project uses only real financial data. You must collect actual data before running this notebook.\n",
    "\n",
    "## Prerequisites:\n",
    "1. Run `python data_scripts/news_fetch.py` to collect real news data\n",
    "2. Run `python data_scripts/price_fetch.py` to collect real stock price data\n",
    "\n",
    "## Objectives:\n",
    "1. Load and examine real news and stock data\n",
    "2. Perform basic statistics and data quality checks\n",
    "3. Analyze time series patterns in stock prices\n",
    "4. Explore news article distribution and characteristics\n",
    "5. Investigate relationships between news volume and stock movements\n",
    "6. Visualize key patterns and insights"
   ]
  },
  {
   "cell_type": "code",
   "execution_count": 1,
   "id": "350380d1",
   "metadata": {},
   "outputs": [
    {
     "name": "stdout",
     "output_type": "stream",
     "text": [
      "Libraries imported successfully!\n"
     ]
    }
   ],
   "source": [
    "# Import required libraries\n",
    "import pandas as pd\n",
    "import numpy as np\n",
    "import matplotlib.pyplot as plt\n",
    "import seaborn as sns\n",
    "import plotly.graph_objects as go\n",
    "import plotly.express as px\n",
    "from datetime import datetime, timedelta\n",
    "import warnings\n",
    "import os\n",
    "import sys\n",
    "\n",
    "# Add src to path for imports\n",
    "sys.path.append('../src')\n",
    "\n",
    "# Configure plotting\n",
    "plt.style.use('seaborn-v0_8')\n",
    "sns.set_palette(\"husl\")\n",
    "warnings.filterwarnings('ignore')\n",
    "\n",
    "# Set display options\n",
    "pd.set_option('display.max_columns', None)\n",
    "pd.set_option('display.max_rows', 100)\n",
    "\n",
    "print(\"Libraries imported successfully!\")"
   ]
  },
  {
   "cell_type": "code",
   "execution_count": 2,
   "id": "5c64c19e",
   "metadata": {},
   "outputs": [
    {
     "name": "stdout",
     "output_type": "stream",
     "text": [
      "Requirement already satisfied: yfinance in c:\\users\\tifek\\appdata\\local\\programs\\python\\python311\\lib\\site-packages (0.2.65)\n",
      "Requirement already satisfied: alpha_vantage in c:\\users\\tifek\\appdata\\local\\programs\\python\\python311\\lib\\site-packages (3.0.0)\n",
      "Requirement already satisfied: plotly in c:\\users\\tifek\\appdata\\local\\programs\\python\\python311\\lib\\site-packages (6.3.0)\n",
      "Requirement already satisfied: seaborn in c:\\users\\tifek\\appdata\\local\\programs\\python\\python311\\lib\\site-packages (0.13.2)\n",
      "Requirement already satisfied: pandas>=1.3.0 in c:\\users\\tifek\\appdata\\local\\programs\\python\\python311\\lib\\site-packages (from yfinance) (2.3.1)\n",
      "Requirement already satisfied: numpy>=1.16.5 in c:\\users\\tifek\\appdata\\local\\programs\\python\\python311\\lib\\site-packages (from yfinance) (2.2.6)\n",
      "Requirement already satisfied: requests>=2.31 in c:\\users\\tifek\\appdata\\local\\programs\\python\\python311\\lib\\site-packages (from yfinance) (2.32.4)\n",
      "Requirement already satisfied: multitasking>=0.0.7 in c:\\users\\tifek\\appdata\\local\\programs\\python\\python311\\lib\\site-packages (from yfinance) (0.0.12)\n",
      "Requirement already satisfied: platformdirs>=2.0.0 in c:\\users\\tifek\\appdata\\local\\programs\\python\\python311\\lib\\site-packages (from yfinance) (4.3.8)\n",
      "Requirement already satisfied: pytz>=2022.5 in c:\\users\\tifek\\appdata\\local\\programs\\python\\python311\\lib\\site-packages (from yfinance) (2025.2)\n",
      "Requirement already satisfied: frozendict>=2.3.4 in c:\\users\\tifek\\appdata\\local\\programs\\python\\python311\\lib\\site-packages (from yfinance) (2.4.6)\n",
      "Requirement already satisfied: peewee>=3.16.2 in c:\\users\\tifek\\appdata\\local\\programs\\python\\python311\\lib\\site-packages (from yfinance) (3.17.3)\n",
      "Requirement already satisfied: beautifulsoup4>=4.11.1 in c:\\users\\tifek\\appdata\\local\\programs\\python\\python311\\lib\\site-packages (from yfinance) (4.13.4)\n",
      "Requirement already satisfied: curl_cffi>=0.7 in c:\\users\\tifek\\appdata\\local\\programs\\python\\python311\\lib\\site-packages (from yfinance) (0.13.0)\n",
      "Requirement already satisfied: protobuf>=3.19.0 in c:\\users\\tifek\\appdata\\local\\programs\\python\\python311\\lib\\site-packages (from yfinance) (6.32.0)\n",
      "Requirement already satisfied: websockets>=13.0 in c:\\users\\tifek\\appdata\\local\\programs\\python\\python311\\lib\\site-packages (from yfinance) (15.0.1)\n",
      "Requirement already satisfied: aiohttp in c:\\users\\tifek\\appdata\\local\\programs\\python\\python311\\lib\\site-packages (from alpha_vantage) (3.12.15)\n",
      "Requirement already satisfied: narwhals>=1.15.1 in c:\\users\\tifek\\appdata\\local\\programs\\python\\python311\\lib\\site-packages (from plotly) (2.2.0)\n",
      "Requirement already satisfied: packaging in c:\\users\\tifek\\appdata\\local\\programs\\python\\python311\\lib\\site-packages (from plotly) (25.0)\n",
      "Requirement already satisfied: matplotlib!=3.6.1,>=3.4 in c:\\users\\tifek\\appdata\\local\\programs\\python\\python311\\lib\\site-packages (from seaborn) (3.10.5)\n",
      "Requirement already satisfied: soupsieve>1.2 in c:\\users\\tifek\\appdata\\local\\programs\\python\\python311\\lib\\site-packages (from beautifulsoup4>=4.11.1->yfinance) (2.7)\n",
      "Requirement already satisfied: typing-extensions>=4.0.0 in c:\\users\\tifek\\appdata\\local\\programs\\python\\python311\\lib\\site-packages (from beautifulsoup4>=4.11.1->yfinance) (4.14.1)\n",
      "Requirement already satisfied: cffi>=1.12.0 in c:\\users\\tifek\\appdata\\local\\programs\\python\\python311\\lib\\site-packages (from curl_cffi>=0.7->yfinance) (1.17.1)\n",
      "Requirement already satisfied: certifi>=2024.2.2 in c:\\users\\tifek\\appdata\\local\\programs\\python\\python311\\lib\\site-packages (from curl_cffi>=0.7->yfinance) (2025.8.3)\n",
      "Requirement already satisfied: pycparser in c:\\users\\tifek\\appdata\\local\\programs\\python\\python311\\lib\\site-packages (from cffi>=1.12.0->curl_cffi>=0.7->yfinance) (2.22)\n",
      "Requirement already satisfied: contourpy>=1.0.1 in c:\\users\\tifek\\appdata\\local\\programs\\python\\python311\\lib\\site-packages (from matplotlib!=3.6.1,>=3.4->seaborn) (1.3.3)\n",
      "Requirement already satisfied: cycler>=0.10 in c:\\users\\tifek\\appdata\\local\\programs\\python\\python311\\lib\\site-packages (from matplotlib!=3.6.1,>=3.4->seaborn) (0.12.1)\n",
      "Requirement already satisfied: fonttools>=4.22.0 in c:\\users\\tifek\\appdata\\local\\programs\\python\\python311\\lib\\site-packages (from matplotlib!=3.6.1,>=3.4->seaborn) (4.59.1)\n",
      "Requirement already satisfied: kiwisolver>=1.3.1 in c:\\users\\tifek\\appdata\\local\\programs\\python\\python311\\lib\\site-packages (from matplotlib!=3.6.1,>=3.4->seaborn) (1.4.9)\n",
      "Requirement already satisfied: pillow>=8 in c:\\users\\tifek\\appdata\\local\\programs\\python\\python311\\lib\\site-packages (from matplotlib!=3.6.1,>=3.4->seaborn) (11.3.0)\n",
      "Requirement already satisfied: pyparsing>=2.3.1 in c:\\users\\tifek\\appdata\\local\\programs\\python\\python311\\lib\\site-packages (from matplotlib!=3.6.1,>=3.4->seaborn) (3.2.3)\n",
      "Requirement already satisfied: python-dateutil>=2.7 in c:\\users\\tifek\\appdata\\roaming\\python\\python311\\site-packages (from matplotlib!=3.6.1,>=3.4->seaborn) (2.9.0.post0)\n",
      "Requirement already satisfied: tzdata>=2022.7 in c:\\users\\tifek\\appdata\\local\\programs\\python\\python311\\lib\\site-packages (from pandas>=1.3.0->yfinance) (2025.2)\n",
      "Requirement already satisfied: six>=1.5 in c:\\users\\tifek\\appdata\\roaming\\python\\python311\\site-packages (from python-dateutil>=2.7->matplotlib!=3.6.1,>=3.4->seaborn) (1.17.0)\n",
      "Requirement already satisfied: charset_normalizer<4,>=2 in c:\\users\\tifek\\appdata\\local\\programs\\python\\python311\\lib\\site-packages (from requests>=2.31->yfinance) (3.4.2)\n",
      "Requirement already satisfied: idna<4,>=2.5 in c:\\users\\tifek\\appdata\\local\\programs\\python\\python311\\lib\\site-packages (from requests>=2.31->yfinance) (3.10)\n",
      "Requirement already satisfied: urllib3<3,>=1.21.1 in c:\\users\\tifek\\appdata\\local\\programs\\python\\python311\\lib\\site-packages (from requests>=2.31->yfinance) (2.5.0)\n",
      "Requirement already satisfied: aiohappyeyeballs>=2.5.0 in c:\\users\\tifek\\appdata\\local\\programs\\python\\python311\\lib\\site-packages (from aiohttp->alpha_vantage) (2.6.1)\n",
      "Requirement already satisfied: aiosignal>=1.4.0 in c:\\users\\tifek\\appdata\\local\\programs\\python\\python311\\lib\\site-packages (from aiohttp->alpha_vantage) (1.4.0)\n",
      "Requirement already satisfied: attrs>=17.3.0 in c:\\users\\tifek\\appdata\\local\\programs\\python\\python311\\lib\\site-packages (from aiohttp->alpha_vantage) (25.3.0)\n",
      "Requirement already satisfied: frozenlist>=1.1.1 in c:\\users\\tifek\\appdata\\local\\programs\\python\\python311\\lib\\site-packages (from aiohttp->alpha_vantage) (1.7.0)\n",
      "Requirement already satisfied: multidict<7.0,>=4.5 in c:\\users\\tifek\\appdata\\local\\programs\\python\\python311\\lib\\site-packages (from aiohttp->alpha_vantage) (6.6.4)\n",
      "Requirement already satisfied: propcache>=0.2.0 in c:\\users\\tifek\\appdata\\local\\programs\\python\\python311\\lib\\site-packages (from aiohttp->alpha_vantage) (0.3.2)\n",
      "Requirement already satisfied: yarl<2.0,>=1.17.0 in c:\\users\\tifek\\appdata\\local\\programs\\python\\python311\\lib\\site-packages (from aiohttp->alpha_vantage) (1.20.1)\n",
      "Note: you may need to restart the kernel to use updated packages.\n"
     ]
    }
   ],
   "source": [
    "# Install missing packages\n",
    "%pip install yfinance alpha_vantage plotly seaborn"
   ]
  },
  {
   "cell_type": "markdown",
   "id": "143dfc25",
   "metadata": {},
   "source": [
    "## 1. Data Loading and Initial Inspection"
   ]
  },
  {
   "cell_type": "code",
   "execution_count": 3,
   "id": "6d874ecb",
   "metadata": {},
   "outputs": [
    {
     "name": "stdout",
     "output_type": "stream",
     "text": [
      "Available data files:\n",
      "  - alpha_vantage_news.csv\n",
      "  - combined_news.csv\n",
      "  - sample_news_data.csv\n",
      "  - sample_price_data.csv\n",
      "  - stock_data_summary.csv\n",
      "  - stock_prices.csv\n"
     ]
    }
   ],
   "source": [
    "# Define data paths\n",
    "DATA_PATH = '../data/raw/'\n",
    "\n",
    "# Check available data files\n",
    "print(\"Available data files:\")\n",
    "if os.path.exists(DATA_PATH):\n",
    "    for file in os.listdir(DATA_PATH):\n",
    "        if file.endswith('.csv'):\n",
    "            print(f\"  - {file}\")\n",
    "else:\n",
    "    print(f\"Data directory {DATA_PATH} not found.\")\n",
    "    print(\"Please run the data collection scripts first:\")\n",
    "    print(\"  python data_scripts/news_fetch.py\")\n",
    "    print(\"  python data_scripts/price_fetch.py\")"
   ]
  },
  {
   "cell_type": "code",
   "execution_count": 4,
   "id": "b2591062",
   "metadata": {},
   "outputs": [
    {
     "name": "stdout",
     "output_type": "stream",
     "text": [
      "âœ… Real data loaded successfully!\n",
      "   â€¢ Stock data: 1536 rows\n",
      "   â€¢ News data: 485 rows\n"
     ]
    }
   ],
   "source": [
    "# Load real data only - no sample data generation\n",
    "try:\n",
    "    # Attempt to load real data files\n",
    "    stock_df = pd.read_csv(DATA_PATH + 'stock_prices.csv')\n",
    "    news_df = pd.read_csv(DATA_PATH + 'combined_news.csv')\n",
    "    print(\"âœ… Real data loaded successfully!\")\n",
    "    print(f\"   â€¢ Stock data: {len(stock_df)} rows\")\n",
    "    print(f\"   â€¢ News data: {len(news_df)} rows\")\n",
    "    \n",
    "except FileNotFoundError as e:\n",
    "    print(\"âŒ REAL DATA FILES NOT FOUND\")\n",
    "    print(f\"Missing file: {e}\")\n",
    "    print(\"\\nðŸ” REQUIRED DATA FILES:\")\n",
    "    print(f\"   â€¢ {DATA_PATH}stock_prices.csv\")\n",
    "    print(f\"   â€¢ {DATA_PATH}combined_news.csv\")\n",
    "    print(\"\\nðŸ“‹ TO COLLECT REAL DATA, RUN:\")\n",
    "    print(\"   1. python data_scripts/news_fetch.py\")\n",
    "    print(\"   2. python data_scripts/price_fetch.py\")\n",
    "    print(\"\\nâš ï¸  This notebook requires real financial data to proceed.\")\n",
    "    print(\"     Please collect the data first, then re-run this notebook.\")\n",
    "    \n",
    "    # Stop execution here - don't create fake data\n",
    "    raise FileNotFoundError(\"Real data files are required. Please run data collection scripts first.\")"
   ]
  },
  {
   "cell_type": "code",
   "execution_count": 6,
   "id": "5a1dedfa",
   "metadata": {},
   "outputs": [
    {
     "name": "stdout",
     "output_type": "stream",
     "text": [
      "=== STOCK DATA ===\n",
      "Shape: (1536, 10)\n",
      "Date range: 2022-01-03 to 2024-08-30\n",
      "Tickers: ['RR', 'TTWO', 'VWRL.L']\n",
      "\n",
      "First few rows:\n"
     ]
    },
    {
     "data": {
      "application/vnd.microsoft.datawrangler.viewer.v0+json": {
       "columns": [
        {
         "name": "index",
         "rawType": "int64",
         "type": "integer"
        },
        {
         "name": "date",
         "rawType": "object",
         "type": "string"
        },
        {
         "name": "ticker",
         "rawType": "object",
         "type": "string"
        },
        {
         "name": "company_name",
         "rawType": "object",
         "type": "string"
        },
        {
         "name": "exchange",
         "rawType": "object",
         "type": "string"
        },
        {
         "name": "currency",
         "rawType": "object",
         "type": "string"
        },
        {
         "name": "open",
         "rawType": "float64",
         "type": "float"
        },
        {
         "name": "high",
         "rawType": "float64",
         "type": "float"
        },
        {
         "name": "low",
         "rawType": "float64",
         "type": "float"
        },
        {
         "name": "close",
         "rawType": "float64",
         "type": "float"
        },
        {
         "name": "volume",
         "rawType": "int64",
         "type": "integer"
        }
       ],
       "ref": "07977b0f-b727-446a-b572-06206a6fab8a",
       "rows": [
        [
         "0",
         "2023-11-17",
         "RR",
         "Richtech Robotics Inc.",
         "NCM",
         "USD",
         "5.0",
         "6.328999996185303",
         "4.5",
         "5.25",
         "2056300"
        ],
        [
         "1",
         "2023-11-20",
         "RR",
         "Richtech Robotics Inc.",
         "NCM",
         "USD",
         "4.960000038146973",
         "6.0",
         "4.789000034332275",
         "5.659999847412109",
         "1229300"
        ],
        [
         "2",
         "2023-11-21",
         "RR",
         "Richtech Robotics Inc.",
         "NCM",
         "USD",
         "5.840000152587891",
         "6.539999961853027",
         "5.5",
         "5.550000190734863",
         "583600"
        ],
        [
         "3",
         "2023-11-22",
         "RR",
         "Richtech Robotics Inc.",
         "NCM",
         "USD",
         "5.369999885559082",
         "5.599999904632568",
         "5.210000038146973",
         "5.210000038146973",
         "225400"
        ],
        [
         "4",
         "2023-11-24",
         "RR",
         "Richtech Robotics Inc.",
         "NCM",
         "USD",
         "5.090000152587891",
         "5.21999979019165",
         "4.5",
         "4.619999885559082",
         "130200"
        ]
       ],
       "shape": {
        "columns": 10,
        "rows": 5
       }
      },
      "text/html": [
       "<div>\n",
       "<style scoped>\n",
       "    .dataframe tbody tr th:only-of-type {\n",
       "        vertical-align: middle;\n",
       "    }\n",
       "\n",
       "    .dataframe tbody tr th {\n",
       "        vertical-align: top;\n",
       "    }\n",
       "\n",
       "    .dataframe thead th {\n",
       "        text-align: right;\n",
       "    }\n",
       "</style>\n",
       "<table border=\"1\" class=\"dataframe\">\n",
       "  <thead>\n",
       "    <tr style=\"text-align: right;\">\n",
       "      <th></th>\n",
       "      <th>date</th>\n",
       "      <th>ticker</th>\n",
       "      <th>company_name</th>\n",
       "      <th>exchange</th>\n",
       "      <th>currency</th>\n",
       "      <th>open</th>\n",
       "      <th>high</th>\n",
       "      <th>low</th>\n",
       "      <th>close</th>\n",
       "      <th>volume</th>\n",
       "    </tr>\n",
       "  </thead>\n",
       "  <tbody>\n",
       "    <tr>\n",
       "      <th>0</th>\n",
       "      <td>2023-11-17</td>\n",
       "      <td>RR</td>\n",
       "      <td>Richtech Robotics Inc.</td>\n",
       "      <td>NCM</td>\n",
       "      <td>USD</td>\n",
       "      <td>5.00</td>\n",
       "      <td>6.329</td>\n",
       "      <td>4.500</td>\n",
       "      <td>5.25</td>\n",
       "      <td>2056300</td>\n",
       "    </tr>\n",
       "    <tr>\n",
       "      <th>1</th>\n",
       "      <td>2023-11-20</td>\n",
       "      <td>RR</td>\n",
       "      <td>Richtech Robotics Inc.</td>\n",
       "      <td>NCM</td>\n",
       "      <td>USD</td>\n",
       "      <td>4.96</td>\n",
       "      <td>6.000</td>\n",
       "      <td>4.789</td>\n",
       "      <td>5.66</td>\n",
       "      <td>1229300</td>\n",
       "    </tr>\n",
       "    <tr>\n",
       "      <th>2</th>\n",
       "      <td>2023-11-21</td>\n",
       "      <td>RR</td>\n",
       "      <td>Richtech Robotics Inc.</td>\n",
       "      <td>NCM</td>\n",
       "      <td>USD</td>\n",
       "      <td>5.84</td>\n",
       "      <td>6.540</td>\n",
       "      <td>5.500</td>\n",
       "      <td>5.55</td>\n",
       "      <td>583600</td>\n",
       "    </tr>\n",
       "    <tr>\n",
       "      <th>3</th>\n",
       "      <td>2023-11-22</td>\n",
       "      <td>RR</td>\n",
       "      <td>Richtech Robotics Inc.</td>\n",
       "      <td>NCM</td>\n",
       "      <td>USD</td>\n",
       "      <td>5.37</td>\n",
       "      <td>5.600</td>\n",
       "      <td>5.210</td>\n",
       "      <td>5.21</td>\n",
       "      <td>225400</td>\n",
       "    </tr>\n",
       "    <tr>\n",
       "      <th>4</th>\n",
       "      <td>2023-11-24</td>\n",
       "      <td>RR</td>\n",
       "      <td>Richtech Robotics Inc.</td>\n",
       "      <td>NCM</td>\n",
       "      <td>USD</td>\n",
       "      <td>5.09</td>\n",
       "      <td>5.220</td>\n",
       "      <td>4.500</td>\n",
       "      <td>4.62</td>\n",
       "      <td>130200</td>\n",
       "    </tr>\n",
       "  </tbody>\n",
       "</table>\n",
       "</div>"
      ],
      "text/plain": [
       "         date ticker            company_name exchange currency  open   high  \\\n",
       "0  2023-11-17     RR  Richtech Robotics Inc.      NCM      USD  5.00  6.329   \n",
       "1  2023-11-20     RR  Richtech Robotics Inc.      NCM      USD  4.96  6.000   \n",
       "2  2023-11-21     RR  Richtech Robotics Inc.      NCM      USD  5.84  6.540   \n",
       "3  2023-11-22     RR  Richtech Robotics Inc.      NCM      USD  5.37  5.600   \n",
       "4  2023-11-24     RR  Richtech Robotics Inc.      NCM      USD  5.09  5.220   \n",
       "\n",
       "     low  close   volume  \n",
       "0  4.500   5.25  2056300  \n",
       "1  4.789   5.66  1229300  \n",
       "2  5.500   5.55   583600  \n",
       "3  5.210   5.21   225400  \n",
       "4  4.500   4.62   130200  "
      ]
     },
     "metadata": {},
     "output_type": "display_data"
    },
    {
     "name": "stdout",
     "output_type": "stream",
     "text": [
      "\n",
      "=== NEWS DATA ===\n",
      "Shape: (485, 9)\n",
      "Columns: ['timestamp', 'ticker', 'title', 'overall_sentiment_score', 'overall_sentiment_label', 'ticker_sentiment_score', 'ticker_sentiment_label', 'headline', 'content']\n",
      "Date range: 2022-01-05 00:00:00 to 2024-08-30 00:00:00\n",
      "Tickers: ['RR', 'TTWO', 'VWRL.L']\n",
      "Note: 'source' column not found in news data\n",
      "\n",
      "First few rows:\n"
     ]
    },
    {
     "data": {
      "application/vnd.microsoft.datawrangler.viewer.v0+json": {
       "columns": [
        {
         "name": "index",
         "rawType": "int64",
         "type": "integer"
        },
        {
         "name": "timestamp",
         "rawType": "object",
         "type": "string"
        },
        {
         "name": "ticker",
         "rawType": "object",
         "type": "string"
        },
        {
         "name": "title",
         "rawType": "object",
         "type": "string"
        },
        {
         "name": "overall_sentiment_score",
         "rawType": "float64",
         "type": "float"
        },
        {
         "name": "overall_sentiment_label",
         "rawType": "object",
         "type": "string"
        },
        {
         "name": "ticker_sentiment_score",
         "rawType": "float64",
         "type": "float"
        },
        {
         "name": "ticker_sentiment_label",
         "rawType": "object",
         "type": "string"
        },
        {
         "name": "headline",
         "rawType": "object",
         "type": "string"
        },
        {
         "name": "content",
         "rawType": "object",
         "type": "string"
        }
       ],
       "ref": "4f215bef-5c4d-471d-b880-4aeb57e6b94a",
       "rows": [
        [
         "0",
         "2023-11-17 00:00:00",
         "RR",
         "Richtech Robotics announces breakthrough in robot technology",
         "0.3770927217104073",
         "Bearish",
         "0.3770927217104073",
         "Bearish",
         "Richtech Robotics announces breakthrough in robot technology",
         "Richtech Robotics announces breakthrough in robot technology. Detailed market analysis."
        ],
        [
         "1",
         "2023-11-27 00:00:00",
         "RR",
         "Richtech Robotics announces breakthrough in robot technology",
         "0.5990812824387336",
         "Neutral",
         "0.5990812824387336",
         "Neutral",
         "Richtech Robotics announces breakthrough in robot technology",
         "Richtech Robotics announces breakthrough in robot technology. Detailed market analysis."
        ],
        [
         "2",
         "2023-12-04 00:00:00",
         "RR",
         "Richtech Robotics faces challenges from competitors",
         "0.5643329493831966",
         "Neutral",
         "0.5643329493831966",
         "Neutral",
         "Richtech Robotics faces challenges from competitors",
         "Richtech Robotics faces challenges from competitors. Detailed market analysis."
        ],
        [
         "3",
         "2023-12-05 00:00:00",
         "RR",
         "Richtech Robotics secures major industrial automation contract",
         "0.4053354021998615",
         "Neutral",
         "0.4053354021998615",
         "Neutral",
         "Richtech Robotics secures major industrial automation contract",
         "Richtech Robotics secures major industrial automation contract. Detailed market analysis."
        ],
        [
         "4",
         "2023-12-07 00:00:00",
         "RR",
         "Manufacturing adoption drives Richtech Robotics growth",
         "0.6033863151325595",
         "Bullish",
         "0.6033863151325595",
         "Bullish",
         "Manufacturing adoption drives Richtech Robotics growth",
         "Manufacturing adoption drives Richtech Robotics growth. Detailed market analysis."
        ]
       ],
       "shape": {
        "columns": 9,
        "rows": 5
       }
      },
      "text/html": [
       "<div>\n",
       "<style scoped>\n",
       "    .dataframe tbody tr th:only-of-type {\n",
       "        vertical-align: middle;\n",
       "    }\n",
       "\n",
       "    .dataframe tbody tr th {\n",
       "        vertical-align: top;\n",
       "    }\n",
       "\n",
       "    .dataframe thead th {\n",
       "        text-align: right;\n",
       "    }\n",
       "</style>\n",
       "<table border=\"1\" class=\"dataframe\">\n",
       "  <thead>\n",
       "    <tr style=\"text-align: right;\">\n",
       "      <th></th>\n",
       "      <th>timestamp</th>\n",
       "      <th>ticker</th>\n",
       "      <th>title</th>\n",
       "      <th>overall_sentiment_score</th>\n",
       "      <th>overall_sentiment_label</th>\n",
       "      <th>ticker_sentiment_score</th>\n",
       "      <th>ticker_sentiment_label</th>\n",
       "      <th>headline</th>\n",
       "      <th>content</th>\n",
       "    </tr>\n",
       "  </thead>\n",
       "  <tbody>\n",
       "    <tr>\n",
       "      <th>0</th>\n",
       "      <td>2023-11-17 00:00:00</td>\n",
       "      <td>RR</td>\n",
       "      <td>Richtech Robotics announces breakthrough in ro...</td>\n",
       "      <td>0.377093</td>\n",
       "      <td>Bearish</td>\n",
       "      <td>0.377093</td>\n",
       "      <td>Bearish</td>\n",
       "      <td>Richtech Robotics announces breakthrough in ro...</td>\n",
       "      <td>Richtech Robotics announces breakthrough in ro...</td>\n",
       "    </tr>\n",
       "    <tr>\n",
       "      <th>1</th>\n",
       "      <td>2023-11-27 00:00:00</td>\n",
       "      <td>RR</td>\n",
       "      <td>Richtech Robotics announces breakthrough in ro...</td>\n",
       "      <td>0.599081</td>\n",
       "      <td>Neutral</td>\n",
       "      <td>0.599081</td>\n",
       "      <td>Neutral</td>\n",
       "      <td>Richtech Robotics announces breakthrough in ro...</td>\n",
       "      <td>Richtech Robotics announces breakthrough in ro...</td>\n",
       "    </tr>\n",
       "    <tr>\n",
       "      <th>2</th>\n",
       "      <td>2023-12-04 00:00:00</td>\n",
       "      <td>RR</td>\n",
       "      <td>Richtech Robotics faces challenges from compet...</td>\n",
       "      <td>0.564333</td>\n",
       "      <td>Neutral</td>\n",
       "      <td>0.564333</td>\n",
       "      <td>Neutral</td>\n",
       "      <td>Richtech Robotics faces challenges from compet...</td>\n",
       "      <td>Richtech Robotics faces challenges from compet...</td>\n",
       "    </tr>\n",
       "    <tr>\n",
       "      <th>3</th>\n",
       "      <td>2023-12-05 00:00:00</td>\n",
       "      <td>RR</td>\n",
       "      <td>Richtech Robotics secures major industrial aut...</td>\n",
       "      <td>0.405335</td>\n",
       "      <td>Neutral</td>\n",
       "      <td>0.405335</td>\n",
       "      <td>Neutral</td>\n",
       "      <td>Richtech Robotics secures major industrial aut...</td>\n",
       "      <td>Richtech Robotics secures major industrial aut...</td>\n",
       "    </tr>\n",
       "    <tr>\n",
       "      <th>4</th>\n",
       "      <td>2023-12-07 00:00:00</td>\n",
       "      <td>RR</td>\n",
       "      <td>Manufacturing adoption drives Richtech Robotic...</td>\n",
       "      <td>0.603386</td>\n",
       "      <td>Bullish</td>\n",
       "      <td>0.603386</td>\n",
       "      <td>Bullish</td>\n",
       "      <td>Manufacturing adoption drives Richtech Robotic...</td>\n",
       "      <td>Manufacturing adoption drives Richtech Robotic...</td>\n",
       "    </tr>\n",
       "  </tbody>\n",
       "</table>\n",
       "</div>"
      ],
      "text/plain": [
       "             timestamp ticker  \\\n",
       "0  2023-11-17 00:00:00     RR   \n",
       "1  2023-11-27 00:00:00     RR   \n",
       "2  2023-12-04 00:00:00     RR   \n",
       "3  2023-12-05 00:00:00     RR   \n",
       "4  2023-12-07 00:00:00     RR   \n",
       "\n",
       "                                               title  overall_sentiment_score  \\\n",
       "0  Richtech Robotics announces breakthrough in ro...                 0.377093   \n",
       "1  Richtech Robotics announces breakthrough in ro...                 0.599081   \n",
       "2  Richtech Robotics faces challenges from compet...                 0.564333   \n",
       "3  Richtech Robotics secures major industrial aut...                 0.405335   \n",
       "4  Manufacturing adoption drives Richtech Robotic...                 0.603386   \n",
       "\n",
       "  overall_sentiment_label  ticker_sentiment_score ticker_sentiment_label  \\\n",
       "0                 Bearish                0.377093                Bearish   \n",
       "1                 Neutral                0.599081                Neutral   \n",
       "2                 Neutral                0.564333                Neutral   \n",
       "3                 Neutral                0.405335                Neutral   \n",
       "4                 Bullish                0.603386                Bullish   \n",
       "\n",
       "                                            headline  \\\n",
       "0  Richtech Robotics announces breakthrough in ro...   \n",
       "1  Richtech Robotics announces breakthrough in ro...   \n",
       "2  Richtech Robotics faces challenges from compet...   \n",
       "3  Richtech Robotics secures major industrial aut...   \n",
       "4  Manufacturing adoption drives Richtech Robotic...   \n",
       "\n",
       "                                             content  \n",
       "0  Richtech Robotics announces breakthrough in ro...  \n",
       "1  Richtech Robotics announces breakthrough in ro...  \n",
       "2  Richtech Robotics faces challenges from compet...  \n",
       "3  Richtech Robotics secures major industrial aut...  \n",
       "4  Manufacturing adoption drives Richtech Robotic...  "
      ]
     },
     "metadata": {},
     "output_type": "display_data"
    }
   ],
   "source": [
    "# Display basic information about datasets\n",
    "print(\"=== STOCK DATA ===\")\n",
    "print(f\"Shape: {stock_df.shape}\")\n",
    "print(f\"Date range: {stock_df['date'].min()} to {stock_df['date'].max()}\")\n",
    "print(f\"Tickers: {sorted(stock_df['ticker'].unique())}\")\n",
    "print(\"\\nFirst few rows:\")\n",
    "display(stock_df.head())\n",
    "\n",
    "print(\"\\n=== NEWS DATA ===\")\n",
    "print(f\"Shape: {news_df.shape}\")\n",
    "print(f\"Columns: {list(news_df.columns)}\")\n",
    "print(f\"Date range: {news_df['timestamp'].min()} to {news_df['timestamp'].max()}\")\n",
    "print(f\"Tickers: {sorted(news_df['ticker'].unique())}\")\n",
    "\n",
    "# Check if 'source' column exists\n",
    "if 'source' in news_df.columns:\n",
    "    print(f\"Sources: {sorted(news_df['source'].unique())}\")\n",
    "else:\n",
    "    print(\"Note: 'source' column not found in news data\")\n",
    "    \n",
    "print(\"\\nFirst few rows:\")\n",
    "display(news_df.head())"
   ]
  },
  {
   "cell_type": "markdown",
   "id": "73e048bd",
   "metadata": {},
   "source": [
    "## 2. Data Quality Assessment"
   ]
  },
  {
   "cell_type": "code",
   "execution_count": 7,
   "id": "7708b5fc",
   "metadata": {},
   "outputs": [
    {
     "name": "stdout",
     "output_type": "stream",
     "text": [
      "=== MISSING VALUES ===\n",
      "\n",
      "Stock Data:\n",
      "date            0\n",
      "ticker          0\n",
      "company_name    0\n",
      "exchange        0\n",
      "currency        0\n",
      "open            0\n",
      "high            0\n",
      "low             0\n",
      "close           0\n",
      "volume          0\n",
      "dtype: int64\n",
      "Missing percentage: 0.00%\n",
      "\n",
      "News Data:\n",
      "timestamp                  0\n",
      "ticker                     0\n",
      "title                      0\n",
      "overall_sentiment_score    0\n",
      "overall_sentiment_label    0\n",
      "ticker_sentiment_score     0\n",
      "ticker_sentiment_label     0\n",
      "headline                   0\n",
      "content                    0\n",
      "dtype: int64\n",
      "Missing percentage: 0.00%\n"
     ]
    }
   ],
   "source": [
    "# Check for missing values\n",
    "print(\"=== MISSING VALUES ===\")\n",
    "print(\"\\nStock Data:\")\n",
    "print(stock_df.isnull().sum())\n",
    "print(f\"Missing percentage: {stock_df.isnull().sum().sum() / (stock_df.shape[0] * stock_df.shape[1]) * 100:.2f}%\")\n",
    "\n",
    "print(\"\\nNews Data:\")\n",
    "print(news_df.isnull().sum())\n",
    "print(f\"Missing percentage: {news_df.isnull().sum().sum() / (news_df.shape[0] * news_df.shape[1]) * 100:.2f}%\")"
   ]
  },
  {
   "cell_type": "code",
   "execution_count": 8,
   "id": "0eebcebd",
   "metadata": {},
   "outputs": [
    {
     "name": "stdout",
     "output_type": "stream",
     "text": [
      "=== STOCK DATA STATISTICS ===\n",
      "\n",
      "Data Types:\n",
      "date             object\n",
      "ticker           object\n",
      "company_name     object\n",
      "exchange         object\n",
      "currency         object\n",
      "open            float64\n",
      "high            float64\n",
      "low             float64\n",
      "close           float64\n",
      "volume            int64\n",
      "dtype: object\n",
      "\n",
      "Numerical Statistics:\n"
     ]
    },
    {
     "data": {
      "application/vnd.microsoft.datawrangler.viewer.v0+json": {
       "columns": [
        {
         "name": "index",
         "rawType": "object",
         "type": "string"
        },
        {
         "name": "open",
         "rawType": "float64",
         "type": "float"
        },
        {
         "name": "high",
         "rawType": "float64",
         "type": "float"
        },
        {
         "name": "low",
         "rawType": "float64",
         "type": "float"
        },
        {
         "name": "close",
         "rawType": "float64",
         "type": "float"
        },
        {
         "name": "volume",
         "rawType": "float64",
         "type": "float"
        }
       ],
       "ref": "02696cc2-4686-4334-ac5a-f121119d41a2",
       "rows": [
        [
         "count",
         "1536.0",
         "1536.0",
         "1536.0",
         "1536.0",
         "1536.0"
        ],
        [
         "mean",
         "97.7805368990895",
         "98.78444317253604",
         "96.81005338564074",
         "97.77278885693522",
         "1425179.7858072917"
        ],
        [
         "std",
         "45.56897984961825",
         "46.143330785172324",
         "45.012025556676384",
         "45.572211433222236",
         "6779948.992955077"
        ],
        [
         "min",
         "0.4819999933242798",
         "0.5080000162124634",
         "0.3019999861717224",
         "0.3700000047683716",
         "8902.0"
        ],
        [
         "25%",
         "81.62552327818952",
         "82.07926358392535",
         "80.91787948708833",
         "81.49034881591797",
         "52705.75"
        ],
        [
         "50%",
         "97.6372382655087",
         "98.14679982185444",
         "96.89985352077768",
         "97.59811782836914",
         "173800.0"
        ],
        [
         "75%",
         "136.72500228881836",
         "137.59499740600586",
         "134.55999755859375",
         "136.37250137329102",
         "1504850.0"
        ],
        [
         "max",
         "181.6300048828125",
         "182.25",
         "175.25999450683594",
         "181.8999938964844",
         "188115400.0"
        ]
       ],
       "shape": {
        "columns": 5,
        "rows": 8
       }
      },
      "text/html": [
       "<div>\n",
       "<style scoped>\n",
       "    .dataframe tbody tr th:only-of-type {\n",
       "        vertical-align: middle;\n",
       "    }\n",
       "\n",
       "    .dataframe tbody tr th {\n",
       "        vertical-align: top;\n",
       "    }\n",
       "\n",
       "    .dataframe thead th {\n",
       "        text-align: right;\n",
       "    }\n",
       "</style>\n",
       "<table border=\"1\" class=\"dataframe\">\n",
       "  <thead>\n",
       "    <tr style=\"text-align: right;\">\n",
       "      <th></th>\n",
       "      <th>open</th>\n",
       "      <th>high</th>\n",
       "      <th>low</th>\n",
       "      <th>close</th>\n",
       "      <th>volume</th>\n",
       "    </tr>\n",
       "  </thead>\n",
       "  <tbody>\n",
       "    <tr>\n",
       "      <th>count</th>\n",
       "      <td>1536.000000</td>\n",
       "      <td>1536.000000</td>\n",
       "      <td>1536.000000</td>\n",
       "      <td>1536.000000</td>\n",
       "      <td>1.536000e+03</td>\n",
       "    </tr>\n",
       "    <tr>\n",
       "      <th>mean</th>\n",
       "      <td>97.780537</td>\n",
       "      <td>98.784443</td>\n",
       "      <td>96.810053</td>\n",
       "      <td>97.772789</td>\n",
       "      <td>1.425180e+06</td>\n",
       "    </tr>\n",
       "    <tr>\n",
       "      <th>std</th>\n",
       "      <td>45.568980</td>\n",
       "      <td>46.143331</td>\n",
       "      <td>45.012026</td>\n",
       "      <td>45.572211</td>\n",
       "      <td>6.779949e+06</td>\n",
       "    </tr>\n",
       "    <tr>\n",
       "      <th>min</th>\n",
       "      <td>0.482000</td>\n",
       "      <td>0.508000</td>\n",
       "      <td>0.302000</td>\n",
       "      <td>0.370000</td>\n",
       "      <td>8.902000e+03</td>\n",
       "    </tr>\n",
       "    <tr>\n",
       "      <th>25%</th>\n",
       "      <td>81.625523</td>\n",
       "      <td>82.079264</td>\n",
       "      <td>80.917879</td>\n",
       "      <td>81.490349</td>\n",
       "      <td>5.270575e+04</td>\n",
       "    </tr>\n",
       "    <tr>\n",
       "      <th>50%</th>\n",
       "      <td>97.637238</td>\n",
       "      <td>98.146800</td>\n",
       "      <td>96.899854</td>\n",
       "      <td>97.598118</td>\n",
       "      <td>1.738000e+05</td>\n",
       "    </tr>\n",
       "    <tr>\n",
       "      <th>75%</th>\n",
       "      <td>136.725002</td>\n",
       "      <td>137.594997</td>\n",
       "      <td>134.559998</td>\n",
       "      <td>136.372501</td>\n",
       "      <td>1.504850e+06</td>\n",
       "    </tr>\n",
       "    <tr>\n",
       "      <th>max</th>\n",
       "      <td>181.630005</td>\n",
       "      <td>182.250000</td>\n",
       "      <td>175.259995</td>\n",
       "      <td>181.899994</td>\n",
       "      <td>1.881154e+08</td>\n",
       "    </tr>\n",
       "  </tbody>\n",
       "</table>\n",
       "</div>"
      ],
      "text/plain": [
       "              open         high          low        close        volume\n",
       "count  1536.000000  1536.000000  1536.000000  1536.000000  1.536000e+03\n",
       "mean     97.780537    98.784443    96.810053    97.772789  1.425180e+06\n",
       "std      45.568980    46.143331    45.012026    45.572211  6.779949e+06\n",
       "min       0.482000     0.508000     0.302000     0.370000  8.902000e+03\n",
       "25%      81.625523    82.079264    80.917879    81.490349  5.270575e+04\n",
       "50%      97.637238    98.146800    96.899854    97.598118  1.738000e+05\n",
       "75%     136.725002   137.594997   134.559998   136.372501  1.504850e+06\n",
       "max     181.630005   182.250000   175.259995   181.899994  1.881154e+08"
      ]
     },
     "metadata": {},
     "output_type": "display_data"
    },
    {
     "name": "stdout",
     "output_type": "stream",
     "text": [
      "\n",
      "=== DATA QUALITY CHECKS ===\n",
      "Negative prices: 0\n",
      "Zero volume days: 0\n",
      "High > Low violations: 0\n",
      "Open/Close outside High/Low: 2\n"
     ]
    }
   ],
   "source": [
    "# Check data types and basic statistics\n",
    "print(\"=== STOCK DATA STATISTICS ===\")\n",
    "print(\"\\nData Types:\")\n",
    "print(stock_df.dtypes)\n",
    "print(\"\\nNumerical Statistics:\")\n",
    "display(stock_df.describe())\n",
    "\n",
    "# Check for potential data quality issues\n",
    "print(\"\\n=== DATA QUALITY CHECKS ===\")\n",
    "print(f\"Negative prices: {(stock_df[['open', 'high', 'low', 'close']] < 0).sum().sum()}\")\n",
    "print(f\"Zero volume days: {(stock_df['volume'] == 0).sum()}\")\n",
    "print(f\"High > Low violations: {(stock_df['high'] < stock_df['low']).sum()}\")\n",
    "print(f\"Open/Close outside High/Low: {((stock_df['open'] > stock_df['high']) | (stock_df['open'] < stock_df['low']) | (stock_df['close'] > stock_df['high']) | (stock_df['close'] < stock_df['low'])).sum()}\")"
   ]
  },
  {
   "cell_type": "markdown",
   "id": "009deeaa",
   "metadata": {},
   "source": [
    "## 3. Stock Price Analysis"
   ]
  },
  {
   "cell_type": "code",
   "execution_count": 9,
   "id": "61a3fc2e",
   "metadata": {},
   "outputs": [
    {
     "name": "stdout",
     "output_type": "stream",
     "text": [
      "=== RETURNS ANALYSIS BY TICKER ===\n"
     ]
    },
    {
     "data": {
      "application/vnd.microsoft.datawrangler.viewer.v0+json": {
       "columns": [
        {
         "name": "ticker",
         "rawType": "object",
         "type": "string"
        },
        {
         "name": "count",
         "rawType": "int64",
         "type": "integer"
        },
        {
         "name": "mean",
         "rawType": "float64",
         "type": "float"
        },
        {
         "name": "std",
         "rawType": "float64",
         "type": "float"
        },
        {
         "name": "min",
         "rawType": "float64",
         "type": "float"
        },
        {
         "name": "max",
         "rawType": "float64",
         "type": "float"
        },
        {
         "name": "skew",
         "rawType": "float64",
         "type": "float"
        },
        {
         "name": "sharpe_ratio",
         "rawType": "float64",
         "type": "float"
        }
       ],
       "ref": "3ed94cab-a09f-4d81-9b5a-c38e952bafb9",
       "rows": [
        [
         "RR",
         "196",
         "0.0022",
         "0.1223",
         "-0.7394",
         "0.6703",
         "-0.5857",
         "0.2856"
        ],
        [
         "TTWO",
         "668",
         "0.0001",
         "0.0216",
         "-0.1368",
         "0.1178",
         "-0.2113",
         "0.0735"
        ],
        [
         "VWRL.L",
         "669",
         "0.0003",
         "0.0084",
         "-0.0413",
         "0.0348",
         "-0.3075",
         "0.5669"
        ]
       ],
       "shape": {
        "columns": 7,
        "rows": 3
       }
      },
      "text/html": [
       "<div>\n",
       "<style scoped>\n",
       "    .dataframe tbody tr th:only-of-type {\n",
       "        vertical-align: middle;\n",
       "    }\n",
       "\n",
       "    .dataframe tbody tr th {\n",
       "        vertical-align: top;\n",
       "    }\n",
       "\n",
       "    .dataframe thead th {\n",
       "        text-align: right;\n",
       "    }\n",
       "</style>\n",
       "<table border=\"1\" class=\"dataframe\">\n",
       "  <thead>\n",
       "    <tr style=\"text-align: right;\">\n",
       "      <th></th>\n",
       "      <th>count</th>\n",
       "      <th>mean</th>\n",
       "      <th>std</th>\n",
       "      <th>min</th>\n",
       "      <th>max</th>\n",
       "      <th>skew</th>\n",
       "      <th>sharpe_ratio</th>\n",
       "    </tr>\n",
       "    <tr>\n",
       "      <th>ticker</th>\n",
       "      <th></th>\n",
       "      <th></th>\n",
       "      <th></th>\n",
       "      <th></th>\n",
       "      <th></th>\n",
       "      <th></th>\n",
       "      <th></th>\n",
       "    </tr>\n",
       "  </thead>\n",
       "  <tbody>\n",
       "    <tr>\n",
       "      <th>RR</th>\n",
       "      <td>196</td>\n",
       "      <td>0.0022</td>\n",
       "      <td>0.1223</td>\n",
       "      <td>-0.7394</td>\n",
       "      <td>0.6703</td>\n",
       "      <td>-0.5857</td>\n",
       "      <td>0.2856</td>\n",
       "    </tr>\n",
       "    <tr>\n",
       "      <th>TTWO</th>\n",
       "      <td>668</td>\n",
       "      <td>0.0001</td>\n",
       "      <td>0.0216</td>\n",
       "      <td>-0.1368</td>\n",
       "      <td>0.1178</td>\n",
       "      <td>-0.2113</td>\n",
       "      <td>0.0735</td>\n",
       "    </tr>\n",
       "    <tr>\n",
       "      <th>VWRL.L</th>\n",
       "      <td>669</td>\n",
       "      <td>0.0003</td>\n",
       "      <td>0.0084</td>\n",
       "      <td>-0.0413</td>\n",
       "      <td>0.0348</td>\n",
       "      <td>-0.3075</td>\n",
       "      <td>0.5669</td>\n",
       "    </tr>\n",
       "  </tbody>\n",
       "</table>\n",
       "</div>"
      ],
      "text/plain": [
       "        count    mean     std     min     max    skew  sharpe_ratio\n",
       "ticker                                                             \n",
       "RR        196  0.0022  0.1223 -0.7394  0.6703 -0.5857        0.2856\n",
       "TTWO      668  0.0001  0.0216 -0.1368  0.1178 -0.2113        0.0735\n",
       "VWRL.L    669  0.0003  0.0084 -0.0413  0.0348 -0.3075        0.5669"
      ]
     },
     "metadata": {},
     "output_type": "display_data"
    }
   ],
   "source": [
    "# Convert date columns to datetime\n",
    "stock_df['date'] = pd.to_datetime(stock_df['date'])\n",
    "news_df['timestamp'] = pd.to_datetime(news_df['timestamp'])\n",
    "\n",
    "# Calculate returns\n",
    "stock_df = stock_df.sort_values(['ticker', 'date'])\n",
    "stock_df['daily_return'] = stock_df.groupby('ticker')['close'].pct_change()\n",
    "stock_df['log_return'] = np.log(stock_df['close']).diff()\n",
    "\n",
    "# Summary statistics by ticker\n",
    "print(\"=== RETURNS ANALYSIS BY TICKER ===\")\n",
    "returns_summary = stock_df.groupby('ticker')['daily_return'].agg([\n",
    "    'count', 'mean', 'std', 'min', 'max', 'skew'\n",
    "]).round(4)\n",
    "returns_summary['sharpe_ratio'] = (returns_summary['mean'] / returns_summary['std'] * np.sqrt(252)).round(4)\n",
    "display(returns_summary)"
   ]
  },
  {
   "cell_type": "code",
   "execution_count": 10,
   "id": "47dd7902",
   "metadata": {},
   "outputs": [
    {
     "data": {
      "image/png": "[encoded data removed]",
      "text/plain": [
       "<Figure size 1500x1000 with 4 Axes>"
      ]
     },
     "metadata": {},
     "output_type": "display_data"
    }
   ],
   "source": [
    "# Plot stock price trends\n",
    "fig, axes = plt.subplots(2, 2, figsize=(15, 10))\n",
    "fig.suptitle('Stock Price Analysis', fontsize=16)\n",
    "\n",
    "# Price trends\n",
    "for ticker in stock_df['ticker'].unique():\n",
    "    ticker_data = stock_df[stock_df['ticker'] == ticker]\n",
    "    axes[0, 0].plot(ticker_data['date'], ticker_data['close'], label=ticker, linewidth=2)\n",
    "\n",
    "axes[0, 0].set_title('Closing Prices Over Time')\n",
    "axes[0, 0].set_xlabel('Date')\n",
    "axes[0, 0].set_ylabel('Price ($)')\n",
    "axes[0, 0].legend()\n",
    "axes[0, 0].grid(True, alpha=0.3)\n",
    "\n",
    "# Volume trends\n",
    "for ticker in stock_df['ticker'].unique():\n",
    "    ticker_data = stock_df[stock_df['ticker'] == ticker]\n",
    "    axes[0, 1].plot(ticker_data['date'], ticker_data['volume'], label=ticker, alpha=0.7)\n",
    "\n",
    "axes[0, 1].set_title('Trading Volume Over Time')\n",
    "axes[0, 1].set_xlabel('Date')\n",
    "axes[0, 1].set_ylabel('Volume')\n",
    "axes[0, 1].legend()\n",
    "axes[0, 1].grid(True, alpha=0.3)\n",
    "\n",
    "# Returns distribution\n",
    "stock_df.dropna()['daily_return'].hist(bins=50, alpha=0.7, ax=axes[1, 0])\n",
    "axes[1, 0].set_title('Daily Returns Distribution')\n",
    "axes[1, 0].set_xlabel('Daily Return')\n",
    "axes[1, 0].set_ylabel('Frequency')\n",
    "axes[1, 0].grid(True, alpha=0.3)\n",
    "\n",
    "# Returns by ticker (boxplot)\n",
    "stock_df.dropna().boxplot(column='daily_return', by='ticker', ax=axes[1, 1])\n",
    "axes[1, 1].set_title('Returns Distribution by Ticker')\n",
    "axes[1, 1].set_xlabel('Ticker')\n",
    "axes[1, 1].set_ylabel('Daily Return')\n",
    "plt.suptitle('')  # Remove default boxplot title\n",
    "\n",
    "plt.tight_layout()\n",
    "plt.show()"
   ]
  },
  {
   "cell_type": "markdown",
   "id": "36ec69f6",
   "metadata": {},
   "source": [
    "## 4. News Data Analysis"
   ]
  },
  {
   "cell_type": "code",
   "execution_count": 13,
   "id": "e76135ae",
   "metadata": {},
   "outputs": [
    {
     "name": "stdout",
     "output_type": "stream",
     "text": [
      "=== NEWS ARTICLE STATISTICS ===\n",
      "\n",
      "Articles per ticker:\n",
      "ticker\n",
      "VWRL.L    214\n",
      "TTWO      211\n",
      "RR         60\n",
      "Name: count, dtype: int64\n",
      "\n",
      "Sentiment distribution:\n",
      "overall_sentiment_label\n",
      "Neutral    247\n",
      "Bearish    122\n",
      "Bullish    116\n",
      "Name: count, dtype: int64\n",
      "\n",
      "Text length statistics:\n",
      "       headline_length  content_length\n",
      "count       485.000000      485.000000\n",
      "mean         52.746392       79.746392\n",
      "std           3.345098        3.345098\n",
      "min          46.000000       73.000000\n",
      "25%          52.000000       79.000000\n",
      "50%          53.000000       80.000000\n",
      "75%          54.000000       81.000000\n",
      "max          62.000000       89.000000\n"
     ]
    }
   ],
   "source": [
    "# News article statistics\n",
    "print(\"=== NEWS ARTICLE STATISTICS ===\")\n",
    "\n",
    "# Calculate text lengths\n",
    "news_df['headline_length'] = news_df['headline'].str.len()\n",
    "news_df['content_length'] = news_df['content'].str.len()\n",
    "\n",
    "# Articles per ticker\n",
    "print(\"\\nArticles per ticker:\")\n",
    "print(news_df['ticker'].value_counts())\n",
    "\n",
    "# Sentiment analysis\n",
    "print(\"\\nSentiment distribution:\")\n",
    "print(news_df['overall_sentiment_label'].value_counts())\n",
    "\n",
    "# Text length statistics\n",
    "print(\"\\nText length statistics:\")\n",
    "print(news_df[['headline_length', 'content_length']].describe())"
   ]
  },
  {
   "cell_type": "code",
   "execution_count": 16,
   "id": "8bce1c73",
   "metadata": {},
   "outputs": [
    {
     "data": {
      "image/png": "[encoded data removed]",
      "text/plain": [
       "<Figure size 1500x1000 with 4 Axes>"
      ]
     },
     "metadata": {},
     "output_type": "display_data"
    }
   ],
   "source": [
    "# Plot news data analysis\n",
    "fig, axes = plt.subplots(2, 2, figsize=(15, 10))\n",
    "fig.suptitle('News Data Analysis', fontsize=16)\n",
    "\n",
    "# Articles over time\n",
    "news_df['date'] = news_df['timestamp'].dt.date\n",
    "daily_articles = news_df.groupby('date').size()\n",
    "axes[0, 0].plot(daily_articles.index, daily_articles.values, marker='o', linewidth=2, markersize=4)\n",
    "axes[0, 0].set_title('Articles Published Per Day')\n",
    "axes[0, 0].set_xlabel('Date')\n",
    "axes[0, 0].set_ylabel('Number of Articles')\n",
    "axes[0, 0].grid(True, alpha=0.3)\n",
    "\n",
    "# Articles by ticker\n",
    "ticker_counts = news_df['ticker'].value_counts()\n",
    "axes[0, 1].bar(ticker_counts.index, ticker_counts.values, color='skyblue')\n",
    "axes[0, 1].set_title('Articles by Ticker')\n",
    "axes[0, 1].set_xlabel('Ticker')\n",
    "axes[0, 1].set_ylabel('Number of Articles')\n",
    "axes[0, 1].grid(True, alpha=0.3)\n",
    "\n",
    "# Headline length distribution\n",
    "axes[1, 0].hist(news_df['headline_length'], bins=30, alpha=0.7, color='green')\n",
    "axes[1, 0].set_title('Headline Length Distribution')\n",
    "axes[1, 0].set_xlabel('Characters')\n",
    "axes[1, 0].set_ylabel('Frequency')\n",
    "axes[1, 0].grid(True, alpha=0.3)\n",
    "\n",
    "# Sentiment distribution pie chart\n",
    "sentiment_counts = news_df['overall_sentiment_label'].value_counts()\n",
    "axes[1, 1].pie(sentiment_counts.values, labels=sentiment_counts.index, autopct='%1.1f%%')\n",
    "axes[1, 1].set_title('Sentiment Distribution')\n",
    "\n",
    "plt.tight_layout()\n",
    "plt.show()"
   ]
  },
  {
   "cell_type": "markdown",
   "id": "ea6c0c97",
   "metadata": {},
   "source": [
    "## 5. News-Stock Relationship Analysis"
   ]
  },
  {
   "cell_type": "code",
   "execution_count": 17,
   "id": "74e7b299",
   "metadata": {},
   "outputs": [
    {
     "name": "stdout",
     "output_type": "stream",
     "text": [
      "=== NEWS-STOCK RELATIONSHIP ANALYSIS ===\n",
      "Merged dataset shape: (1536, 17)\n",
      "Days with news coverage: 485\n",
      "Days without news: 1051\n"
     ]
    }
   ],
   "source": [
    "# Analyze relationship between news volume and stock movements\n",
    "print(\"=== NEWS-STOCK RELATIONSHIP ANALYSIS ===\")\n",
    "\n",
    "# Aggregate news by date and ticker\n",
    "news_daily = news_df.groupby(['ticker', 'date']).agg({\n",
    "    'headline': 'count',\n",
    "    'headline_length': 'mean',\n",
    "    'content_length': 'mean'\n",
    "}).rename(columns={'headline': 'article_count'}).reset_index()\n",
    "\n",
    "# Convert stock date to date type for merging\n",
    "stock_df['date_only'] = stock_df['date'].dt.date\n",
    "\n",
    "# Merge news and stock data\n",
    "merged_df = stock_df.merge(\n",
    "    news_daily, \n",
    "    left_on=['ticker', 'date_only'], \n",
    "    right_on=['ticker', 'date'], \n",
    "    how='left'\n",
    ")\n",
    "\n",
    "# Fill missing news data with zeros\n",
    "merged_df['article_count'] = merged_df['article_count'].fillna(0)\n",
    "merged_df['headline_length'] = merged_df['headline_length'].fillna(0)\n",
    "merged_df['content_length'] = merged_df['content_length'].fillna(0)\n",
    "\n",
    "print(f\"Merged dataset shape: {merged_df.shape}\")\n",
    "print(f\"Days with news coverage: {(merged_df['article_count'] > 0).sum()}\")\n",
    "print(f\"Days without news: {(merged_df['article_count'] == 0).sum()}\")"
   ]
  },
  {
   "cell_type": "code",
   "execution_count": null,
   "id": "b50a4b9a",
   "metadata": {},
   "outputs": [
    {
     "name": "stdout",
     "output_type": "stream",
     "text": [
      "=== CORRELATION ANALYSIS ===\n",
      "\n",
      "Correlation Matrix:\n"
     ]
    },
    {
     "data": {
      "application/vnd.microsoft.datawrangler.viewer.v0+json": {
       "columns": [
        {
         "name": "index",
         "rawType": "object",
         "type": "string"
        },
        {
         "name": "article_count",
         "rawType": "float64",
         "type": "float"
        },
        {
         "name": "headline_length",
         "rawType": "float64",
         "type": "float"
        },
        {
         "name": "content_length",
         "rawType": "float64",
         "type": "float"
        },
        {
         "name": "daily_return",
         "rawType": "float64",
         "type": "float"
        },
        {
         "name": "volume",
         "rawType": "float64",
         "type": "float"
        }
       ],
       "ref": "a0262966-c147-4525-93d8-dca268d0d690",
       "rows": [
        [
         "article_count",
         "1.0",
         "0.99",
         "0.999",
         "0.049",
         "0.146"
        ],
        [
         "headline_length",
         "0.99",
         "1.0",
         "0.995",
         "0.045",
         "0.12"
        ],
        [
         "content_length",
         "0.999",
         "0.995",
         "1.0",
         "0.047",
         "0.136"
        ],
        [
         "daily_return",
         "0.049",
         "0.045",
         "0.047",
         "1.0",
         "0.253"
        ],
        [
         "volume",
         "0.146",
         "0.12",
         "0.136",
         "0.253",
         "1.0"
        ]
       ],
       "shape": {
        "columns": 5,
        "rows": 5
       }
      },
      "text/html": [
       "<div>\n",
       "<style scoped>\n",
       "    .dataframe tbody tr th:only-of-type {\n",
       "        vertical-align: middle;\n",
       "    }\n",
       "\n",
       "    .dataframe tbody tr th {\n",
       "        vertical-align: top;\n",
       "    }\n",
       "\n",
       "    .dataframe thead th {\n",
       "        text-align: right;\n",
       "    }\n",
       "</style>\n",
       "<table border=\"1\" class=\"dataframe\">\n",
       "  <thead>\n",
       "    <tr style=\"text-align: right;\">\n",
       "      <th></th>\n",
       "      <th>article_count</th>\n",
       "      <th>headline_length</th>\n",
       "      <th>content_length</th>\n",
       "      <th>daily_return</th>\n",
       "      <th>volume</th>\n",
       "    </tr>\n",
       "  </thead>\n",
       "  <tbody>\n",
       "    <tr>\n",
       "      <th>article_count</th>\n",
       "      <td>1.000</td>\n",
       "      <td>0.990</td>\n",
       "      <td>0.999</td>\n",
       "      <td>0.049</td>\n",
       "      <td>0.146</td>\n",
       "    </tr>\n",
       "    <tr>\n",
       "      <th>headline_length</th>\n",
       "      <td>0.990</td>\n",
       "      <td>1.000</td>\n",
       "      <td>0.995</td>\n",
       "      <td>0.045</td>\n",
       "      <td>0.120</td>\n",
       "    </tr>\n",
       "    <tr>\n",
       "      <th>content_length</th>\n",
       "      <td>0.999</td>\n",
       "      <td>0.995</td>\n",
       "      <td>1.000</td>\n",
       "      <td>0.047</td>\n",
       "      <td>0.136</td>\n",
       "    </tr>\n",
       "    <tr>\n",
       "      <th>daily_return</th>\n",
       "      <td>0.049</td>\n",
       "      <td>0.045</td>\n",
       "      <td>0.047</td>\n",
       "      <td>1.000</td>\n",
       "      <td>0.253</td>\n",
       "    </tr>\n",
       "    <tr>\n",
       "      <th>volume</th>\n",
       "      <td>0.146</td>\n",
       "      <td>0.120</td>\n",
       "      <td>0.136</td>\n",
       "      <td>0.253</td>\n",
       "      <td>1.000</td>\n",
       "    </tr>\n",
       "  </tbody>\n",
       "</table>\n",
       "</div>"
      ],
      "text/plain": [
       "                 article_count  headline_length  content_length  daily_return  \\\n",
       "article_count            1.000            0.990           0.999         0.049   \n",
       "headline_length          0.990            1.000           0.995         0.045   \n",
       "content_length           0.999            0.995           1.000         0.047   \n",
       "daily_return             0.049            0.045           0.047         1.000   \n",
       "volume                   0.146            0.120           0.136         0.253   \n",
       "\n",
       "                 volume  \n",
       "article_count     0.146  \n",
       "headline_length   0.120  \n",
       "content_length    0.136  \n",
       "daily_return      0.253  \n",
       "volume            1.000  "
      ]
     },
     "metadata": {},
     "output_type": "display_data"
    },
    {
     "data": {
      "image/png": "[encoded data removed]",
      "text/plain": [
       "<Figure size 1000x800 with 2 Axes>"
      ]
     },
     "metadata": {},
     "output_type": "display_data"
    }
   ],
   "source": [
    "# Correlation analysis\n",
    "correlation_vars = ['article_count', 'headline_length', 'content_length', 'daily_return', 'volume']\n",
    "correlation_data = merged_df[correlation_vars].dropna()\n",
    "\n",
    "print(\"=== CORRELATION ANALYSIS ===\")\n",
    "correlation_matrix = correlation_data.corr()\n",
    "print(\"\\nCorrelation Matrix:\")\n",
    "display(correlation_matrix.round(3))\n",
    "\n",
    "# Plot correlation heatmap\n",
    "plt.figure(figsize=(10, 8))\n",
    "sns.heatmap(correlation_matrix, annot=True, cmap='coolwarm', center=0, \n",
    "            square=True, fmt='.3f', cbar_kws={'shrink': 0.8})\n",
    "plt.title('Correlation Matrix: News vs Stock Metrics')\n",
    "plt.tight_layout()\n",
    "plt.show()"
   ]
  },
  {
   "cell_type": "code",
   "execution_count": null,
   "id": "6aa739ad",
   "metadata": {},
   "outputs": [
    {
     "name": "stdout",
     "output_type": "stream",
     "text": [
      "=== RETURNS ANALYSIS: NEWS vs NO NEWS ===\n",
      "Days with news: 14\n",
      "Days without news: 287\n",
      "\n",
      "Average return with news: 0.0220\n",
      "Average return without news: 0.0034\n",
      "Volatility with news: 0.1889\n",
      "Volatility without news: 0.0702\n",
      "\n",
      "T-test results:\n",
      "T-statistic: 0.8563\n",
      "P-value: 0.3925\n",
      "Significant difference: No\n"
     ]
    }
   ],
   "source": [
    "# Analyze returns on days with/without news\n",
    "print(\"=== RETURNS ANALYSIS: NEWS vs NO NEWS ===\")\n",
    "\n",
    "# Split data into days with news vs without news\n",
    "with_news = merged_df[merged_df['article_count'] > 0]['daily_return'].dropna()\n",
    "without_news = merged_df[merged_df['article_count'] == 0]['daily_return'].dropna()\n",
    "\n",
    "print(f\"Days with news: {len(with_news)}\")\n",
    "print(f\"Days without news: {len(without_news)}\")\n",
    "\n",
    "if len(with_news) > 0 and len(without_news) > 0:\n",
    "    print(f\"\\nAverage return with news: {with_news.mean():.4f}\")\n",
    "    print(f\"Average return without news: {without_news.mean():.4f}\")\n",
    "    print(f\"Volatility with news: {with_news.std():.4f}\")\n",
    "    print(f\"Volatility without news: {without_news.std():.4f}\")\n",
    "    \n",
    "    # Statistical test\n",
    "    from scipy import stats\n",
    "    t_stat, p_value = stats.ttest_ind(with_news, without_news)\n",
    "    print(f\"\\nT-test results:\")\n",
    "    print(f\"T-statistic: {t_stat:.4f}\")\n",
    "    print(f\"P-value: {p_value:.4f}\")\n",
    "    print(f\"Significant difference: {'Yes' if p_value < 0.05 else 'No'}\")"
   ]
  },
  {
   "cell_type": "markdown",
   "id": "702c1c63",
   "metadata": {},
   "source": [
    "## 6. Advanced Visualizations"
   ]
  },
  {
   "cell_type": "code",
   "execution_count": null,
   "id": "8634c3ea",
   "metadata": {},
   "outputs": [
    {
     "data": {
      "application/vnd.plotly.v1+json": {
       "config": {
        "plotlyServerURL": "https://plot.ly"
       },
       "data": [
        {
         "line": {
          "width": 2
         },
         "mode": "lines",
         "name": "AMD Price",
         "type": "scatter",
         "x": [
          "2024-07-01T00:00:00.000000000",
          "2024-07-02T00:00:00.000000000",
          "2024-07-03T00:00:00.000000000",
          "2024-07-05T00:00:00.000000000",
          "2024-07-08T00:00:00.000000000",
          "2024-07-09T00:00:00.000000000",
          "2024-07-10T00:00:00.000000000",
          "2024-07-11T00:00:00.000000000",
          "2024-07-12T00:00:00.000000000",
          "2024-07-15T00:00:00.000000000",
          "2024-07-16T00:00:00.000000000",
          "2024-07-17T00:00:00.000000000",
          "2024-07-18T00:00:00.000000000",
          "2024-07-19T00:00:00.000000000",
          "2024-07-22T00:00:00.000000000",
          "2024-07-23T00:00:00.000000000",
          "2024-07-24T00:00:00.000000000",
          "2024-07-25T00:00:00.000000000",
          "2024-07-26T00:00:00.000000000",
          "2024-07-29T00:00:00.000000000",
          "2024-07-30T00:00:00.000000000",
          "2024-07-31T00:00:00.000000000",
          "2024-08-01T00:00:00.000000000",
          "2024-08-02T00:00:00.000000000",
          "2024-08-05T00:00:00.000000000",
          "2024-08-06T00:00:00.000000000",
          "2024-08-07T00:00:00.000000000",
          "2024-08-08T00:00:00.000000000",
          "2024-08-09T00:00:00.000000000",
          "2024-08-12T00:00:00.000000000",
          "2024-08-13T00:00:00.000000000",
          "2024-08-14T00:00:00.000000000",
          "2024-08-15T00:00:00.000000000",
          "2024-08-16T00:00:00.000000000",
          "2024-08-19T00:00:00.000000000",
          "2024-08-20T00:00:00.000000000",
          "2024-08-21T00:00:00.000000000",
          "2024-08-22T00:00:00.000000000",
          "2024-08-23T00:00:00.000000000",
          "2024-08-26T00:00:00.000000000",
          "2024-08-27T00:00:00.000000000",
          "2024-08-28T00:00:00.000000000",
          "2024-08-29T00:00:00.000000000",
          "2024-08-30T00:00:00.000000000"
         ],
         "y": {
          "bdata": "AAAAgBS2Y0AAAACA64lkQAAAAMDMfGRAAAAAwMx8ZUAAAACAFFZmQAAAAEAzI2ZAAAAAYLj+ZkAAAACAFL5mQAEAACCFs2ZAAAAAYI96ZkAAAACgmTFmQAAAAIDC7WNAAAAA4KN4Y0AAAABgj/JiQAAAAADXe2NAAAAAAABAY0AAAAAAKRRiQAAAAIA9SmFAAAAAIK5/YUAAAAAAAHhhQAAAAIAUTmFAAAAAIFwPYkAAAACgR5FgQAAAAAAAkGBAAAAAgD3aYEAAAACAwkVgQAAAAKBwFWBAAAAAgD0KYUAAAADgo8hgQAAAAOCjGGFAAAAAACmkYUAAAAAAAJhhQAAAACCFa2JAAAAAgOuRYkAAAADA9WhjQAAAAMDMjGNAAAAAgOu5Y0AAAABgZvZiQAAAACBcX2NAAAAAIK6/YkAAAAAAANBiQAAAACCFS2JAAAAAIK4vYkAAAACA65FiQA==",
          "dtype": "f8"
         }
        },
        {
         "hovertemplate": "<b>%{fullData.name}</b><br>Date: %{x}<br>Price: $%{y:.2f}<br>Articles: %{text}<br><extra></extra>",
         "marker": {
          "line": {
           "color": "white",
           "width": 1
          },
          "opacity": 0.6,
          "size": {
           "bdata": "AAAAAAAACEAAAAAAAAAIQA==",
           "dtype": "f8"
          }
         },
         "mode": "markers",
         "name": "AMD News Days",
         "text": {
          "bdata": "AAAAAAAA8D8AAAAAAADwPw==",
          "dtype": "f8"
         },
         "type": "scatter",
         "x": [
          "2024-08-01T00:00:00.000000000",
          "2024-08-07T00:00:00.000000000"
         ],
         "y": {
          "bdata": "AAAAoEeRYEAAAACgcBVgQA==",
          "dtype": "f8"
         }
        },
        {
         "line": {
          "width": 2
         },
         "mode": "lines",
         "name": "ASML Price",
         "type": "scatter",
         "x": [
          "2024-07-01T00:00:00.000000000",
          "2024-07-02T00:00:00.000000000",
          "2024-07-03T00:00:00.000000000",
          "2024-07-05T00:00:00.000000000",
          "2024-07-08T00:00:00.000000000",
          "2024-07-09T00:00:00.000000000",
          "2024-07-10T00:00:00.000000000",
          "2024-07-11T00:00:00.000000000",
          "2024-07-12T00:00:00.000000000",
          "2024-07-15T00:00:00.000000000",
          "2024-07-16T00:00:00.000000000",
          "2024-07-17T00:00:00.000000000",
          "2024-07-18T00:00:00.000000000",
          "2024-07-19T00:00:00.000000000",
          "2024-07-22T00:00:00.000000000",
          "2024-07-23T00:00:00.000000000",
          "2024-07-24T00:00:00.000000000",
          "2024-07-25T00:00:00.000000000",
          "2024-07-26T00:00:00.000000000",
          "2024-07-29T00:00:00.000000000",
          "2024-07-30T00:00:00.000000000",
          "2024-07-31T00:00:00.000000000",
          "2024-08-01T00:00:00.000000000",
          "2024-08-02T00:00:00.000000000",
          "2024-08-05T00:00:00.000000000",
          "2024-08-06T00:00:00.000000000",
          "2024-08-07T00:00:00.000000000",
          "2024-08-08T00:00:00.000000000",
          "2024-08-09T00:00:00.000000000",
          "2024-08-12T00:00:00.000000000",
          "2024-08-13T00:00:00.000000000",
          "2024-08-14T00:00:00.000000000",
          "2024-08-15T00:00:00.000000000",
          "2024-08-16T00:00:00.000000000",
          "2024-08-19T00:00:00.000000000",
          "2024-08-20T00:00:00.000000000",
          "2024-08-21T00:00:00.000000000",
          "2024-08-22T00:00:00.000000000",
          "2024-08-23T00:00:00.000000000",
          "2024-08-26T00:00:00.000000000",
          "2024-08-27T00:00:00.000000000",
          "2024-08-28T00:00:00.000000000",
          "2024-08-29T00:00:00.000000000",
          "2024-08-30T00:00:00.000000000"
         ],
         "y": {
          "bdata": "AAAAoK0BkEAAAAAAxjqQQAAAAAAHmJBAAAAAQDOkkEAAAAAAva+QQAAAAECrapBAAAAAgDgFkUAAAABAs3SQQAAAAODwzpBAAAAAYC55kEAAAADAQouQQAAAAAAK34xAAAAAgFCgjEAAAABgGLyLQP///z/+J41AAAAAoPzkjEAAAAAAuQiLQAAAAEB5uIpAAAAAwL6Ei0AAAACAEQSLQAAAACApsopAAAAAoJgRjUAAAABAnmyLQAAAAMDdHYlAAAAAgEF1iUAAAAAgRymKQAAAAABe9IlAAAAAwIc0i0AAAACgn7SKQAAAAMCHd4pAAAAAwKX7ikAAAACgzkuLQAAAAAB3zoxAAAAAAEeCjEABAADAZPWMQAAAACAFvoxAAAAAAH5IjUAAAAAgSSuMQAAAAOC1J4xAAAAAoHBpi0AAAACgop2LQAAAAKC7j4tAAAAAYGWMi0AAAABgxwyMQA==",
          "dtype": "f8"
         }
        },
        {
         "hovertemplate": "<b>%{fullData.name}</b><br>Date: %{x}<br>Price: $%{y:.2f}<br>Articles: %{text}<br><extra></extra>",
         "marker": {
          "line": {
           "color": "white",
           "width": 1
          },
          "opacity": 0.6,
          "size": {
           "bdata": "AAAAAAAACEAAAAAAAAAIQA==",
           "dtype": "f8"
          }
         },
         "mode": "markers",
         "name": "ASML News Days",
         "text": {
          "bdata": "AAAAAAAA8D8AAAAAAADwPw==",
          "dtype": "f8"
         },
         "type": "scatter",
         "x": [
          "2024-08-01T00:00:00.000000000",
          "2024-08-07T00:00:00.000000000"
         ],
         "y": {
          "bdata": "AAAAQJ5si0AAAAAAXvSJQA==",
          "dtype": "f8"
         }
        },
        {
         "line": {
          "width": 2
         },
         "mode": "lines",
         "name": "GD Price",
         "type": "scatter",
         "x": [
          "2024-07-01T00:00:00.000000000",
          "2024-07-02T00:00:00.000000000",
          "2024-07-03T00:00:00.000000000",
          "2024-07-05T00:00:00.000000000",
          "2024-07-08T00:00:00.000000000",
          "2024-07-09T00:00:00.000000000",
          "2024-07-10T00:00:00.000000000",
          "2024-07-11T00:00:00.000000000",
          "2024-07-12T00:00:00.000000000",
          "2024-07-15T00:00:00.000000000",
          "2024-07-16T00:00:00.000000000",
          "2024-07-17T00:00:00.000000000",
          "2024-07-18T00:00:00.000000000",
          "2024-07-19T00:00:00.000000000",
          "2024-07-22T00:00:00.000000000",
          "2024-07-23T00:00:00.000000000",
          "2024-07-24T00:00:00.000000000",
          "2024-07-25T00:00:00.000000000",
          "2024-07-26T00:00:00.000000000",
          "2024-07-29T00:00:00.000000000",
          "2024-07-30T00:00:00.000000000",
          "2024-07-31T00:00:00.000000000",
          "2024-08-01T00:00:00.000000000",
          "2024-08-02T00:00:00.000000000",
          "2024-08-05T00:00:00.000000000",
          "2024-08-06T00:00:00.000000000",
          "2024-08-07T00:00:00.000000000",
          "2024-08-08T00:00:00.000000000",
          "2024-08-09T00:00:00.000000000",
          "2024-08-12T00:00:00.000000000",
          "2024-08-13T00:00:00.000000000",
          "2024-08-14T00:00:00.000000000",
          "2024-08-15T00:00:00.000000000",
          "2024-08-16T00:00:00.000000000",
          "2024-08-19T00:00:00.000000000",
          "2024-08-20T00:00:00.000000000",
          "2024-08-21T00:00:00.000000000",
          "2024-08-22T00:00:00.000000000",
          "2024-08-23T00:00:00.000000000",
          "2024-08-26T00:00:00.000000000",
          "2024-08-27T00:00:00.000000000",
          "2024-08-28T00:00:00.000000000",
          "2024-08-29T00:00:00.000000000",
          "2024-08-30T00:00:00.000000000"
         ],
         "y": {
          "bdata": "AAAAYNOIcUAAAAAAtGhxQAAAAKAzWnFAAAAAgE4+cUAAAABAWCtxQAAAAMBMHHFAAAAAQOlBcUAAAADgA2VxQAAAAMDwYHFAAAAA4Op4cUAAAAAAnNlxQAAAAODg33FAAAAAAPDzcUAAAAAgzKRxQAAAAKCn03FAAAAAIJYGckAAAAAgKm1xQAAAAOAM0HFAAAAA4PXGcUAAAAAAs7hxQAAAAADd73FAAAAAoDBJckAAAABAwvZxQP///78l5nFAAAAAoHCAcUAAAABgSnhxQAAAAKBXlHFAAAAAwDrNcUAAAADAjO9xQAAAAKB/03FAAAAAYCvjcUAAAABgJftxQAAAAODvHXJAAAAAYPcnckAAAACgcxhyQAAAAOCVG3JAAAAAgHkAckAAAABAwvZxQAAAAIBq13FAAAAAQF3QcUAAAACA08NxQAAAACDAKHJAAAAAIGY7ckAAAABAYFNyQA==",
          "dtype": "f8"
         }
        },
        {
         "hovertemplate": "<b>%{fullData.name}</b><br>Date: %{x}<br>Price: $%{y:.2f}<br>Articles: %{text}<br><extra></extra>",
         "marker": {
          "line": {
           "color": "white",
           "width": 1
          },
          "opacity": 0.6,
          "size": {
           "bdata": "AAAAAAAACEAAAAAAAAAIQA==",
           "dtype": "f8"
          }
         },
         "mode": "markers",
         "name": "GD News Days",
         "text": {
          "bdata": "AAAAAAAA8D8AAAAAAADwPw==",
          "dtype": "f8"
         },
         "type": "scatter",
         "x": [
          "2024-08-01T00:00:00.000000000",
          "2024-08-07T00:00:00.000000000"
         ],
         "y": {
          "bdata": "AAAAQML2cUAAAACgV5RxQA==",
          "dtype": "f8"
         }
        },
        {
         "line": {
          "width": 2
         },
         "mode": "lines",
         "name": "GEV Price",
         "type": "scatter",
         "x": [
          "2024-07-01T00:00:00.000000000",
          "2024-07-02T00:00:00.000000000",
          "2024-07-03T00:00:00.000000000",
          "2024-07-05T00:00:00.000000000",
          "2024-07-08T00:00:00.000000000",
          "2024-07-09T00:00:00.000000000",
          "2024-07-10T00:00:00.000000000",
          "2024-07-11T00:00:00.000000000",
          "2024-07-12T00:00:00.000000000",
          "2024-07-15T00:00:00.000000000",
          "2024-07-16T00:00:00.000000000",
          "2024-07-17T00:00:00.000000000",
          "2024-07-18T00:00:00.000000000",
          "2024-07-19T00:00:00.000000000",
          "2024-07-22T00:00:00.000000000",
          "2024-07-23T00:00:00.000000000",
          "2024-07-24T00:00:00.000000000",
          "2024-07-25T00:00:00.000000000",
          "2024-07-26T00:00:00.000000000",
          "2024-07-29T00:00:00.000000000",
          "2024-07-30T00:00:00.000000000",
          "2024-07-31T00:00:00.000000000",
          "2024-08-01T00:00:00.000000000",
          "2024-08-02T00:00:00.000000000",
          "2024-08-05T00:00:00.000000000",
          "2024-08-06T00:00:00.000000000",
          "2024-08-07T00:00:00.000000000",
          "2024-08-08T00:00:00.000000000",
          "2024-08-09T00:00:00.000000000",
          "2024-08-12T00:00:00.000000000",
          "2024-08-13T00:00:00.000000000",
          "2024-08-14T00:00:00.000000000",
          "2024-08-15T00:00:00.000000000",
          "2024-08-16T00:00:00.000000000",
          "2024-08-19T00:00:00.000000000",
          "2024-08-20T00:00:00.000000000",
          "2024-08-21T00:00:00.000000000",
          "2024-08-22T00:00:00.000000000",
          "2024-08-23T00:00:00.000000000",
          "2024-08-26T00:00:00.000000000",
          "2024-08-27T00:00:00.000000000",
          "2024-08-28T00:00:00.000000000",
          "2024-08-29T00:00:00.000000000",
          "2024-08-30T00:00:00.000000000"
         ],
         "y": {
          "bdata": "AAAAIDTmZEAAAAAgVy9lQAAAAGAAi2VAAAAAYGH8ZUAAAAAA+sBlQAAAAECVlGVAAAAAwClsZkAAAABAZAtmQAAAAGAog2ZAAAAAoAYjZkAAAACgS8xmQAAAAIA6sGRAAAAAoJ4lZEAAAAAgtGBkQAAAAEDuzWRAAAAAIA9FZUAAAACgplJkQAAAACAI9mNAAAAAQLyYZUAAAACg4XZlQAAAAIBDTGRAAAAAYJM8ZkAAAAAgHrZlQAAAAOAYjWRAAAAAoJI9ZEAAAAAg9oBkQAAAAODkt2RAAAAAAK4bZkAAAACAXFhmQAAAAIAWA2ZAAAAAoJtpZkAAAADApflmQAAAAAB6jmdAAAAAAHT2ZkD////fPyFnQAAAAICJ9GZA////P9f8ZkAAAACAaTRnQAAAAGDc3WZA/v//P9C4ZkAAAABACiZnQAAAAICJ9GZAAQAAIJnfZ0AAAABAehNpQA==",
          "dtype": "f8"
         }
        },
        {
         "hovertemplate": "<b>%{fullData.name}</b><br>Date: %{x}<br>Price: $%{y:.2f}<br>Articles: %{text}<br><extra></extra>",
         "marker": {
          "line": {
           "color": "white",
           "width": 1
          },
          "opacity": 0.6,
          "size": {
           "bdata": "AAAAAAAACEAAAAAAAAAIQA==",
           "dtype": "f8"
          }
         },
         "mode": "markers",
         "name": "GEV News Days",
         "text": {
          "bdata": "AAAAAAAA8D8AAAAAAADwPw==",
          "dtype": "f8"
         },
         "type": "scatter",
         "x": [
          "2024-08-01T00:00:00.000000000",
          "2024-08-07T00:00:00.000000000"
         ],
         "y": {
          "bdata": "AAAAIB62ZUAAAADg5LdkQA==",
          "dtype": "f8"
         }
        },
        {
         "line": {
          "width": 2
         },
         "mode": "lines",
         "name": "RR Price",
         "type": "scatter",
         "x": [
          "2024-07-01T00:00:00.000000000",
          "2024-07-02T00:00:00.000000000",
          "2024-07-03T00:00:00.000000000",
          "2024-07-05T00:00:00.000000000",
          "2024-07-08T00:00:00.000000000",
          "2024-07-09T00:00:00.000000000",
          "2024-07-10T00:00:00.000000000",
          "2024-07-11T00:00:00.000000000",
          "2024-07-12T00:00:00.000000000",
          "2024-07-15T00:00:00.000000000",
          "2024-07-16T00:00:00.000000000",
          "2024-07-17T00:00:00.000000000",
          "2024-07-18T00:00:00.000000000",
          "2024-07-19T00:00:00.000000000",
          "2024-07-22T00:00:00.000000000",
          "2024-07-23T00:00:00.000000000",
          "2024-07-24T00:00:00.000000000",
          "2024-07-25T00:00:00.000000000",
          "2024-07-26T00:00:00.000000000",
          "2024-07-29T00:00:00.000000000",
          "2024-07-30T00:00:00.000000000",
          "2024-07-31T00:00:00.000000000",
          "2024-08-01T00:00:00.000000000",
          "2024-08-02T00:00:00.000000000",
          "2024-08-05T00:00:00.000000000",
          "2024-08-06T00:00:00.000000000",
          "2024-08-07T00:00:00.000000000",
          "2024-08-08T00:00:00.000000000",
          "2024-08-09T00:00:00.000000000",
          "2024-08-12T00:00:00.000000000",
          "2024-08-13T00:00:00.000000000",
          "2024-08-14T00:00:00.000000000",
          "2024-08-15T00:00:00.000000000",
          "2024-08-16T00:00:00.000000000",
          "2024-08-19T00:00:00.000000000",
          "2024-08-20T00:00:00.000000000",
          "2024-08-21T00:00:00.000000000",
          "2024-08-22T00:00:00.000000000",
          "2024-08-23T00:00:00.000000000",
          "2024-08-26T00:00:00.000000000",
          "2024-08-27T00:00:00.000000000",
          "2024-08-28T00:00:00.000000000",
          "2024-08-29T00:00:00.000000000",
          "2024-08-30T00:00:00.000000000"
         ],
         "y": {
          "bdata": "AAAAwB6F8z8AAACgR+HyPwAAAAAAAPQ/AAAAYLge9T8AAABA4Xr0P//////Wo/Q/AAAAQDMz8z8AAADgUbjyPwAAAGBmZvI/AAAAoHA98j8AAACAPQrzPwAAAEDhevQ/AAAAQDMz8z8AAADAHoX3PwAAACCF6/U/AAAA4FG48j8AAACgcD3yPwAAAOB6FPI/AAAAAAAA9D8AAAAgrkf5PwAAAIDrUfg/AAAAQArX9z8AAADgehT2PwEAAAApXPc/AAAA4FG49j8AAACAFK7XPwAAAOCnxuM/AAAAIFyP4j8AAABgEFjhPwAAAECLbN8/AAAAwKFF3j8AAABgZmbePwAAACDb+eI/AAAAgJMY6D8AAADA8/3sPwAAAGC4HvU//////9aj9D8AAAAAAAD0PwAAAOB6FPY/AAAAoHA9+j8AAAAgrkf5PwAAAEAzM/c/AAAAQDMz9z8AAAAAAAD0Pw==",
          "dtype": "f8"
         }
        },
        {
         "hovertemplate": "<b>%{fullData.name}</b><br>Date: %{x}<br>Price: $%{y:.2f}<br>Articles: %{text}<br><extra></extra>",
         "marker": {
          "line": {
           "color": "white",
           "width": 1
          },
          "opacity": 0.6,
          "size": {
           "bdata": "AAAAAAAACEAAAAAAAAAIQA==",
           "dtype": "f8"
          }
         },
         "mode": "markers",
         "name": "RR News Days",
         "text": {
          "bdata": "AAAAAAAA8D8AAAAAAADwPw==",
          "dtype": "f8"
         },
         "type": "scatter",
         "x": [
          "2024-08-01T00:00:00.000000000",
          "2024-08-07T00:00:00.000000000"
         ],
         "y": {
          "bdata": "AAAA4HoU9j8AAADgp8bjPw==",
          "dtype": "f8"
         }
        },
        {
         "line": {
          "width": 2
         },
         "mode": "lines",
         "name": "TTWO Price",
         "type": "scatter",
         "x": [
          "2024-07-01T00:00:00.000000000",
          "2024-07-02T00:00:00.000000000",
          "2024-07-03T00:00:00.000000000",
          "2024-07-05T00:00:00.000000000",
          "2024-07-08T00:00:00.000000000",
          "2024-07-09T00:00:00.000000000",
          "2024-07-10T00:00:00.000000000",
          "2024-07-11T00:00:00.000000000",
          "2024-07-12T00:00:00.000000000",
          "2024-07-15T00:00:00.000000000",
          "2024-07-16T00:00:00.000000000",
          "2024-07-17T00:00:00.000000000",
          "2024-07-18T00:00:00.000000000",
          "2024-07-19T00:00:00.000000000",
          "2024-07-22T00:00:00.000000000",
          "2024-07-23T00:00:00.000000000",
          "2024-07-24T00:00:00.000000000",
          "2024-07-25T00:00:00.000000000",
          "2024-07-26T00:00:00.000000000",
          "2024-07-29T00:00:00.000000000",
          "2024-07-30T00:00:00.000000000",
          "2024-07-31T00:00:00.000000000",
          "2024-08-01T00:00:00.000000000",
          "2024-08-02T00:00:00.000000000",
          "2024-08-05T00:00:00.000000000",
          "2024-08-06T00:00:00.000000000",
          "2024-08-07T00:00:00.000000000",
          "2024-08-08T00:00:00.000000000",
          "2024-08-09T00:00:00.000000000",
          "2024-08-12T00:00:00.000000000",
          "2024-08-13T00:00:00.000000000",
          "2024-08-14T00:00:00.000000000",
          "2024-08-15T00:00:00.000000000",
          "2024-08-16T00:00:00.000000000",
          "2024-08-19T00:00:00.000000000",
          "2024-08-20T00:00:00.000000000",
          "2024-08-21T00:00:00.000000000",
          "2024-08-22T00:00:00.000000000",
          "2024-08-23T00:00:00.000000000",
          "2024-08-26T00:00:00.000000000",
          "2024-08-27T00:00:00.000000000",
          "2024-08-28T00:00:00.000000000",
          "2024-08-29T00:00:00.000000000",
          "2024-08-30T00:00:00.000000000"
         ],
         "y": {
          "bdata": "AAAAoEdJY0AAAADAzFRjQAAAAAAAMGNAAAAAIK73YkAAAAAAAABjQAAAACCFq2JAAAAAYI+aYkAAAADgo/BiQAAAAEAzK2NAAAAAgOspY0AAAABAM0NjQAAAAADXu2JAAAAAoJnJYkAAAACAPcpiQAAAAGBmzmJAAAAAYLj2YkAAAADgehxjQAAAAKCZyWJAAAAAAADYYkAAAABgZtZiQAAAAAAAwGJAAAAAwPXQYkAAAABguD5iQAAAAIDC9WFAAAAAIK5vYUAAAAAghYNhQAAAAKBw9WBAAAAAwPVYYUAAAACAPRpiQAAAAKBHaWJAAAAAACkcYkAAAADAHh1iQAAAAAApTGJAAAAAgBS+YkAAAAAAANBiQAAAAIDrWWNAAAAAgD0CZEAAAABgZtZjQAAAAOB67GNAAAAAACkMZEAAAADA9RhkQAAAAAAA4GNAAAAAAAAQZEAAAABguDZkQA==",
          "dtype": "f8"
         }
        },
        {
         "hovertemplate": "<b>%{fullData.name}</b><br>Date: %{x}<br>Price: $%{y:.2f}<br>Articles: %{text}<br><extra></extra>",
         "marker": {
          "line": {
           "color": "white",
           "width": 1
          },
          "opacity": 0.6,
          "size": {
           "bdata": "AAAAAAAACEAAAAAAAAAIQA==",
           "dtype": "f8"
          }
         },
         "mode": "markers",
         "name": "TTWO News Days",
         "text": {
          "bdata": "AAAAAAAA8D8AAAAAAADwPw==",
          "dtype": "f8"
         },
         "type": "scatter",
         "x": [
          "2024-08-01T00:00:00.000000000",
          "2024-08-07T00:00:00.000000000"
         ],
         "y": {
          "bdata": "AAAAYLg+YkAAAACgcPVgQA==",
          "dtype": "f8"
         }
        },
        {
         "line": {
          "width": 2
         },
         "mode": "lines",
         "name": "UBER Price",
         "type": "scatter",
         "x": [
          "2024-07-01T00:00:00.000000000",
          "2024-07-02T00:00:00.000000000",
          "2024-07-03T00:00:00.000000000",
          "2024-07-05T00:00:00.000000000",
          "2024-07-08T00:00:00.000000000",
          "2024-07-09T00:00:00.000000000",
          "2024-07-10T00:00:00.000000000",
          "2024-07-11T00:00:00.000000000",
          "2024-07-12T00:00:00.000000000",
          "2024-07-15T00:00:00.000000000",
          "2024-07-16T00:00:00.000000000",
          "2024-07-17T00:00:00.000000000",
          "2024-07-18T00:00:00.000000000",
          "2024-07-19T00:00:00.000000000",
          "2024-07-22T00:00:00.000000000",
          "2024-07-23T00:00:00.000000000",
          "2024-07-24T00:00:00.000000000",
          "2024-07-25T00:00:00.000000000",
          "2024-07-26T00:00:00.000000000",
          "2024-07-29T00:00:00.000000000",
          "2024-07-30T00:00:00.000000000",
          "2024-07-31T00:00:00.000000000",
          "2024-08-01T00:00:00.000000000",
          "2024-08-02T00:00:00.000000000",
          "2024-08-05T00:00:00.000000000",
          "2024-08-06T00:00:00.000000000",
          "2024-08-07T00:00:00.000000000",
          "2024-08-08T00:00:00.000000000",
          "2024-08-09T00:00:00.000000000",
          "2024-08-12T00:00:00.000000000",
          "2024-08-13T00:00:00.000000000",
          "2024-08-14T00:00:00.000000000",
          "2024-08-15T00:00:00.000000000",
          "2024-08-16T00:00:00.000000000",
          "2024-08-19T00:00:00.000000000",
          "2024-08-20T00:00:00.000000000",
          "2024-08-21T00:00:00.000000000",
          "2024-08-22T00:00:00.000000000",
          "2024-08-23T00:00:00.000000000",
          "2024-08-26T00:00:00.000000000",
          "2024-08-27T00:00:00.000000000",
          "2024-08-28T00:00:00.000000000",
          "2024-08-29T00:00:00.000000000",
          "2024-08-30T00:00:00.000000000"
         ],
         "y": {
          "bdata": "AAAAYGbGUUAAAABA4apRQAAAAEAz01FAAAAAANfDUUAAAAAAANBRQAAAAOB61FFAAAAAoEdRUUAAAACA62FSQAAAACCFG1JAAAAAYI8SUkAAAABAM5NSQAAAACCuJ1FAAAAA4KOQUEAAAAAA19NQQAAAAGC47lBAAAAAoEfhUEAAAADA9YhQQAAAACBcb1BAAAAAoJkZUEAAAACgR+FPQAAAACCFi09AAAAAgBQeUEAAAABgj4JOQAAAAGC4fk1AAAAAoHA9TUAAAAAgrjdQQAAAAGCPYlBAAAAA4KNAUUAAAABgjyJRQAAAAOCjUFFAAAAAANfDUUAAAAAghftRQAAAAGC4LlJAAAAAYI8CUkAAAAAghYtSQAAAAADXU1JAAAAAYLheUkAAAAAA11NSQAAAAEAzk1JAAAAAQAonUkAAAAAA1yNSQAAAAGBm9lFAAAAAIFwPUkAAAADgUUhSQA==",
          "dtype": "f8"
         }
        },
        {
         "hovertemplate": "<b>%{fullData.name}</b><br>Date: %{x}<br>Price: $%{y:.2f}<br>Articles: %{text}<br><extra></extra>",
         "marker": {
          "line": {
           "color": "white",
           "width": 1
          },
          "opacity": 0.6,
          "size": {
           "bdata": "AAAAAAAACEAAAAAAAAAIQA==",
           "dtype": "f8"
          }
         },
         "mode": "markers",
         "name": "UBER News Days",
         "text": {
          "bdata": "AAAAAAAA8D8AAAAAAADwPw==",
          "dtype": "f8"
         },
         "type": "scatter",
         "x": [
          "2024-08-01T00:00:00.000000000",
          "2024-08-07T00:00:00.000000000"
         ],
         "y": {
          "bdata": "AAAAYI+CTkAAAABgj2JQQA==",
          "dtype": "f8"
         }
        }
       ],
       "layout": {
        "height": 600,
        "hovermode": "closest",
        "template": {
         "data": {
          "bar": [
           {
            "error_x": {
             "color": "#2a3f5f"
            },
            "error_y": {
             "color": "#2a3f5f"
            },
            "marker": {
             "line": {
              "color": "#E5ECF6",
              "width": 0.5
             },
             "pattern": {
              "fillmode": "overlay",
              "size": 10,
              "solidity": 0.2
             }
            },
            "type": "bar"
           }
          ],
          "barpolar": [
           {
            "marker": {
             "line": {
              "color": "#E5ECF6",
              "width": 0.5
             },
             "pattern": {
              "fillmode": "overlay",
              "size": 10,
              "solidity": 0.2
             }
            },
            "type": "barpolar"
           }
          ],
          "carpet": [
           {
            "aaxis": {
             "endlinecolor": "#2a3f5f",
             "gridcolor": "white",
             "linecolor": "white",
             "minorgridcolor": "white",
             "startlinecolor": "#2a3f5f"
            },
            "baxis": {
             "endlinecolor": "#2a3f5f",
             "gridcolor": "white",
             "linecolor": "white",
             "minorgridcolor": "white",
             "startlinecolor": "#2a3f5f"
            },
            "type": "carpet"
           }
          ],
          "choropleth": [
           {
            "colorbar": {
             "outlinewidth": 0,
             "ticks": ""
            },
            "type": "choropleth"
           }
          ],
          "contour": [
           {
            "colorbar": {
             "outlinewidth": 0,
             "ticks": ""
            },
            "colorscale": [
             [
              0,
              "#0d0887"
             ],
             [
              0.1111111111111111,
              "#46039f"
             ],
             [
              0.2222222222222222,
              "#7201a8"
             ],
             [
              0.3333333333333333,
              "#9c179e"
             ],
             [
              0.4444444444444444,
              "#bd3786"
             ],
             [
              0.5555555555555556,
              "#d8576b"
             ],
             [
              0.6666666666666666,
              "#ed7953"
             ],
             [
              0.7777777777777778,
              "#fb9f3a"
             ],
             [
              0.8888888888888888,
              "#fdca26"
             ],
             [
              1,
              "#f0f921"
             ]
            ],
            "type": "contour"
           }
          ],
          "contourcarpet": [
           {
            "colorbar": {
             "outlinewidth": 0,
             "ticks": ""
            },
            "type": "contourcarpet"
           }
          ],
          "heatmap": [
           {
            "colorbar": {
             "outlinewidth": 0,
             "ticks": ""
            },
            "colorscale": [
             [
              0,
              "#0d0887"
             ],
             [
              0.1111111111111111,
              "#46039f"
             ],
             [
              0.2222222222222222,
              "#7201a8"
             ],
             [
              0.3333333333333333,
              "#9c179e"
             ],
             [
              0.4444444444444444,
              "#bd3786"
             ],
             [
              0.5555555555555556,
              "#d8576b"
             ],
             [
              0.6666666666666666,
              "#ed7953"
             ],
             [
              0.7777777777777778,
              "#fb9f3a"
             ],
             [
              0.8888888888888888,
              "#fdca26"
             ],
             [
              1,
              "#f0f921"
             ]
            ],
            "type": "heatmap"
           }
          ],
          "histogram": [
           {
            "marker": {
             "pattern": {
              "fillmode": "overlay",
              "size": 10,
              "solidity": 0.2
             }
            },
            "type": "histogram"
           }
          ],
          "histogram2d": [
           {
            "colorbar": {
             "outlinewidth": 0,
             "ticks": ""
            },
            "colorscale": [
             [
              0,
              "#0d0887"
             ],
             [
              0.1111111111111111,
              "#46039f"
             ],
             [
              0.2222222222222222,
              "#7201a8"
             ],
             [
              0.3333333333333333,
              "#9c179e"
             ],
             [
              0.4444444444444444,
              "#bd3786"
             ],
             [
              0.5555555555555556,
              "#d8576b"
             ],
             [
              0.6666666666666666,
              "#ed7953"
             ],
             [
              0.7777777777777778,
              "#fb9f3a"
             ],
             [
              0.8888888888888888,
              "#fdca26"
             ],
             [
              1,
              "#f0f921"
             ]
            ],
            "type": "histogram2d"
           }
          ],
          "histogram2dcontour": [
           {
            "colorbar": {
             "outlinewidth": 0,
             "ticks": ""
            },
            "colorscale": [
             [
              0,
              "#0d0887"
             ],
             [
              0.1111111111111111,
              "#46039f"
             ],
             [
              0.2222222222222222,
              "#7201a8"
             ],
             [
              0.3333333333333333,
              "#9c179e"
             ],
             [
              0.4444444444444444,
              "#bd3786"
             ],
             [
              0.5555555555555556,
              "#d8576b"
             ],
             [
              0.6666666666666666,
              "#ed7953"
             ],
             [
              0.7777777777777778,
              "#fb9f3a"
             ],
             [
              0.8888888888888888,
              "#fdca26"
             ],
             [
              1,
              "#f0f921"
             ]
            ],
            "type": "histogram2dcontour"
           }
          ],
          "mesh3d": [
           {
            "colorbar": {
             "outlinewidth": 0,
             "ticks": ""
            },
            "type": "mesh3d"
           }
          ],
          "parcoords": [
           {
            "line": {
             "colorbar": {
              "outlinewidth": 0,
              "ticks": ""
             }
            },
            "type": "parcoords"
           }
          ],
          "pie": [
           {
            "automargin": true,
            "type": "pie"
           }
          ],
          "scatter": [
           {
            "fillpattern": {
             "fillmode": "overlay",
             "size": 10,
             "solidity": 0.2
            },
            "type": "scatter"
           }
          ],
          "scatter3d": [
           {
            "line": {
             "colorbar": {
              "outlinewidth": 0,
              "ticks": ""
             }
            },
            "marker": {
             "colorbar": {
              "outlinewidth": 0,
              "ticks": ""
             }
            },
            "type": "scatter3d"
           }
          ],
          "scattercarpet": [
           {
            "marker": {
             "colorbar": {
              "outlinewidth": 0,
              "ticks": ""
             }
            },
            "type": "scattercarpet"
           }
          ],
          "scattergeo": [
           {
            "marker": {
             "colorbar": {
              "outlinewidth": 0,
              "ticks": ""
             }
            },
            "type": "scattergeo"
           }
          ],
          "scattergl": [
           {
            "marker": {
             "colorbar": {
              "outlinewidth": 0,
              "ticks": ""
             }
            },
            "type": "scattergl"
           }
          ],
          "scattermap": [
           {
            "marker": {
             "colorbar": {
              "outlinewidth": 0,
              "ticks": ""
             }
            },
            "type": "scattermap"
           }
          ],
          "scattermapbox": [
           {
            "marker": {
             "colorbar": {
              "outlinewidth": 0,
              "ticks": ""
             }
            },
            "type": "scattermapbox"
           }
          ],
          "scatterpolar": [
           {
            "marker": {
             "colorbar": {
              "outlinewidth": 0,
              "ticks": ""
             }
            },
            "type": "scatterpolar"
           }
          ],
          "scatterpolargl": [
           {
            "marker": {
             "colorbar": {
              "outlinewidth": 0,
              "ticks": ""
             }
            },
            "type": "scatterpolargl"
           }
          ],
          "scatterternary": [
           {
            "marker": {
             "colorbar": {
              "outlinewidth": 0,
              "ticks": ""
             }
            },
            "type": "scatterternary"
           }
          ],
          "surface": [
           {
            "colorbar": {
             "outlinewidth": 0,
             "ticks": ""
            },
            "colorscale": [
             [
              0,
              "#0d0887"
             ],
             [
              0.1111111111111111,
              "#46039f"
             ],
             [
              0.2222222222222222,
              "#7201a8"
             ],
             [
              0.3333333333333333,
              "#9c179e"
             ],
             [
              0.4444444444444444,
              "#bd3786"
             ],
             [
              0.5555555555555556,
              "#d8576b"
             ],
             [
              0.6666666666666666,
              "#ed7953"
             ],
             [
              0.7777777777777778,
              "#fb9f3a"
             ],
             [
              0.8888888888888888,
              "#fdca26"
             ],
             [
              1,
              "#f0f921"
             ]
            ],
            "type": "surface"
           }
          ],
          "table": [
           {
            "cells": {
             "fill": {
              "color": "#EBF0F8"
             },
             "line": {
              "color": "white"
             }
            },
            "header": {
             "fill": {
              "color": "#C8D4E3"
             },
             "line": {
              "color": "white"
             }
            },
            "type": "table"
           }
          ]
         },
         "layout": {
          "annotationdefaults": {
           "arrowcolor": "#2a3f5f",
           "arrowhead": 0,
           "arrowwidth": 1
          },
          "autotypenumbers": "strict",
          "coloraxis": {
           "colorbar": {
            "outlinewidth": 0,
            "ticks": ""
           }
          },
          "colorscale": {
           "diverging": [
            [
             0,
             "#8e0152"
            ],
            [
             0.1,
             "#c51b7d"
            ],
            [
             0.2,
             "#de77ae"
            ],
            [
             0.3,
             "#f1b6da"
            ],
            [
             0.4,
             "#fde0ef"
            ],
            [
             0.5,
             "#f7f7f7"
            ],
            [
             0.6,
             "#e6f5d0"
            ],
            [
             0.7,
             "#b8e186"
            ],
            [
             0.8,
             "#7fbc41"
            ],
            [
             0.9,
             "#4d9221"
            ],
            [
             1,
             "#276419"
            ]
           ],
           "sequential": [
            [
             0,
             "#0d0887"
            ],
            [
             0.1111111111111111,
             "#46039f"
            ],
            [
             0.2222222222222222,
             "#7201a8"
            ],
            [
             0.3333333333333333,
             "#9c179e"
            ],
            [
             0.4444444444444444,
             "#bd3786"
            ],
            [
             0.5555555555555556,
             "#d8576b"
            ],
            [
             0.6666666666666666,
             "#ed7953"
            ],
            [
             0.7777777777777778,
             "#fb9f3a"
            ],
            [
             0.8888888888888888,
             "#fdca26"
            ],
            [
             1,
             "#f0f921"
            ]
           ],
           "sequentialminus": [
            [
             0,
             "#0d0887"
            ],
            [
             0.1111111111111111,
             "#46039f"
            ],
            [
             0.2222222222222222,
             "#7201a8"
            ],
            [
             0.3333333333333333,
             "#9c179e"
            ],
            [
             0.4444444444444444,
             "#bd3786"
            ],
            [
             0.5555555555555556,
             "#d8576b"
            ],
            [
             0.6666666666666666,
             "#ed7953"
            ],
            [
             0.7777777777777778,
             "#fb9f3a"
            ],
            [
             0.8888888888888888,
             "#fdca26"
            ],
            [
             1,
             "#f0f921"
            ]
           ]
          },
          "colorway": [
           "#636efa",
           "#EF553B",
           "#00cc96",
           "#ab63fa",
           "#FFA15A",
           "#19d3f3",
           "#FF6692",
           "#B6E880",
           "#FF97FF",
           "#FECB52"
          ],
          "font": {
           "color": "#2a3f5f"
          },
          "geo": {
           "bgcolor": "white",
           "lakecolor": "white",
           "landcolor": "#E5ECF6",
           "showlakes": true,
           "showland": true,
           "subunitcolor": "white"
          },
          "hoverlabel": {
           "align": "left"
          },
          "hovermode": "closest",
          "mapbox": {
           "style": "light"
          },
          "paper_bgcolor": "white",
          "plot_bgcolor": "#E5ECF6",
          "polar": {
           "angularaxis": {
            "gridcolor": "white",
            "linecolor": "white",
            "ticks": ""
           },
           "bgcolor": "#E5ECF6",
           "radialaxis": {
            "gridcolor": "white",
            "linecolor": "white",
            "ticks": ""
           }
          },
          "scene": {
           "xaxis": {
            "backgroundcolor": "#E5ECF6",
            "gridcolor": "white",
            "gridwidth": 2,
            "linecolor": "white",
            "showbackground": true,
            "ticks": "",
            "zerolinecolor": "white"
           },
           "yaxis": {
            "backgroundcolor": "#E5ECF6",
            "gridcolor": "white",
            "gridwidth": 2,
            "linecolor": "white",
            "showbackground": true,
            "ticks": "",
            "zerolinecolor": "white"
           },
           "zaxis": {
            "backgroundcolor": "#E5ECF6",
            "gridcolor": "white",
            "gridwidth": 2,
            "linecolor": "white",
            "showbackground": true,
            "ticks": "",
            "zerolinecolor": "white"
           }
          },
          "shapedefaults": {
           "line": {
            "color": "#2a3f5f"
           }
          },
          "ternary": {
           "aaxis": {
            "gridcolor": "white",
            "linecolor": "white",
            "ticks": ""
           },
           "baxis": {
            "gridcolor": "white",
            "linecolor": "white",
            "ticks": ""
           },
           "bgcolor": "#E5ECF6",
           "caxis": {
            "gridcolor": "white",
            "linecolor": "white",
            "ticks": ""
           }
          },
          "title": {
           "x": 0.05
          },
          "xaxis": {
           "automargin": true,
           "gridcolor": "white",
           "linecolor": "white",
           "ticks": "",
           "title": {
            "standoff": 15
           },
           "zerolinecolor": "white",
           "zerolinewidth": 2
          },
          "yaxis": {
           "automargin": true,
           "gridcolor": "white",
           "linecolor": "white",
           "ticks": "",
           "title": {
            "standoff": 15
           },
           "zerolinecolor": "white",
           "zerolinewidth": 2
          }
         }
        },
        "title": {
         "text": "Stock Prices with News Volume Overlay<br><sub>Circle size represents number of articles</sub>"
        },
        "width": 1000,
        "xaxis": {
         "title": {
          "text": "Date"
         }
        },
        "yaxis": {
         "title": {
          "text": "Stock Price ($)"
         }
        }
       }
      }
     },
     "metadata": {},
     "output_type": "display_data"
    }
   ],
   "source": [
    "# Interactive plot of stock prices with news volume overlay\n",
    "fig = go.Figure()\n",
    "\n",
    "# Add stock prices for each ticker\n",
    "for ticker in merged_df['ticker'].unique():\n",
    "    ticker_data = merged_df[merged_df['ticker'] == ticker]\n",
    "    \n",
    "    # Stock price line\n",
    "    fig.add_trace(go.Scatter(\n",
    "        x=ticker_data['date_x'],  # Fixed: use 'date_x' instead of 'date'\n",
    "        y=ticker_data['close'],\n",
    "        mode='lines',\n",
    "        name=f'{ticker} Price',\n",
    "        line=dict(width=2)\n",
    "    ))\n",
    "    \n",
    "    # News volume as scatter points\n",
    "    news_days = ticker_data[ticker_data['article_count'] > 0]\n",
    "    if len(news_days) > 0:\n",
    "        fig.add_trace(go.Scatter(\n",
    "            x=news_days['date_x'],  # Fixed: use 'date_x' instead of 'date'\n",
    "            y=news_days['close'],\n",
    "            mode='markers',\n",
    "            name=f'{ticker} News Days',\n",
    "            marker=dict(\n",
    "                size=news_days['article_count'] * 3,\n",
    "                opacity=0.6,\n",
    "                line=dict(width=1, color='white')\n",
    "            ),\n",
    "            text=news_days['article_count'],\n",
    "            hovertemplate='<b>%{fullData.name}</b><br>' +\n",
    "                         'Date: %{x}<br>' +\n",
    "                         'Price: $%{y:.2f}<br>' +\n",
    "                         'Articles: %{text}<br>' +\n",
    "                         '<extra></extra>'\n",
    "        ))\n",
    "\n",
    "fig.update_layout(\n",
    "    title='Stock Prices with News Volume Overlay<br><sub>Circle size represents number of articles</sub>',\n",
    "    xaxis_title='Date',\n",
    "    yaxis_title='Stock Price ($)',\n",
    "    hovermode='closest',\n",
    "    width=1000,\n",
    "    height=600\n",
    ")\n",
    "\n",
    "fig.show()"
   ]
  },
  {
   "cell_type": "code",
   "execution_count": null,
   "id": "c7cf7721",
   "metadata": {},
   "outputs": [
    {
     "name": "stdout",
     "output_type": "stream",
     "text": [
      "Merged dataframe columns:\n",
      "['date_x', 'ticker', 'open', 'high', 'low', 'close', 'volume', 'daily_return', 'log_return', 'date_only', 'date_y', 'article_count', 'headline_length', 'content_length']\n",
      "\n",
      "Dataframe shape: (308, 14)\n",
      "\n",
      "First few rows:\n"
     ]
    },
    {
     "data": {
      "application/vnd.microsoft.datawrangler.viewer.v0+json": {
       "columns": [
        {
         "name": "index",
         "rawType": "int64",
         "type": "integer"
        },
        {
         "name": "date_x",
         "rawType": "datetime64[ns]",
         "type": "datetime"
        },
        {
         "name": "ticker",
         "rawType": "object",
         "type": "string"
        },
        {
         "name": "open",
         "rawType": "float64",
         "type": "float"
        },
        {
         "name": "high",
         "rawType": "float64",
         "type": "float"
        },
        {
         "name": "low",
         "rawType": "float64",
         "type": "float"
        },
        {
         "name": "close",
         "rawType": "float64",
         "type": "float"
        },
        {
         "name": "volume",
         "rawType": "int64",
         "type": "integer"
        },
        {
         "name": "daily_return",
         "rawType": "float64",
         "type": "float"
        },
        {
         "name": "log_return",
         "rawType": "float64",
         "type": "float"
        },
        {
         "name": "date_only",
         "rawType": "object",
         "type": "unknown"
        },
        {
         "name": "date_y",
         "rawType": "object",
         "type": "unknown"
        },
        {
         "name": "article_count",
         "rawType": "float64",
         "type": "float"
        },
        {
         "name": "headline_length",
         "rawType": "float64",
         "type": "float"
        },
        {
         "name": "content_length",
         "rawType": "float64",
         "type": "float"
        }
       ],
       "ref": "1bface7e-3db2-4025-8498-44b492da77fc",
       "rows": [
        [
         "0",
         "2024-07-01 00:00:00",
         "AMD",
         "161.25",
         "161.50999450683594",
         "153.63999938964844",
         "157.69000244140625",
         "50436700",
         null,
         null,
         "2024-07-01",
         null,
         "0.0",
         "0.0",
         "0.0"
        ],
        [
         "1",
         "2024-07-02 00:00:00",
         "AMD",
         "157.0399932861328",
         "164.5800018310547",
         "156.6999969482422",
         "164.30999755859375",
         "57838600",
         "0.041981070547876476",
         "0.04112377670539136",
         "2024-07-02",
         null,
         "0.0",
         "0.0",
         "0.0"
        ],
        [
         "2",
         "2024-07-03 00:00:00",
         "AMD",
         "164.1999969482422",
         "165.25999450683594",
         "162.50999450683594",
         "163.89999389648438",
         "26980900",
         "-0.0024953056308284483",
         "-0.0024984240946839265",
         "2024-07-03",
         null,
         "0.0",
         "0.0",
         "0.0"
        ],
        [
         "3",
         "2024-07-05 00:00:00",
         "AMD",
         "165.97000122070312",
         "174.0399932861328",
         "165.67999267578125",
         "171.89999389648438",
         "61857100",
         "0.048810251970190066",
         "0.04765642837208617",
         "2024-07-05",
         null,
         "0.0",
         "0.0",
         "0.0"
        ],
        [
         "4",
         "2024-07-08 00:00:00",
         "AMD",
         "174.89999389648438",
         "178.9499969482422",
         "173.22000122070312",
         "178.69000244140625",
         "60223400",
         "0.039499760244382065",
         "0.03873959767076851",
         "2024-07-08",
         null,
         "0.0",
         "0.0",
         "0.0"
        ]
       ],
       "shape": {
        "columns": 14,
        "rows": 5
       }
      },
      "text/html": [
       "<div>\n",
       "<style scoped>\n",
       "    .dataframe tbody tr th:only-of-type {\n",
       "        vertical-align: middle;\n",
       "    }\n",
       "\n",
       "    .dataframe tbody tr th {\n",
       "        vertical-align: top;\n",
       "    }\n",
       "\n",
       "    .dataframe thead th {\n",
       "        text-align: right;\n",
       "    }\n",
       "</style>\n",
       "<table border=\"1\" class=\"dataframe\">\n",
       "  <thead>\n",
       "    <tr style=\"text-align: right;\">\n",
       "      <th></th>\n",
       "      <th>date_x</th>\n",
       "      <th>ticker</th>\n",
       "      <th>open</th>\n",
       "      <th>high</th>\n",
       "      <th>low</th>\n",
       "      <th>close</th>\n",
       "      <th>volume</th>\n",
       "      <th>daily_return</th>\n",
       "      <th>log_return</th>\n",
       "      <th>date_only</th>\n",
       "      <th>date_y</th>\n",
       "      <th>article_count</th>\n",
       "      <th>headline_length</th>\n",
       "      <th>content_length</th>\n",
       "    </tr>\n",
       "  </thead>\n",
       "  <tbody>\n",
       "    <tr>\n",
       "      <th>0</th>\n",
       "      <td>2024-07-01</td>\n",
       "      <td>AMD</td>\n",
       "      <td>161.250000</td>\n",
       "      <td>161.509995</td>\n",
       "      <td>153.639999</td>\n",
       "      <td>157.690002</td>\n",
       "      <td>50436700</td>\n",
       "      <td>NaN</td>\n",
       "      <td>NaN</td>\n",
       "      <td>2024-07-01</td>\n",
       "      <td>NaN</td>\n",
       "      <td>0.0</td>\n",
       "      <td>0.0</td>\n",
       "      <td>0.0</td>\n",
       "    </tr>\n",
       "    <tr>\n",
       "      <th>1</th>\n",
       "      <td>2024-07-02</td>\n",
       "      <td>AMD</td>\n",
       "      <td>157.039993</td>\n",
       "      <td>164.580002</td>\n",
       "      <td>156.699997</td>\n",
       "      <td>164.309998</td>\n",
       "      <td>57838600</td>\n",
       "      <td>0.041981</td>\n",
       "      <td>0.041124</td>\n",
       "      <td>2024-07-02</td>\n",
       "      <td>NaN</td>\n",
       "      <td>0.0</td>\n",
       "      <td>0.0</td>\n",
       "      <td>0.0</td>\n",
       "    </tr>\n",
       "    <tr>\n",
       "      <th>2</th>\n",
       "      <td>2024-07-03</td>\n",
       "      <td>AMD</td>\n",
       "      <td>164.199997</td>\n",
       "      <td>165.259995</td>\n",
       "      <td>162.509995</td>\n",
       "      <td>163.899994</td>\n",
       "      <td>26980900</td>\n",
       "      <td>-0.002495</td>\n",
       "      <td>-0.002498</td>\n",
       "      <td>2024-07-03</td>\n",
       "      <td>NaN</td>\n",
       "      <td>0.0</td>\n",
       "      <td>0.0</td>\n",
       "      <td>0.0</td>\n",
       "    </tr>\n",
       "    <tr>\n",
       "      <th>3</th>\n",
       "      <td>2024-07-05</td>\n",
       "      <td>AMD</td>\n",
       "      <td>165.970001</td>\n",
       "      <td>174.039993</td>\n",
       "      <td>165.679993</td>\n",
       "      <td>171.899994</td>\n",
       "      <td>61857100</td>\n",
       "      <td>0.048810</td>\n",
       "      <td>0.047656</td>\n",
       "      <td>2024-07-05</td>\n",
       "      <td>NaN</td>\n",
       "      <td>0.0</td>\n",
       "      <td>0.0</td>\n",
       "      <td>0.0</td>\n",
       "    </tr>\n",
       "    <tr>\n",
       "      <th>4</th>\n",
       "      <td>2024-07-08</td>\n",
       "      <td>AMD</td>\n",
       "      <td>174.899994</td>\n",
       "      <td>178.949997</td>\n",
       "      <td>173.220001</td>\n",
       "      <td>178.690002</td>\n",
       "      <td>60223400</td>\n",
       "      <td>0.039500</td>\n",
       "      <td>0.038740</td>\n",
       "      <td>2024-07-08</td>\n",
       "      <td>NaN</td>\n",
       "      <td>0.0</td>\n",
       "      <td>0.0</td>\n",
       "      <td>0.0</td>\n",
       "    </tr>\n",
       "  </tbody>\n",
       "</table>\n",
       "</div>"
      ],
      "text/plain": [
       "      date_x ticker        open        high         low       close    volume  \\\n",
       "0 2024-07-01    AMD  161.250000  161.509995  153.639999  157.690002  50436700   \n",
       "1 2024-07-02    AMD  157.039993  164.580002  156.699997  164.309998  57838600   \n",
       "2 2024-07-03    AMD  164.199997  165.259995  162.509995  163.899994  26980900   \n",
       "3 2024-07-05    AMD  165.970001  174.039993  165.679993  171.899994  61857100   \n",
       "4 2024-07-08    AMD  174.899994  178.949997  173.220001  178.690002  60223400   \n",
       "\n",
       "   daily_return  log_return   date_only date_y  article_count  \\\n",
       "0           NaN         NaN  2024-07-01    NaN            0.0   \n",
       "1      0.041981    0.041124  2024-07-02    NaN            0.0   \n",
       "2     -0.002495   -0.002498  2024-07-03    NaN            0.0   \n",
       "3      0.048810    0.047656  2024-07-05    NaN            0.0   \n",
       "4      0.039500    0.038740  2024-07-08    NaN            0.0   \n",
       "\n",
       "   headline_length  content_length  \n",
       "0              0.0             0.0  \n",
       "1              0.0             0.0  \n",
       "2              0.0             0.0  \n",
       "3              0.0             0.0  \n",
       "4              0.0             0.0  "
      ]
     },
     "metadata": {},
     "output_type": "display_data"
    }
   ],
   "source": [
    "# Check merged_df columns to fix the plotting issue\n",
    "print(\"Merged dataframe columns:\")\n",
    "print(list(merged_df.columns))\n",
    "print(f\"\\nDataframe shape: {merged_df.shape}\")\n",
    "print(f\"\\nFirst few rows:\")\n",
    "display(merged_df.head())"
   ]
  },
  {
   "cell_type": "code",
   "execution_count": null,
   "id": "43dd98a3",
   "metadata": {},
   "outputs": [
    {
     "name": "stdout",
     "output_type": "stream",
     "text": [
      "=== HEADLINE WORD ANALYSIS ===\n",
      "\n",
      "Top 20 words in headlines:\n",
      "reports: 5\n",
      "strong: 4\n",
      "revenue: 4\n",
      "stock: 4\n",
      "growth: 4\n",
      "asml: 3\n",
      "new: 3\n",
      "amd: 3\n",
      "uber: 3\n",
      "take: 2\n",
      "two: 2\n",
      "gaming: 2\n",
      "rises: 2\n",
      "richtech: 2\n",
      "robotics: 2\n",
      "expands: 2\n",
      "continues: 2\n",
      "vernova: 2\n",
      "energy: 2\n",
      "wins: 2\n"
     ]
    },
    {
     "data": {
      "image/png": "[encoded data removed]",
      "text/plain": [
       "<Figure size 1200x600 with 1 Axes>"
      ]
     },
     "metadata": {},
     "output_type": "display_data"
    }
   ],
   "source": [
    "# Word frequency analysis of headlines\n",
    "from collections import Counter\n",
    "import re\n",
    "\n",
    "print(\"=== HEADLINE WORD ANALYSIS ===\")\n",
    "\n",
    "# Extract words from headlines\n",
    "all_headlines = ' '.join(news_df['headline'].astype(str))\n",
    "words = re.findall(r'\\b\\w+\\b', all_headlines.lower())\n",
    "\n",
    "# Remove common stop words\n",
    "stop_words = {'the', 'a', 'an', 'and', 'or', 'but', 'in', 'on', 'at', 'to', 'for', 'of', 'with', 'by', 'as', 'is', 'are', 'was', 'were'}\n",
    "filtered_words = [word for word in words if word not in stop_words and len(word) > 2]\n",
    "\n",
    "# Count word frequencies\n",
    "word_freq = Counter(filtered_words)\n",
    "top_words = word_freq.most_common(20)\n",
    "\n",
    "print(\"\\nTop 20 words in headlines:\")\n",
    "for word, count in top_words:\n",
    "    print(f\"{word}: {count}\")\n",
    "\n",
    "# Plot word frequencies\n",
    "words_df = pd.DataFrame(top_words, columns=['word', 'frequency'])\n",
    "plt.figure(figsize=(12, 6))\n",
    "plt.barh(words_df['word'], words_df['frequency'], color='lightcoral')\n",
    "plt.title('Most Frequent Words in Headlines')\n",
    "plt.xlabel('Frequency')\n",
    "plt.gca().invert_yaxis()\n",
    "plt.tight_layout()\n",
    "plt.show()"
   ]
  },
  {
   "cell_type": "markdown",
   "id": "2c6eb136",
   "metadata": {},
   "source": [
    "## 7. Key Insights and Summary"
   ]
  },
  {
   "cell_type": "code",
   "execution_count": null,
   "id": "69523ee3",
   "metadata": {},
   "outputs": [
    {
     "name": "stdout",
     "output_type": "stream",
     "text": [
      "=== KEY INSIGHTS FROM DATA EXPLORATION ===\n",
      "\n",
      "1. DATA COVERAGE:\n",
      "   â€¢ Stock data: 3651 observations across 7 tickers\n",
      "   â€¢ News data: 3899 articles across 7 tickers\n",
      "   â€¢ Date range: 2022-01-03 to 2024-08-30\n",
      "\n",
      "2. DATA QUALITY:\n",
      "   â€¢ Stock data missing values: 0.87%\n",
      "   â€¢ News data missing values: 0.00%\n",
      "   â€¢ Data quality issues detected: 0 negative prices\n",
      "\n",
      "3. MARKET CHARACTERISTICS:\n",
      "   â€¢ Average daily return: 0.0008 (20.98% annualized)\n",
      "   â€¢ Average daily volatility: 0.0383 (60.79% annualized)\n",
      "\n",
      "4. NEWS COVERAGE:\n",
      "   â€¢ Days with news coverage: 4.5%\n",
      "   â€¢ Average articles per covered day: 1.0\n",
      "   â€¢ Most covered ticker: GD\n",
      "\n",
      "5. NEWS-STOCK RELATIONSHIPS:\n",
      "   â€¢ Average return on news days: 0.0220\n",
      "   â€¢ Average return on non-news days: 0.0034\n",
      "   â€¢ Volatility difference: 0.1187\n",
      "\n",
      "6. RECOMMENDATIONS FOR MODELING:\n",
      "   â€¢ Consider news volume as a feature (correlation with volatility)\n",
      "   â€¢ Implement sentiment analysis on headlines and content\n",
      "   â€¢ Use time-based features (day of week, market hours)\n",
      "   â€¢ Account for ticker-specific news patterns\n",
      "   â€¢ Consider lag effects of news on stock movements\n",
      "\n",
      "==================================================\n",
      "Data exploration completed successfully!\n",
      "Next step: Run notebook 02-preprocessing.ipynb\n",
      "==================================================\n"
     ]
    }
   ],
   "source": [
    "# Generate summary insights\n",
    "print(\"=== KEY INSIGHTS FROM DATA EXPLORATION ===\")\n",
    "\n",
    "print(\"\\n1. DATA COVERAGE:\")\n",
    "print(f\"   â€¢ Stock data: {len(stock_df)} observations across {stock_df['ticker'].nunique()} tickers\")\n",
    "print(f\"   â€¢ News data: {len(news_df)} articles across {news_df['ticker'].nunique()} tickers\")\n",
    "print(f\"   â€¢ Date range: {pd.to_datetime(stock_df['date']).min().date()} to {pd.to_datetime(stock_df['date']).max().date()}\")\n",
    "\n",
    "print(\"\\n2. DATA QUALITY:\")\n",
    "missing_stock_pct = stock_df.isnull().sum().sum() / (stock_df.shape[0] * stock_df.shape[1]) * 100\n",
    "missing_news_pct = news_df.isnull().sum().sum() / (news_df.shape[0] * news_df.shape[1]) * 100\n",
    "print(f\"   â€¢ Stock data missing values: {missing_stock_pct:.2f}%\")\n",
    "print(f\"   â€¢ News data missing values: {missing_news_pct:.2f}%\")\n",
    "print(f\"   â€¢ Data quality issues detected: {(stock_df[['open', 'high', 'low', 'close']] < 0).sum().sum()} negative prices\")\n",
    "\n",
    "print(\"\\n3. MARKET CHARACTERISTICS:\")\n",
    "avg_return = stock_df['daily_return'].mean()\n",
    "avg_volatility = stock_df['daily_return'].std()\n",
    "print(f\"   â€¢ Average daily return: {avg_return:.4f} ({avg_return*252:.2%} annualized)\")\n",
    "print(f\"   â€¢ Average daily volatility: {avg_volatility:.4f} ({avg_volatility*np.sqrt(252):.2%} annualized)\")\n",
    "\n",
    "print(\"\\n4. NEWS COVERAGE:\")\n",
    "news_coverage_pct = (merged_df['article_count'] > 0).mean() * 100\n",
    "avg_articles_per_day = merged_df[merged_df['article_count'] > 0]['article_count'].mean()\n",
    "print(f\"   â€¢ Days with news coverage: {news_coverage_pct:.1f}%\")\n",
    "print(f\"   â€¢ Average articles per covered day: {avg_articles_per_day:.1f}\")\n",
    "print(f\"   â€¢ Most covered ticker: {news_df['ticker'].value_counts().index[0]}\")\n",
    "\n",
    "print(\"\\n5. NEWS-STOCK RELATIONSHIPS:\")\n",
    "if len(with_news) > 0 and len(without_news) > 0:\n",
    "    print(f\"   â€¢ Average return on news days: {with_news.mean():.4f}\")\n",
    "    print(f\"   â€¢ Average return on non-news days: {without_news.mean():.4f}\")\n",
    "    print(f\"   â€¢ Volatility difference: {abs(with_news.std() - without_news.std()):.4f}\")\n",
    "\n",
    "print(\"\\n6. RECOMMENDATIONS FOR MODELING:\")\n",
    "print(\"   â€¢ Consider news volume as a feature (correlation with volatility)\")\n",
    "print(\"   â€¢ Implement sentiment analysis on headlines and content\")\n",
    "print(\"   â€¢ Use time-based features (day of week, market hours)\")\n",
    "print(\"   â€¢ Account for ticker-specific news patterns\")\n",
    "print(\"   â€¢ Consider lag effects of news on stock movements\")\n",
    "\n",
    "print(\"\\n\" + \"=\"*50)\n",
    "print(\"Data exploration completed successfully!\")\n",
    "print(\"Next step: Run notebook 02-preprocessing.ipynb\")\n",
    "print(\"=\"*50)"
   ]
  }
 ],
 "metadata": {
  "kernelspec": {
   "display_name": "Python 3",
   "language": "python",
   "name": "python3"
  },
  "language_info": {
   "codemirror_mode": {
    "name": "ipython",
    "version": 3
   },
   "file_extension": ".py",
   "mimetype": "text/x-python",
   "name": "python",
   "nbconvert_exporter": "python",
   "pygments_lexer": "ipython3",
   "version": "3.11.0"
  }
 },
 "nbformat": 4,
 "nbformat_minor": 5
}
